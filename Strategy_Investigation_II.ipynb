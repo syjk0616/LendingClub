{
 "cells": [
  {
   "cell_type": "markdown",
   "metadata": {},
   "source": [
    "## 7. Backtesting"
   ]
  },
  {
   "cell_type": "markdown",
   "metadata": {},
   "source": [
    "Since we didn't consider prepayment timing and monthly installment, this has not been a precise analysis. From this section, let's run the backtesting to see how our investment evolves over time, and what we can expect from our investment.\n",
    "\n",
    "We ran the backtest on the one year OOT data from 2016Q3 to 2017Q2. The fitted xgb classification model is used for prediction."
   ]
  },
  {
   "cell_type": "code",
   "execution_count": 11,
   "metadata": {},
   "outputs": [
    {
     "name": "stdout",
     "output_type": "stream",
     "text": [
      "The autoreload extension is already loaded. To reload it, use:\n",
      "  %reload_ext autoreload\n"
     ]
    }
   ],
   "source": [
    "import Data_Helper as DH\n",
    "import lendingclub\n",
    "import prediction\n",
    "import investment\n",
    "import backtester\n",
    "import numpy as np\n",
    "import pandas as pd\n",
    "import json\n",
    "import time\n",
    "import matplotlib.pyplot as plt\n",
    "import seaborn as sns\n",
    "import warnings\n",
    "warnings.filterwarnings('ignore')\n",
    "\n",
    "%matplotlib inline\n",
    "\n",
    "pd.options.mode.chained_assignment = None  # default='warn'\n",
    "%load_ext autoreload\n",
    "%autoreload 2"
   ]
  },
  {
   "cell_type": "code",
   "execution_count": 12,
   "metadata": {},
   "outputs": [],
   "source": [
    "# initialize config object\n",
    "config = lendingclub.ConfigData(\"config_data_dummy.ini\")\n",
    "\n",
    "# initialize lendingclup api object\n",
    "lc = lendingclub.LendingClub(config)\n",
    "\n",
    "# initialize data transformer\n",
    "transformer = DH.Transformer_full()\n",
    "\n",
    "# initialize DataHelper\n",
    "periodStart = (\"Q1\", \"2014\")\n",
    "periodEnd = (\"Q2\", \"2016\")\n",
    "DataHelper = DH.DataHelper(periodStart, periodEnd, transformer, lc)"
   ]
  },
  {
   "cell_type": "code",
   "execution_count": 13,
   "metadata": {},
   "outputs": [],
   "source": [
    "# set test data\n",
    "DataHelper.set_test_dataset([\"LoanStats_2016Q3.csv\", \"LoanStats_2016Q4.csv\", \n",
    "                             \"LoanStats_2017Q1.csv\", \"LoanStats_2017Q2.csv\"])"
   ]
  },
  {
   "cell_type": "code",
   "execution_count": 14,
   "metadata": {},
   "outputs": [],
   "source": [
    "# file name\n",
    "filename = \"xgb_classification_20190704.sav\""
   ]
  },
  {
   "cell_type": "code",
   "execution_count": 15,
   "metadata": {},
   "outputs": [
    {
     "name": "stdout",
     "output_type": "stream",
     "text": [
      "Model is loaded from xgb_classification_20190704.sav\n"
     ]
    },
    {
     "data": {
      "text/plain": [
       "'XGBoost Classification Object, time: 07/04/2019, eta: 0.01, num_rounds: 3651, max_depth: 6, subsample: 0.5'"
      ]
     },
     "execution_count": 15,
     "metadata": {},
     "output_type": "execute_result"
    }
   ],
   "source": [
    "# instantiate from beginning\n",
    "xgb = prediction.ModelXGBClassfication(filename)\n",
    "\n",
    "# update from the saved model\n",
    "xgb.set_model_from_file()\n",
    "\n",
    "# check model description\n",
    "xgb.model_description"
   ]
  },
  {
   "cell_type": "code",
   "execution_count": 16,
   "metadata": {},
   "outputs": [
    {
     "data": {
      "text/plain": [
       "<bound method XGBModel.get_params of XGBClassifier(base_score=0.5, booster='gbtree', colsample_bylevel=1,\n",
       "       colsample_bytree=0.7, gamma=0, learning_rate=0.01, max_delta_step=0,\n",
       "       max_depth=6, min_child_weight=1, missing=nan, n_estimators=3651,\n",
       "       n_jobs=8, nthread=None, objective='binary:logistic', random_state=0,\n",
       "       reg_alpha=0, reg_lambda=1, scale_pos_weight=1, seed=None,\n",
       "       silent=True, subsample=0.5)>"
      ]
     },
     "execution_count": 16,
     "metadata": {},
     "output_type": "execute_result"
    }
   ],
   "source": [
    "xgb.model.get_params"
   ]
  },
  {
   "cell_type": "markdown",
   "metadata": {},
   "source": [
    "### 7.1 Conservaitve Strategy"
   ]
  },
  {
   "cell_type": "markdown",
   "metadata": {},
   "source": [
    "The first strategy we tried is the simple one which cuts the investment by the model score. Based on the test result, we can expect 3.66% anualized return if invest USD 10k. With USD 30k, it can be 4.06%. As expected, most of our investments focused on the A1 grade loans. So our profit of this investments mainly comes from the low default rate and rolling of the money. "
   ]
  },
  {
   "cell_type": "code",
   "execution_count": 21,
   "metadata": {},
   "outputs": [
    {
     "name": "stdout",
     "output_type": "stream",
     "text": [
      "This strategy chooses loans basaed on the simple score cut. In other words, it only invests to the loans with the model scores lower than the cut. It further filters out the selected loan by FICO score.\n"
     ]
    }
   ],
   "source": [
    "strat = investment.StrategyClassSimple(xgb)\n",
    "print(strat.description())"
   ]
  },
  {
   "cell_type": "code",
   "execution_count": 22,
   "metadata": {},
   "outputs": [],
   "source": [
    "opt = investment.StrategyOptimizer(DataHelper, xgb, strat)"
   ]
  },
  {
   "cell_type": "code",
   "execution_count": 23,
   "metadata": {},
   "outputs": [],
   "source": [
    "initial = 10000\n",
    "cuts = [0.01, 0.015, 0.02, 0.025, 0.03, 0.035, 0.04, 0.045, 0.05]"
   ]
  },
  {
   "cell_type": "code",
   "execution_count": 24,
   "metadata": {
    "scrolled": false
   },
   "outputs": [
    {
     "data": {
      "image/png": "[encoded data removed]",
      "text/plain": [
       "<Figure size 720x576 with 1 Axes>"
      ]
     },
     "metadata": {
      "needs_background": "light"
     },
     "output_type": "display_data"
    },
    {
     "data": {
      "text/plain": [
       "[0.027266222947131526,\n",
       " 0.03663349229485031,\n",
       " 0.035720779371761706,\n",
       " 0.03559863286283649,\n",
       " 0.03611565060383603,\n",
       " 0.03611565060383603,\n",
       " 0.03611565060383603,\n",
       " 0.03611565060383603,\n",
       " 0.03611565060383603]"
      ]
     },
     "execution_count": 24,
     "metadata": {},
     "output_type": "execute_result"
    }
   ],
   "source": [
    "profits = opt.opt_cut_conserv(cuts, initial)\n",
    "profits"
   ]
  },
  {
   "cell_type": "code",
   "execution_count": 11,
   "metadata": {},
   "outputs": [],
   "source": [
    "initials = np.array(range(1,7)) * 5000\n",
    "cuts = [0.02, 0.025, 0.03, 0.035, 0.04, 0.045, 0.05, 0.055, 0.06, 0.065, 0.07]"
   ]
  },
  {
   "cell_type": "code",
   "execution_count": 12,
   "metadata": {
    "scrolled": false
   },
   "outputs": [
    {
     "data": {
      "image/png": "[encoded data removed]",
      "text/plain": [
       "<Figure size 720x576 with 1 Axes>"
      ]
     },
     "metadata": {
      "needs_background": "light"
     },
     "output_type": "display_data"
    },
    {
     "data": {
      "text/plain": [
       "[{'initialInvest': 5000, 'cut': 0.02, 'return': 0.037899778263759384},\n",
       " {'initialInvest': 10000, 'cut': 0.03, 'return': 0.03611565060383603},\n",
       " {'initialInvest': 15000, 'cut': 0.035, 'return': 0.03755416475953966},\n",
       " {'initialInvest': 20000, 'cut': 0.04, 'return': 0.03870881733651747},\n",
       " {'initialInvest': 25000, 'cut': 0.045, 'return': 0.04050190752505754},\n",
       " {'initialInvest': 30000, 'cut': 0.045, 'return': 0.04066188178959241}]"
      ]
     },
     "execution_count": 12,
     "metadata": {},
     "output_type": "execute_result"
    }
   ],
   "source": [
    "profits = opt.opt_seed_conserv(cuts, initials)\n",
    "profits"
   ]
  },
  {
   "cell_type": "markdown",
   "metadata": {},
   "source": [
    "### 7.2 Aggresive Strategy"
   ]
  },
  {
   "cell_type": "markdown",
   "metadata": {},
   "source": [
    "3.6% is not too bad, but we can probably do better by simply improving the investment strategy, not the prediction model. So let's explore other strategies here. For the first, we tried the strategy taking risk slightly more agressively, which invest based on the expected return."
   ]
  },
  {
   "cell_type": "code",
   "execution_count": 54,
   "metadata": {},
   "outputs": [
    {
     "name": "stdout",
     "output_type": "stream",
     "text": [
      "This strategy chooses loans basaed on the expected payoff. The expected payoff is calculated by the interest rate minus the model score. If the calculated expected payoff is greater than the predefined cut, then it selects a loan. It further filters out the selected loan by FICO score and the loan grade.\n"
     ]
    }
   ],
   "source": [
    "strat = investment.StrategyClassComplex(xgb)\n",
    "print(strat.description())"
   ]
  },
  {
   "cell_type": "code",
   "execution_count": 55,
   "metadata": {},
   "outputs": [],
   "source": [
    "opt = investment.StrategyOptimizer(DataHelper, xgb, strat)"
   ]
  },
  {
   "cell_type": "markdown",
   "metadata": {},
   "source": [
    "Based on the backtesting results, if we invest USD 10K, then we can expect 5.98% when we limit the loans above expected resutn 0.1 and below \"C2\" grade. This is reasonable profit."
   ]
  },
  {
   "cell_type": "code",
   "execution_count": 56,
   "metadata": {},
   "outputs": [
    {
     "data": {
      "image/png": "[encoded data removed]",
      "text/plain": [
       "<Figure size 720x576 with 2 Axes>"
      ]
     },
     "metadata": {
      "needs_background": "light"
     },
     "output_type": "display_data"
    },
    {
     "data": {
      "text/html": [
       "<div>\n",
       "<style scoped>\n",
       "    .dataframe tbody tr th:only-of-type {\n",
       "        vertical-align: middle;\n",
       "    }\n",
       "\n",
       "    .dataframe tbody tr th {\n",
       "        vertical-align: top;\n",
       "    }\n",
       "\n",
       "    .dataframe thead th {\n",
       "        text-align: right;\n",
       "    }\n",
       "</style>\n",
       "<table border=\"1\" class=\"dataframe\">\n",
       "  <thead>\n",
       "    <tr style=\"text-align: right;\">\n",
       "      <th></th>\n",
       "      <th>B1</th>\n",
       "      <th>B2</th>\n",
       "      <th>B3</th>\n",
       "      <th>B4</th>\n",
       "      <th>B5</th>\n",
       "      <th>C1</th>\n",
       "      <th>C2</th>\n",
       "      <th>C3</th>\n",
       "      <th>C4</th>\n",
       "      <th>C5</th>\n",
       "    </tr>\n",
       "  </thead>\n",
       "  <tbody>\n",
       "    <tr>\n",
       "      <th>0.05</th>\n",
       "      <td>0.046757</td>\n",
       "      <td>0.046488</td>\n",
       "      <td>0.052236</td>\n",
       "      <td>0.051169</td>\n",
       "      <td>0.052945</td>\n",
       "      <td>0.053298</td>\n",
       "      <td>0.059871</td>\n",
       "      <td>0.058351</td>\n",
       "      <td>0.052739</td>\n",
       "      <td>0.053493</td>\n",
       "    </tr>\n",
       "    <tr>\n",
       "      <th>0.10</th>\n",
       "      <td>0.027176</td>\n",
       "      <td>0.043353</td>\n",
       "      <td>0.052713</td>\n",
       "      <td>0.054116</td>\n",
       "      <td>0.054553</td>\n",
       "      <td>0.054653</td>\n",
       "      <td>0.059871</td>\n",
       "      <td>0.058351</td>\n",
       "      <td>0.052739</td>\n",
       "      <td>0.053493</td>\n",
       "    </tr>\n",
       "    <tr>\n",
       "      <th>0.15</th>\n",
       "      <td>0.000000</td>\n",
       "      <td>0.000000</td>\n",
       "      <td>0.000000</td>\n",
       "      <td>0.000000</td>\n",
       "      <td>0.017206</td>\n",
       "      <td>0.019085</td>\n",
       "      <td>0.021954</td>\n",
       "      <td>0.024019</td>\n",
       "      <td>0.025963</td>\n",
       "      <td>0.033458</td>\n",
       "    </tr>\n",
       "    <tr>\n",
       "      <th>0.20</th>\n",
       "      <td>0.000000</td>\n",
       "      <td>0.000000</td>\n",
       "      <td>0.000000</td>\n",
       "      <td>0.000000</td>\n",
       "      <td>0.000000</td>\n",
       "      <td>0.000000</td>\n",
       "      <td>0.000000</td>\n",
       "      <td>0.000000</td>\n",
       "      <td>0.000000</td>\n",
       "      <td>0.000000</td>\n",
       "    </tr>\n",
       "    <tr>\n",
       "      <th>0.25</th>\n",
       "      <td>0.000000</td>\n",
       "      <td>0.000000</td>\n",
       "      <td>0.000000</td>\n",
       "      <td>0.000000</td>\n",
       "      <td>0.000000</td>\n",
       "      <td>0.000000</td>\n",
       "      <td>0.000000</td>\n",
       "      <td>0.000000</td>\n",
       "      <td>0.000000</td>\n",
       "      <td>0.000000</td>\n",
       "    </tr>\n",
       "    <tr>\n",
       "      <th>0.30</th>\n",
       "      <td>0.000000</td>\n",
       "      <td>0.000000</td>\n",
       "      <td>0.000000</td>\n",
       "      <td>0.000000</td>\n",
       "      <td>0.000000</td>\n",
       "      <td>0.000000</td>\n",
       "      <td>0.000000</td>\n",
       "      <td>0.000000</td>\n",
       "      <td>0.000000</td>\n",
       "      <td>0.000000</td>\n",
       "    </tr>\n",
       "    <tr>\n",
       "      <th>0.35</th>\n",
       "      <td>0.000000</td>\n",
       "      <td>0.000000</td>\n",
       "      <td>0.000000</td>\n",
       "      <td>0.000000</td>\n",
       "      <td>0.000000</td>\n",
       "      <td>0.000000</td>\n",
       "      <td>0.000000</td>\n",
       "      <td>0.000000</td>\n",
       "      <td>0.000000</td>\n",
       "      <td>0.000000</td>\n",
       "    </tr>\n",
       "  </tbody>\n",
       "</table>\n",
       "</div>"
      ],
      "text/plain": [
       "            B1        B2        B3        B4        B5        C1        C2  \\\n",
       "0.05  0.046757  0.046488  0.052236  0.051169  0.052945  0.053298  0.059871   \n",
       "0.10  0.027176  0.043353  0.052713  0.054116  0.054553  0.054653  0.059871   \n",
       "0.15  0.000000  0.000000  0.000000  0.000000  0.017206  0.019085  0.021954   \n",
       "0.20  0.000000  0.000000  0.000000  0.000000  0.000000  0.000000  0.000000   \n",
       "0.25  0.000000  0.000000  0.000000  0.000000  0.000000  0.000000  0.000000   \n",
       "0.30  0.000000  0.000000  0.000000  0.000000  0.000000  0.000000  0.000000   \n",
       "0.35  0.000000  0.000000  0.000000  0.000000  0.000000  0.000000  0.000000   \n",
       "\n",
       "            C3        C4        C5  \n",
       "0.05  0.058351  0.052739  0.053493  \n",
       "0.10  0.058351  0.052739  0.053493  \n",
       "0.15  0.024019  0.025963  0.033458  \n",
       "0.20  0.000000  0.000000  0.000000  \n",
       "0.25  0.000000  0.000000  0.000000  \n",
       "0.30  0.000000  0.000000  0.000000  \n",
       "0.35  0.000000  0.000000  0.000000  "
      ]
     },
     "execution_count": 56,
     "metadata": {},
     "output_type": "execute_result"
    }
   ],
   "source": [
    "initial = 10000\n",
    "grades = [\"B1\", \"B2\", \"B3\", \"B4\", \"B5\", \"C1\", \"C2\", \"C3\", \"C4\", \"C5\"]\n",
    "cuts = [0.05, 0.1, 0.15, 0.2, 0.25, 0.3, 0.35]\n",
    "\n",
    "profits = opt.opt_cut_aggr(cuts, grades, initial, plot=True)\n",
    "profits"
   ]
  },
  {
   "cell_type": "markdown",
   "metadata": {},
   "source": [
    "Let's explore further, whether we can get the better return if we invest more. The best parameter still remains at 0.1 and \"C2\" (or \"C3\" with minor difference). The reason of dereasing profit is due to the holding period. If we look at the investment amounts by month, entire funding cannot invested at first month if funding is larger than 10000. This is why the profit seems to be deteriorated (due to additional discounting). In other words, this does not inndicate the deteriorate of strategy. If we run the strategy long enough, than the difference will be faded out. "
   ]
  },
  {
   "cell_type": "code",
   "execution_count": 58,
   "metadata": {
    "scrolled": false
   },
   "outputs": [
    {
     "name": "stdout",
     "output_type": "stream",
     "text": [
      "10000\n"
     ]
    },
    {
     "data": {
      "image/png": "[encoded data removed]",
      "text/plain": [
       "<Figure size 720x576 with 2 Axes>"
      ]
     },
     "metadata": {
      "needs_background": "light"
     },
     "output_type": "display_data"
    },
    {
     "name": "stdout",
     "output_type": "stream",
     "text": [
      "20000\n"
     ]
    },
    {
     "data": {
      "image/png": "[encoded data removed]",
      "text/plain": [
       "<Figure size 720x576 with 2 Axes>"
      ]
     },
     "metadata": {
      "needs_background": "light"
     },
     "output_type": "display_data"
    },
    {
     "name": "stdout",
     "output_type": "stream",
     "text": [
      "30000\n"
     ]
    },
    {
     "data": {
      "image/png": "[encoded data removed]",
      "text/plain": [
       "<Figure size 720x576 with 2 Axes>"
      ]
     },
     "metadata": {
      "needs_background": "light"
     },
     "output_type": "display_data"
    },
    {
     "data": {
      "text/plain": [
       "[{'return': 0.059871029507463015,\n",
       "  'initialInvest': 10000,\n",
       "  'grade': 'C2',\n",
       "  'cut': 0.05},\n",
       " {'return': 0.05706998984005257,\n",
       "  'initialInvest': 20000,\n",
       "  'grade': 'C2',\n",
       "  'cut': 0.1},\n",
       " {'return': 0.05347915814058515,\n",
       "  'initialInvest': 30000,\n",
       "  'grade': 'C3',\n",
       "  'cut': 0.1}]"
      ]
     },
     "execution_count": 58,
     "metadata": {},
     "output_type": "execute_result"
    }
   ],
   "source": [
    "initials = np.array(range(1,4)) * 10000\n",
    "grades = [\"B4\", \"B5\", \"C1\", \"C2\", \"C3\", \"C4\", \"C5\"]\n",
    "cuts = [0.05, 0.075, 0.1, 0.125, 0.15, 0.175, 0.2, 0.225]\n",
    "\n",
    "profits = opt.opt_seed_aggr(cuts, grades, initials, plot=True)\n",
    "profits"
   ]
  },
  {
   "cell_type": "code",
   "execution_count": 68,
   "metadata": {},
   "outputs": [
    {
     "data": {
      "image/png": "[encoded data removed]",
      "text/plain": [
       "<Figure size 720x576 with 1 Axes>"
      ]
     },
     "metadata": {
      "needs_background": "light"
     },
     "output_type": "display_data"
    }
   ],
   "source": [
    "plt.figure(figsize=(10,8))\n",
    "seeds = [10000, 20000, 30000]\n",
    "for seed in seeds:\n",
    "    strat.cut = 0.1\n",
    "    strat.grade = \"C2\"\n",
    "    tester = backtester.Backtester(DataHelper, xgb, strat, 1)\n",
    "    tester.initialInvest = seed\n",
    "    total, C, l, profit = tester.backtest(DataHelper.test, returnAll = True)\n",
    "    plt.plot(l)\n",
    "\n",
    "plt.legend([\"initial:{}\".format(x) for x in seeds], loc='upper right')\n",
    "plt.show()"
   ]
  },
  {
   "cell_type": "code",
   "execution_count": 73,
   "metadata": {},
   "outputs": [
    {
     "data": {
      "text/html": [
       "<div>\n",
       "<style scoped>\n",
       "    .dataframe tbody tr th:only-of-type {\n",
       "        vertical-align: middle;\n",
       "    }\n",
       "\n",
       "    .dataframe tbody tr th {\n",
       "        vertical-align: top;\n",
       "    }\n",
       "\n",
       "    .dataframe thead th {\n",
       "        text-align: right;\n",
       "    }\n",
       "</style>\n",
       "<table border=\"1\" class=\"dataframe\">\n",
       "  <thead>\n",
       "    <tr style=\"text-align: right;\">\n",
       "      <th></th>\n",
       "      <th>bad_loan</th>\n",
       "      <th>count</th>\n",
       "      <th>rate</th>\n",
       "    </tr>\n",
       "    <tr>\n",
       "      <th>sub_grade</th>\n",
       "      <th></th>\n",
       "      <th></th>\n",
       "      <th></th>\n",
       "    </tr>\n",
       "  </thead>\n",
       "  <tbody>\n",
       "    <tr>\n",
       "      <th>A3</th>\n",
       "      <td>0.0</td>\n",
       "      <td>4</td>\n",
       "      <td>0.000000</td>\n",
       "    </tr>\n",
       "    <tr>\n",
       "      <th>A4</th>\n",
       "      <td>0.0</td>\n",
       "      <td>6</td>\n",
       "      <td>0.000000</td>\n",
       "    </tr>\n",
       "    <tr>\n",
       "      <th>A5</th>\n",
       "      <td>0.0</td>\n",
       "      <td>30</td>\n",
       "      <td>0.000000</td>\n",
       "    </tr>\n",
       "    <tr>\n",
       "      <th>B1</th>\n",
       "      <td>3.0</td>\n",
       "      <td>45</td>\n",
       "      <td>0.066667</td>\n",
       "    </tr>\n",
       "    <tr>\n",
       "      <th>B2</th>\n",
       "      <td>8.0</td>\n",
       "      <td>126</td>\n",
       "      <td>0.063492</td>\n",
       "    </tr>\n",
       "    <tr>\n",
       "      <th>B3</th>\n",
       "      <td>13.0</td>\n",
       "      <td>296</td>\n",
       "      <td>0.043919</td>\n",
       "    </tr>\n",
       "    <tr>\n",
       "      <th>B4</th>\n",
       "      <td>25.0</td>\n",
       "      <td>319</td>\n",
       "      <td>0.078370</td>\n",
       "    </tr>\n",
       "    <tr>\n",
       "      <th>B5</th>\n",
       "      <td>24.0</td>\n",
       "      <td>324</td>\n",
       "      <td>0.074074</td>\n",
       "    </tr>\n",
       "    <tr>\n",
       "      <th>C1</th>\n",
       "      <td>34.0</td>\n",
       "      <td>430</td>\n",
       "      <td>0.079070</td>\n",
       "    </tr>\n",
       "    <tr>\n",
       "      <th>C2</th>\n",
       "      <td>45.0</td>\n",
       "      <td>455</td>\n",
       "      <td>0.098901</td>\n",
       "    </tr>\n",
       "  </tbody>\n",
       "</table>\n",
       "</div>"
      ],
      "text/plain": [
       "           bad_loan  count      rate\n",
       "sub_grade                           \n",
       "A3              0.0      4  0.000000\n",
       "A4              0.0      6  0.000000\n",
       "A5              0.0     30  0.000000\n",
       "B1              3.0     45  0.066667\n",
       "B2              8.0    126  0.063492\n",
       "B3             13.0    296  0.043919\n",
       "B4             25.0    319  0.078370\n",
       "B5             24.0    324  0.074074\n",
       "C1             34.0    430  0.079070\n",
       "C2             45.0    455  0.098901"
      ]
     },
     "execution_count": 73,
     "metadata": {},
     "output_type": "execute_result"
    }
   ],
   "source": [
    "summary = total[[\"sub_grade\", \"bad_loan\"]].groupby([\"sub_grade\"]).agg(\"sum\")\n",
    "summary[\"count\"] = total[[\"sub_grade\", \"int_rate\"]].groupby([\"sub_grade\"]).agg(\"count\")\n",
    "summary[\"rate\"] = summary[\"bad_loan\"]/summary[\"count\"]\n",
    "summary"
   ]
  },
  {
   "cell_type": "markdown",
   "metadata": {},
   "source": [
    "## Aggressive Strategy with adjusted amounts"
   ]
  },
  {
   "cell_type": "markdown",
   "metadata": {},
   "source": [
    "Can we do better? We can probably increase the profit by adjusting investment amounts for each loan based on the expected retrn. Let's explore the strategy here. We will stick to the parameter 0.1 and \"C2\". However, we will adjust invest amount by using logistic function on expected return. The slope and maximum of the function will be finetuned through backtesting.\n",
    "\n",
    "It marginally increases the profits. However, it also added large uncertainty, since the optimal parameters shifted a lot depending on the initial amount invested. Therefore, adjusting amounts does not seem to be necessary in our strategy."
   ]
  },
  {
   "cell_type": "code",
   "execution_count": 7,
   "metadata": {},
   "outputs": [
    {
     "name": "stdout",
     "output_type": "stream",
     "text": [
      "This strategy chooses loans basaed on the expected payoff. The expected payoff is calculated by the interest rate minus the model score. If the calculated expected payoff is greater than the predefined cut, then it selects a loan. It also increase the invest amount for each loan based on the payoff. It further filters out the selected loan by FICO score and the loan grade.\n"
     ]
    }
   ],
   "source": [
    "strat = investment.StrategyClassComplexII(xgb)\n",
    "print(strat.description())"
   ]
  },
  {
   "cell_type": "code",
   "execution_count": 8,
   "metadata": {},
   "outputs": [],
   "source": [
    "opt = investment.StrategyOptimizer(DataHelper, xgb, strat)"
   ]
  },
  {
   "cell_type": "code",
   "execution_count": 9,
   "metadata": {},
   "outputs": [
    {
     "data": {
      "image/png": "[encoded data removed]",
      "text/plain": [
       "<Figure size 720x576 with 2 Axes>"
      ]
     },
     "metadata": {
      "needs_background": "light"
     },
     "output_type": "display_data"
    },
    {
     "data": {
      "text/html": [
       "<div>\n",
       "<style scoped>\n",
       "    .dataframe tbody tr th:only-of-type {\n",
       "        vertical-align: middle;\n",
       "    }\n",
       "\n",
       "    .dataframe tbody tr th {\n",
       "        vertical-align: top;\n",
       "    }\n",
       "\n",
       "    .dataframe thead th {\n",
       "        text-align: right;\n",
       "    }\n",
       "</style>\n",
       "<table border=\"1\" class=\"dataframe\">\n",
       "  <thead>\n",
       "    <tr style=\"text-align: right;\">\n",
       "      <th></th>\n",
       "      <th>2</th>\n",
       "      <th>3</th>\n",
       "      <th>4</th>\n",
       "      <th>5</th>\n",
       "      <th>6</th>\n",
       "      <th>7</th>\n",
       "    </tr>\n",
       "  </thead>\n",
       "  <tbody>\n",
       "    <tr>\n",
       "      <th>2</th>\n",
       "      <td>0.059871</td>\n",
       "      <td>0.059871</td>\n",
       "      <td>0.059871</td>\n",
       "      <td>0.059871</td>\n",
       "      <td>0.059871</td>\n",
       "      <td>0.059871</td>\n",
       "    </tr>\n",
       "    <tr>\n",
       "      <th>3</th>\n",
       "      <td>0.059871</td>\n",
       "      <td>0.059871</td>\n",
       "      <td>0.059871</td>\n",
       "      <td>0.059871</td>\n",
       "      <td>0.059871</td>\n",
       "      <td>0.059871</td>\n",
       "    </tr>\n",
       "    <tr>\n",
       "      <th>4</th>\n",
       "      <td>0.059871</td>\n",
       "      <td>0.059871</td>\n",
       "      <td>0.059871</td>\n",
       "      <td>0.059871</td>\n",
       "      <td>0.059871</td>\n",
       "      <td>0.059884</td>\n",
       "    </tr>\n",
       "    <tr>\n",
       "      <th>5</th>\n",
       "      <td>0.059871</td>\n",
       "      <td>0.059871</td>\n",
       "      <td>0.059871</td>\n",
       "      <td>0.059877</td>\n",
       "      <td>0.060009</td>\n",
       "      <td>0.059462</td>\n",
       "    </tr>\n",
       "    <tr>\n",
       "      <th>6</th>\n",
       "      <td>0.059871</td>\n",
       "      <td>0.059871</td>\n",
       "      <td>0.059871</td>\n",
       "      <td>0.060009</td>\n",
       "      <td>0.059484</td>\n",
       "      <td>0.059802</td>\n",
       "    </tr>\n",
       "    <tr>\n",
       "      <th>7</th>\n",
       "      <td>0.059871</td>\n",
       "      <td>0.059871</td>\n",
       "      <td>0.059884</td>\n",
       "      <td>0.059467</td>\n",
       "      <td>0.059802</td>\n",
       "      <td>0.059676</td>\n",
       "    </tr>\n",
       "  </tbody>\n",
       "</table>\n",
       "</div>"
      ],
      "text/plain": [
       "          2         3         4         5         6         7\n",
       "2  0.059871  0.059871  0.059871  0.059871  0.059871  0.059871\n",
       "3  0.059871  0.059871  0.059871  0.059871  0.059871  0.059871\n",
       "4  0.059871  0.059871  0.059871  0.059871  0.059871  0.059884\n",
       "5  0.059871  0.059871  0.059871  0.059877  0.060009  0.059462\n",
       "6  0.059871  0.059871  0.059871  0.060009  0.059484  0.059802\n",
       "7  0.059871  0.059871  0.059884  0.059467  0.059802  0.059676"
      ]
     },
     "execution_count": 9,
     "metadata": {},
     "output_type": "execute_result"
    }
   ],
   "source": [
    "initial = 10000\n",
    "slopes = list(range(2,8))\n",
    "maxs = list(range(2,8))\n",
    "\n",
    "profits = opt.opt_amountfunc_aggr(slopes, maxs, 0.1, \"C2\", initial, plot=True)\n",
    "profits"
   ]
  },
  {
   "cell_type": "code",
   "execution_count": 10,
   "metadata": {},
   "outputs": [
    {
     "data": {
      "image/png": "[encoded data removed]",
      "text/plain": [
       "<Figure size 720x576 with 2 Axes>"
      ]
     },
     "metadata": {
      "needs_background": "light"
     },
     "output_type": "display_data"
    },
    {
     "data": {
      "text/html": [
       "<div>\n",
       "<style scoped>\n",
       "    .dataframe tbody tr th:only-of-type {\n",
       "        vertical-align: middle;\n",
       "    }\n",
       "\n",
       "    .dataframe tbody tr th {\n",
       "        vertical-align: top;\n",
       "    }\n",
       "\n",
       "    .dataframe thead th {\n",
       "        text-align: right;\n",
       "    }\n",
       "</style>\n",
       "<table border=\"1\" class=\"dataframe\">\n",
       "  <thead>\n",
       "    <tr style=\"text-align: right;\">\n",
       "      <th></th>\n",
       "      <th>2</th>\n",
       "      <th>3</th>\n",
       "      <th>4</th>\n",
       "      <th>5</th>\n",
       "      <th>6</th>\n",
       "      <th>7</th>\n",
       "    </tr>\n",
       "  </thead>\n",
       "  <tbody>\n",
       "    <tr>\n",
       "      <th>2</th>\n",
       "      <td>0.052977</td>\n",
       "      <td>0.052977</td>\n",
       "      <td>0.052977</td>\n",
       "      <td>0.052977</td>\n",
       "      <td>0.052977</td>\n",
       "      <td>0.052977</td>\n",
       "    </tr>\n",
       "    <tr>\n",
       "      <th>3</th>\n",
       "      <td>0.052977</td>\n",
       "      <td>0.052977</td>\n",
       "      <td>0.052977</td>\n",
       "      <td>0.052977</td>\n",
       "      <td>0.052977</td>\n",
       "      <td>0.052977</td>\n",
       "    </tr>\n",
       "    <tr>\n",
       "      <th>4</th>\n",
       "      <td>0.052977</td>\n",
       "      <td>0.052977</td>\n",
       "      <td>0.052977</td>\n",
       "      <td>0.052977</td>\n",
       "      <td>0.052977</td>\n",
       "      <td>0.052970</td>\n",
       "    </tr>\n",
       "    <tr>\n",
       "      <th>5</th>\n",
       "      <td>0.052977</td>\n",
       "      <td>0.052977</td>\n",
       "      <td>0.052977</td>\n",
       "      <td>0.052979</td>\n",
       "      <td>0.053137</td>\n",
       "      <td>0.053132</td>\n",
       "    </tr>\n",
       "    <tr>\n",
       "      <th>6</th>\n",
       "      <td>0.052977</td>\n",
       "      <td>0.052977</td>\n",
       "      <td>0.052977</td>\n",
       "      <td>0.053137</td>\n",
       "      <td>0.053139</td>\n",
       "      <td>0.053148</td>\n",
       "    </tr>\n",
       "    <tr>\n",
       "      <th>7</th>\n",
       "      <td>0.052977</td>\n",
       "      <td>0.052977</td>\n",
       "      <td>0.052970</td>\n",
       "      <td>0.053134</td>\n",
       "      <td>0.053148</td>\n",
       "      <td>0.053114</td>\n",
       "    </tr>\n",
       "  </tbody>\n",
       "</table>\n",
       "</div>"
      ],
      "text/plain": [
       "          2         3         4         5         6         7\n",
       "2  0.052977  0.052977  0.052977  0.052977  0.052977  0.052977\n",
       "3  0.052977  0.052977  0.052977  0.052977  0.052977  0.052977\n",
       "4  0.052977  0.052977  0.052977  0.052977  0.052977  0.052970\n",
       "5  0.052977  0.052977  0.052977  0.052979  0.053137  0.053132\n",
       "6  0.052977  0.052977  0.052977  0.053137  0.053139  0.053148\n",
       "7  0.052977  0.052977  0.052970  0.053134  0.053148  0.053114"
      ]
     },
     "execution_count": 10,
     "metadata": {},
     "output_type": "execute_result"
    }
   ],
   "source": [
    "initial = 30000\n",
    "slopes = list(range(2,8))\n",
    "maxs = list(range(2,8))\n",
    "\n",
    "profits = opt.opt_amountfunc_aggr(slopes, maxs, 0.1, \"C2\", initial, plot=True)\n",
    "profits"
   ]
  },
  {
   "cell_type": "markdown",
   "metadata": {},
   "source": [
    "Until here, let's run"
   ]
  },
  {
   "cell_type": "code",
   "execution_count": 11,
   "metadata": {},
   "outputs": [],
   "source": [
    "strat.amount_slope = 6\n",
    "strat.amount_max = 5\n",
    "strat.cut = 0.1\n",
    "strat.grade = \"C2\"\n",
    "\n",
    "tester = backtester.Backtester(DataHelper, xgb, strat, 1)\n",
    "tester.initialInvest = 10000\n",
    "total, C, l, profit = tester.backtest(DataHelper.test, returnAll = True)\n",
    "\n",
    " # sort by expected payoff\n",
    "int_rate = total[\"int_rate\"] / 12\n",
    "int_rate = np.array([sum(x * np.array([1-i*1/36 for i in range(0, 36)])) for x in int_rate])\n",
    "expected = int_rate - total[\"score\"]\n",
    "expected = np.sort(expected)"
   ]
  },
  {
   "cell_type": "code",
   "execution_count": 12,
   "metadata": {},
   "outputs": [
    {
     "data": {
      "text/plain": [
       "[<matplotlib.lines.Line2D at 0x7fe9a09d5668>]"
      ]
     },
     "execution_count": 12,
     "metadata": {},
     "output_type": "execute_result"
    },
    {
     "data": {
      "image/png": "[encoded data removed]",
      "text/plain": [
       "<Figure size 432x288 with 1 Axes>"
      ]
     },
     "metadata": {
      "needs_background": "light"
     },
     "output_type": "display_data"
    }
   ],
   "source": [
    "amounts = strat.amounts_func(expected)\n",
    "plt.plot(expected, amounts)"
   ]
  },
  {
   "cell_type": "code",
   "execution_count": 13,
   "metadata": {},
   "outputs": [],
   "source": [
    "strat.amount_slope = 7\n",
    "strat.amount_max = 6\n",
    "strat.cut = 0.1\n",
    "strat.grade = \"C2\"\n",
    "\n",
    "tester = backtester.Backtester(DataHelper, xgb, strat, 1)\n",
    "tester.initialInvest = 30000\n",
    "total, C, l, profit = tester.backtest(DataHelper.test, returnAll = True)\n",
    "\n",
    " # sort by expected payoff\n",
    "int_rate = total[\"int_rate\"] / 12\n",
    "int_rate = np.array([sum(x * np.array([1-i*1/36 for i in range(0, 36)])) for x in int_rate])\n",
    "expected = int_rate - total[\"score\"]\n",
    "expected = np.sort(expected)"
   ]
  },
  {
   "cell_type": "code",
   "execution_count": 14,
   "metadata": {},
   "outputs": [
    {
     "data": {
      "text/plain": [
       "[<matplotlib.lines.Line2D at 0x7fe9a08def28>]"
      ]
     },
     "execution_count": 14,
     "metadata": {},
     "output_type": "execute_result"
    },
    {
     "data": {
      "image/png": "[encoded data removed]",
      "text/plain": [
       "<Figure size 432x288 with 1 Axes>"
      ]
     },
     "metadata": {
      "needs_background": "light"
     },
     "output_type": "display_data"
    }
   ],
   "source": [
    "amounts = strat.amounts_func(expected)\n",
    "plt.plot(expected, amounts)"
   ]
  },
  {
   "cell_type": "markdown",
   "metadata": {},
   "source": [
    "## Summary"
   ]
  },
  {
   "cell_type": "markdown",
   "metadata": {},
   "source": [
    "As we can see, the Aggressive strategy performs well producing ~6% annulized return. The strategy we are going to use is the Aggressive one based on the 0.1 cut and \"C2\" grade. We will not adjust investment money for each loans."
   ]
  },
  {
   "cell_type": "markdown",
   "metadata": {},
   "source": [
    "Please note that the key of our profit is really in the prediction model. Improving AUC will end up with higher profits."
   ]
  }
 ],
 "metadata": {
  "kernelspec": {
   "display_name": "Python 3",
   "language": "python",
   "name": "python3"
  },
  "language_info": {
   "codemirror_mode": {
    "name": "ipython",
    "version": 3
   },
   "file_extension": ".py",
   "mimetype": "text/x-python",
   "name": "python",
   "nbconvert_exporter": "python",
   "pygments_lexer": "ipython3",
   "version": "3.7.1"
  }
 },
 "nbformat": 4,
 "nbformat_minor": 2
}
