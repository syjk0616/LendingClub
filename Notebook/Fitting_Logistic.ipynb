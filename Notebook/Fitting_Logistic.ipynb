{
 "cells": [
  {
   "cell_type": "markdown",
   "metadata": {},
   "source": [
    "# Fitting Logistic Regression"
   ]
  },
  {
   "cell_type": "code",
   "execution_count": 1,
   "metadata": {},
   "outputs": [],
   "source": [
    "import os\n",
    "os.chdir(\"/home/jacob/Project/LendingClub\")"
   ]
  },
  {
   "cell_type": "code",
   "execution_count": 2,
   "metadata": {},
   "outputs": [],
   "source": [
    "import Data_Helper as DH\n",
    "import lendingclub\n",
    "import prediction\n",
    "\n",
    "import numpy as np\n",
    "import pandas as pd\n",
    "import json\n",
    "import time\n",
    "import sklearn\n",
    "from sklearn.model_selection import KFold\n",
    "from sklearn.preprocessing import StandardScaler\n",
    "\n",
    "import warnings\n",
    "warnings.filterwarnings('ignore')\n",
    "\n",
    "pd.options.mode.chained_assignment = None  # default='warn'\n",
    "%load_ext autoreload\n",
    "%autoreload 2"
   ]
  },
  {
   "cell_type": "markdown",
   "metadata": {},
   "source": [
    "## Instantiate Objects"
   ]
  },
  {
   "cell_type": "code",
   "execution_count": 3,
   "metadata": {},
   "outputs": [],
   "source": [
    "# initialize config object\n",
    "config = lendingclub.ConfigData(\"config_data.ini\")\n",
    "\n",
    "# initialize lendingclup api object\n",
    "lc = lendingclub.LendingClub(config)\n",
    "\n",
    "# initialize data transformer\n",
    "transformer = DH.Transformer_full()\n",
    "\n",
    "# initialize DataHelper\n",
    "periodStart = (\"Q1\", \"2016\")\n",
    "periodEnd = (\"Q1\", \"2018\")\n",
    "DataHelper = DH.DataHelper(periodStart, periodEnd, transformer, lc)"
   ]
  },
  {
   "cell_type": "code",
   "execution_count": 4,
   "metadata": {},
   "outputs": [],
   "source": [
    "# set training data\n",
    "DataHelper.set_training_dataset()"
   ]
  },
  {
   "cell_type": "code",
   "execution_count": 5,
   "metadata": {},
   "outputs": [
    {
     "data": {
      "text/plain": [
       "(680943, 100)"
      ]
     },
     "execution_count": 5,
     "metadata": {},
     "output_type": "execute_result"
    }
   ],
   "source": [
    "training = DataHelper.training\n",
    "training.shape"
   ]
  },
  {
   "cell_type": "code",
   "execution_count": 6,
   "metadata": {},
   "outputs": [],
   "source": [
    "# set test data\n",
    "DataHelper.set_test_dataset([\"LoanStats_2018Q2.csv\", \"LoanStats_2018Q3.csv\"])"
   ]
  },
  {
   "cell_type": "markdown",
   "metadata": {},
   "source": [
    "## Logistic Regression - choose penalization type / solver"
   ]
  },
  {
   "cell_type": "markdown",
   "metadata": {},
   "source": [
    "Based on the test run, l1/saga, l2/saga, and l2sag seem to be appropriat choices. We will try to finetune C parameter for these three pairs."
   ]
  },
  {
   "cell_type": "code",
   "execution_count": 8,
   "metadata": {},
   "outputs": [],
   "source": [
    "# logstic regression model\n",
    "logistic_model = prediction.ModelLogistic()"
   ]
  },
  {
   "cell_type": "code",
   "execution_count": 9,
   "metadata": {},
   "outputs": [],
   "source": [
    "# get training/test for this model\n",
    "training, test = logistic_model.get_data_for_model(DataHelper.training, DataHelper.test)"
   ]
  },
  {
   "cell_type": "code",
   "execution_count": 10,
   "metadata": {},
   "outputs": [
    {
     "name": "stdout",
     "output_type": "stream",
     "text": [
      "Raw test score: {'score': 0.8058677065356291, 'AUC': 0.7061951970870266}\n",
      "410.2265691757202\n"
     ]
    }
   ],
   "source": [
    "# Check time - l1/saga\n",
    "start = time.time()\n",
    "\n",
    "logistic_model.solver = \"saga\"\n",
    "logistic_model.penalty = \"l1\"\n",
    "\n",
    "kwargs = {\"C\":1.0}\n",
    "model = logistic_model.fit_model(training, **kwargs)\n",
    "score = logistic_model.test_model(test, model)\n",
    "print(\"Raw test score:\",score)\n",
    "\n",
    "end = time.time()\n",
    "print(end - start)"
   ]
  },
  {
   "cell_type": "code",
   "execution_count": 11,
   "metadata": {},
   "outputs": [
    {
     "name": "stdout",
     "output_type": "stream",
     "text": [
      "Raw test score: {'score': 0.8058677065356291, 'AUC': 0.7062939588273264}\n",
      "274.58112502098083\n"
     ]
    }
   ],
   "source": [
    "# Check time - l2/sag\n",
    "start = time.time()\n",
    "\n",
    "logistic_model.solver = \"sag\"\n",
    "logistic_model.penalty = \"l2\"\n",
    "\n",
    "kwargs = {\"C\":1.0}\n",
    "model = logistic_model.fit_model(training, **kwargs)\n",
    "score = logistic_model.test_model(test, model)\n",
    "print(\"Raw test score:\",score)\n",
    "\n",
    "end = time.time()\n",
    "print(end - start)"
   ]
  },
  {
   "cell_type": "code",
   "execution_count": 12,
   "metadata": {},
   "outputs": [
    {
     "name": "stdout",
     "output_type": "stream",
     "text": [
      "Raw test score: {'score': 0.805828184488914, 'AUC': 0.7064164772644088}\n",
      "76.13113212585449\n"
     ]
    }
   ],
   "source": [
    "# Check time - l2/lbfgs\n",
    "start = time.time()\n",
    "\n",
    "logistic_model.solver = \"lbfgs\"\n",
    "logistic_model.penalty = \"l2\"\n",
    "logistic_model.max_iter = 500\n",
    "\n",
    "kwargs = {\"C\":1.0}\n",
    "model = logistic_model.fit_model(training, **kwargs)\n",
    "score = logistic_model.test_model(test, model)\n",
    "print(\"Raw test score:\",score)\n",
    "\n",
    "end = time.time()\n",
    "print(end - start)"
   ]
  },
  {
   "cell_type": "code",
   "execution_count": 13,
   "metadata": {},
   "outputs": [
    {
     "name": "stdout",
     "output_type": "stream",
     "text": [
      "Raw test score: {'score': 0.8058677065356291, 'AUC': 0.7061991049854892}\n",
      "322.20109605789185\n"
     ]
    }
   ],
   "source": [
    "# Check time - l2/saga\n",
    "start = time.time()\n",
    "\n",
    "logistic_model.solver = \"saga\"\n",
    "logistic_model.penalty = \"l2\"\n",
    "logistic_model.max_iter = 500\n",
    "\n",
    "kwargs = {\"C\":1.0}\n",
    "model = logistic_model.fit_model(training, **kwargs)\n",
    "score = logistic_model.test_model(test, model)\n",
    "print(\"Raw test score:\",score)\n",
    "\n",
    "end = time.time()\n",
    "print(end - start)"
   ]
  },
  {
   "cell_type": "markdown",
   "metadata": {},
   "source": [
    "## Logistic Regression - CV"
   ]
  },
  {
   "cell_type": "code",
   "execution_count": 14,
   "metadata": {},
   "outputs": [],
   "source": [
    "# get CV index from DataHelper\n",
    "CVs = DataHelper.get_cross_validation_data(fold=5)"
   ]
  },
  {
   "cell_type": "markdown",
   "metadata": {},
   "source": [
    "We first try l1 penalization with saga solver. Max_iteration is set to be 500."
   ]
  },
  {
   "cell_type": "code",
   "execution_count": 15,
   "metadata": {},
   "outputs": [],
   "source": [
    "logistic_model = prediction.ModelLogistic()\n",
    "logistic_model.solver = \"saga\"\n",
    "logistic_model.penalty = \"l1\"\n",
    "logistic_model.max_iter = 500"
   ]
  },
  {
   "cell_type": "code",
   "execution_count": 16,
   "metadata": {},
   "outputs": [],
   "source": [
    "# choose grids to fit\n",
    "grids = [{\"C\": x} for x in [10000, 1000, 100, 10, 1, 0.1, 0.01, 0.001]]"
   ]
  },
  {
   "cell_type": "code",
   "execution_count": 17,
   "metadata": {
    "scrolled": false
   },
   "outputs": [
    {
     "name": "stdout",
     "output_type": "stream",
     "text": [
      "fitting for {'C': 10000}\n",
      "{'score': 0.8505272855574721, 'AUC': 0.6997169466561135}\n",
      "{'score': 0.848457136114225, 'AUC': 0.6986528688813792}\n",
      "{'score': 0.8529067076353394, 'AUC': 0.6976936435353015}\n",
      "{'score': 0.8550506392653615, 'AUC': 0.6981745091581182}\n",
      "{'score': 0.855354443626216, 'AUC': 0.7086484355153021}\n",
      "fitting for {'C': 1000}\n",
      "{'score': 0.8505272855574721, 'AUC': 0.6997169579836028}\n",
      "{'score': 0.848457136114225, 'AUC': 0.6986528741456954}\n",
      "{'score': 0.8529067076353394, 'AUC': 0.697693661289522}\n",
      "{'score': 0.8550506392653615, 'AUC': 0.6981744279931283}\n",
      "{'score': 0.855354443626216, 'AUC': 0.7086485888114603}\n",
      "fitting for {'C': 100}\n",
      "{'score': 0.8505272855574721, 'AUC': 0.699716917204641}\n",
      "{'score': 0.848457136114225, 'AUC': 0.6986528952029611}\n",
      "{'score': 0.8529067076353394, 'AUC': 0.6976935833253362}\n",
      "{'score': 0.8550506392653615, 'AUC': 0.6981744373583194}\n",
      "{'score': 0.855354443626216, 'AUC': 0.7086482837369278}\n",
      "fitting for {'C': 10}\n",
      "{'score': 0.8505272855574721, 'AUC': 0.6997170546448456}\n",
      "{'score': 0.848457136114225, 'AUC': 0.6986527613389157}\n",
      "{'score': 0.8528968593966969, 'AUC': 0.6976925574401565}\n",
      "{'score': 0.8550506392653615, 'AUC': 0.6981743062456434}\n",
      "{'score': 0.8553641331731329, 'AUC': 0.7086469905851775}\n",
      "fitting for {'C': 1}\n",
      "{'score': 0.850517484710679, 'AUC': 0.6997165766247933}\n",
      "{'score': 0.8484473026923909, 'AUC': 0.6986531591708257}\n",
      "{'score': 0.8528968593966969, 'AUC': 0.6976785763774226}\n",
      "{'score': 0.8550604816881724, 'AUC': 0.69817203518679}\n",
      "{'score': 0.8553641331731329, 'AUC': 0.7086302023791823}\n",
      "fitting for {'C': 0.1}\n",
      "{'score': 0.850517484710679, 'AUC': 0.699671555895786}\n",
      "{'score': 0.8484473026923909, 'AUC': 0.6986679609244204}\n",
      "{'score': 0.8529854935444796, 'AUC': 0.6975287222647021}\n",
      "{'score': 0.8550703241109832, 'AUC': 0.6981088115617855}\n",
      "{'score': 0.8553059958916321, 'AUC': 0.708566031241367}\n",
      "fitting for {'C': 0.01}\n",
      "{'score': 0.8503116669280226, 'AUC': 0.6987088257758285}\n",
      "{'score': 0.8482211339902059, 'AUC': 0.6983078019666422}\n",
      "{'score': 0.8527392875784165, 'AUC': 0.6961296117199667}\n",
      "{'score': 0.8549030029231995, 'AUC': 0.6971559142885781}\n",
      "{'score': 0.8552963063447153, 'AUC': 0.7077416378939707}\n",
      "fitting for {'C': 0.001}\n",
      "{'score': 0.8499490355966756, 'AUC': 0.6942961992623371}\n",
      "{'score': 0.8479162979133479, 'AUC': 0.6951903129076045}\n",
      "{'score': 0.8523749027486434, 'AUC': 0.6916488895328645}\n",
      "{'score': 0.8545683605476324, 'AUC': 0.6928763075724755}\n",
      "{'score': 0.8551025154063796, 'AUC': 0.7037085548497285}\n"
     ]
    }
   ],
   "source": [
    "scores = logistic_model.tune_parameters(DataHelper.training, CVs, grids, verbose=True)"
   ]
  },
  {
   "cell_type": "code",
   "execution_count": 18,
   "metadata": {},
   "outputs": [
    {
     "name": "stdout",
     "output_type": "stream",
     "text": [
      "0.7005773020446817\n",
      "{'C': 1000}\n"
     ]
    }
   ],
   "source": [
    "# find best param\n",
    "_, avg_score, param = logistic_model.best_grid(scores, \"AUC\")\n",
    "print(avg_score)\n",
    "print(param)"
   ]
  },
  {
   "cell_type": "markdown",
   "metadata": {},
   "source": [
    "For the next, we try l2 penalization with saga solver. Max_iteration is set to be 500."
   ]
  },
  {
   "cell_type": "code",
   "execution_count": 19,
   "metadata": {},
   "outputs": [],
   "source": [
    "logistic_model = prediction.ModelLogistic()\n",
    "logistic_model.solver = \"saga\"\n",
    "logistic_model.penalty = \"l2\"\n",
    "logistic_model.max_iter = 500"
   ]
  },
  {
   "cell_type": "code",
   "execution_count": 20,
   "metadata": {},
   "outputs": [],
   "source": [
    "# choose grids to fit\n",
    "grids = [{\"C\": x} for x in [10000, 1000, 100, 10, 1, 0.1, 0.01, 0.001]]"
   ]
  },
  {
   "cell_type": "code",
   "execution_count": 21,
   "metadata": {
    "scrolled": false
   },
   "outputs": [
    {
     "name": "stdout",
     "output_type": "stream",
     "text": [
      "fitting for {'C': 10000}\n",
      "{'score': 0.8505272855574721, 'AUC': 0.6997168907738324}\n",
      "{'score': 0.848457136114225, 'AUC': 0.6986528418077519}\n",
      "{'score': 0.8529067076353394, 'AUC': 0.697693655114141}\n",
      "{'score': 0.8550506392653615, 'AUC': 0.6981744615517298}\n",
      "{'score': 0.855354443626216, 'AUC': 0.7086485425190561}\n",
      "fitting for {'C': 1000}\n",
      "{'score': 0.8505272855574721, 'AUC': 0.6997169798834156}\n",
      "{'score': 0.848457136114225, 'AUC': 0.6986528688813791}\n",
      "{'score': 0.8529067076353394, 'AUC': 0.6976936666929805}\n",
      "{'score': 0.8550506392653615, 'AUC': 0.6981745762753214}\n",
      "{'score': 0.855354443626216, 'AUC': 0.7086485356890292}\n",
      "fitting for {'C': 100}\n",
      "{'score': 0.8505272855574721, 'AUC': 0.6997169398596199}\n",
      "{'score': 0.848457136114225, 'AUC': 0.6986528583527464}\n",
      "{'score': 0.8529067076353394, 'AUC': 0.6976936142022414}\n",
      "{'score': 0.8550506392653615, 'AUC': 0.6981743842889028}\n",
      "{'score': 0.855354443626216, 'AUC': 0.7086484468986802}\n",
      "fitting for {'C': 10}\n",
      "{'score': 0.8505272855574721, 'AUC': 0.6997167601301215}\n",
      "{'score': 0.848457136114225, 'AUC': 0.6986529531104414}\n",
      "{'score': 0.8529067076353394, 'AUC': 0.6976931765221084}\n",
      "{'score': 0.8550506392653615, 'AUC': 0.698174140793933}\n",
      "{'score': 0.8553641331731329, 'AUC': 0.70864800901807}\n",
      "fitting for {'C': 1}\n",
      "{'score': 0.8505370864042653, 'AUC': 0.6997166642240447}\n",
      "{'score': 0.848457136114225, 'AUC': 0.6986536983872331}\n",
      "{'score': 0.8528968593966969, 'AUC': 0.6976894381007954}\n",
      "{'score': 0.8550506392653615, 'AUC': 0.6981725978786915}\n",
      "{'score': 0.8553641331731329, 'AUC': 0.708643539903835}\n",
      "fitting for {'C': 0.1}\n",
      "{'score': 0.850517484710679, 'AUC': 0.6997030221509862}\n",
      "{'score': 0.8484374692705567, 'AUC': 0.6986495516100091}\n",
      "{'score': 0.8528870111580544, 'AUC': 0.6976397424935878}\n",
      "{'score': 0.8550506392653615, 'AUC': 0.6981400913002183}\n",
      "{'score': 0.8553835122669664, 'AUC': 0.7085593552695678}\n",
      "fitting for {'C': 0.01}\n",
      "{'score': 0.8504978830170927, 'AUC': 0.6996474426915333}\n",
      "{'score': 0.848457136114225, 'AUC': 0.6986486972866637}\n",
      "{'score': 0.852916555873982, 'AUC': 0.6974632539623287}\n",
      "{'score': 0.8550112695741183, 'AUC': 0.6980724395006661}\n",
      "{'score': 0.8553350645323825, 'AUC': 0.7084972710844009}\n",
      "fitting for {'C': 0.001}\n",
      "{'score': 0.8503606711619884, 'AUC': 0.6989857851569715}\n",
      "{'score': 0.8482801345212106, 'AUC': 0.6983393111563643}\n",
      "{'score': 0.8528377699648418, 'AUC': 0.6966049138183348}\n",
      "{'score': 0.8549522150372536, 'AUC': 0.697603246545904}\n",
      "{'score': 0.8552478586101314, 'AUC': 0.7081260636785001}\n"
     ]
    }
   ],
   "source": [
    "scores = logistic_model.tune_parameters(DataHelper.training, CVs, grids, verbose=True)"
   ]
  },
  {
   "cell_type": "code",
   "execution_count": 22,
   "metadata": {},
   "outputs": [
    {
     "name": "stdout",
     "output_type": "stream",
     "text": [
      "0.7005773254844252\n",
      "{'C': 1000}\n"
     ]
    }
   ],
   "source": [
    "# find best param\n",
    "_, avg_score, param = logistic_model.best_grid(scores, \"AUC\")\n",
    "print(avg_score)\n",
    "print(param)"
   ]
  },
  {
   "cell_type": "markdown",
   "metadata": {},
   "source": [
    "We first try l2 penalization with sag solver. Max_iteration is set to be 500."
   ]
  },
  {
   "cell_type": "code",
   "execution_count": 23,
   "metadata": {},
   "outputs": [],
   "source": [
    "logistic_model = prediction.ModelLogistic()\n",
    "logistic_model.solver = \"sag\"\n",
    "logistic_model.penalty = \"l2\"\n",
    "logistic_model.max_iter = 500"
   ]
  },
  {
   "cell_type": "code",
   "execution_count": 24,
   "metadata": {},
   "outputs": [],
   "source": [
    "# choose grids to fit\n",
    "grids = [{\"C\": x} for x in [10000, 1000, 100, 10, 1, 0.1, 0.01, 0.001]]"
   ]
  },
  {
   "cell_type": "code",
   "execution_count": 25,
   "metadata": {},
   "outputs": [
    {
     "name": "stdout",
     "output_type": "stream",
     "text": [
      "fitting for {'C': 10000}\n",
      "{'score': 0.8505566880978517, 'AUC': 0.6997592291533516}\n",
      "{'score': 0.8483981355832203, 'AUC': 0.6986510993190274}\n",
      "{'score': 0.8529657970671946, 'AUC': 0.6977580002690829}\n",
      "{'score': 0.8549718998828751, 'AUC': 0.6982329089292492}\n",
      "{'score': 0.8552769272508818, 'AUC': 0.7087643122330414}\n",
      "fitting for {'C': 1000}\n",
      "{'score': 0.8505566880978517, 'AUC': 0.6997592321740154}\n",
      "{'score': 0.8483981355832203, 'AUC': 0.6986510729974454}\n",
      "{'score': 0.8529657970671946, 'AUC': 0.6977579879183209}\n",
      "{'score': 0.8549718998828751, 'AUC': 0.6982328714684846}\n",
      "{'score': 0.8552769272508818, 'AUC': 0.7087641634902343}\n",
      "fitting for {'C': 100}\n",
      "{'score': 0.8505566880978517, 'AUC': 0.6997591944157175}\n",
      "{'score': 0.8483981355832203, 'AUC': 0.6986510451717731}\n",
      "{'score': 0.8529657970671946, 'AUC': 0.6977577856745909}\n",
      "{'score': 0.8549718998828751, 'AUC': 0.6982328464946416}\n",
      "{'score': 0.8552769272508818, 'AUC': 0.7087639335459971}\n",
      "fitting for {'C': 10}\n",
      "{'score': 0.8505664889446448, 'AUC': 0.6997590456480234}\n",
      "{'score': 0.8483981355832203, 'AUC': 0.6986514512761801}\n",
      "{'score': 0.8529657970671946, 'AUC': 0.6977572584514323}\n",
      "{'score': 0.8549718998828751, 'AUC': 0.6982326740190379}\n",
      "{'score': 0.8552769272508818, 'AUC': 0.7087630221168586}\n",
      "fitting for {'C': 1}\n",
      "{'score': 0.8505664889446448, 'AUC': 0.6997563935051737}\n",
      "{'score': 0.8484079690050543, 'AUC': 0.6986540247748492}\n",
      "{'score': 0.852955948828552, 'AUC': 0.6977493230867623}\n",
      "{'score': 0.854981742305686, 'AUC': 0.6982286423042489}\n",
      "{'score': 0.8552769272508818, 'AUC': 0.7087511871981129}\n",
      "fitting for {'C': 0.1}\n",
      "{'score': 0.8505468872510585, 'AUC': 0.6997226277696267}\n",
      "{'score': 0.8484276358487226, 'AUC': 0.6986602652459053}\n",
      "{'score': 0.8529067076353394, 'AUC': 0.6976670893967167}\n",
      "{'score': 0.8550604816881724, 'AUC': 0.6981686332811057}\n",
      "{'score': 0.8553350645323825, 'AUC': 0.7086224563698436}\n",
      "fitting for {'C': 0.01}\n",
      "{'score': 0.8504978830170927, 'AUC': 0.6996467887178124}\n",
      "{'score': 0.848457136114225, 'AUC': 0.6986471540899166}\n",
      "{'score': 0.852916555873982, 'AUC': 0.6974622033756247}\n",
      "{'score': 0.8550112695741183, 'AUC': 0.6980717464765213}\n",
      "{'score': 0.8553447540792992, 'AUC': 0.7084982508138078}\n",
      "fitting for {'C': 0.001}\n",
      "{'score': 0.8503606711619884, 'AUC': 0.6989852769302809}\n",
      "{'score': 0.8482801345212106, 'AUC': 0.6983381311974479}\n",
      "{'score': 0.8528377699648418, 'AUC': 0.696604212140661}\n",
      "{'score': 0.8549522150372536, 'AUC': 0.6976023490484191}\n",
      "{'score': 0.8552478586101314, 'AUC': 0.70812625416036}\n"
     ]
    }
   ],
   "source": [
    "scores = logistic_model.tune_parameters(DataHelper.training, CVs, grids, verbose=True)"
   ]
  },
  {
   "cell_type": "code",
   "execution_count": 26,
   "metadata": {},
   "outputs": [
    {
     "name": "stdout",
     "output_type": "stream",
     "text": [
      "0.7006331099807506\n",
      "{'C': 10000}\n"
     ]
    }
   ],
   "source": [
    "# find best param\n",
    "_, avg_score, param = logistic_model.best_grid(scores, \"AUC\")\n",
    "print(avg_score)\n",
    "print(param)"
   ]
  },
  {
   "cell_type": "markdown",
   "metadata": {},
   "source": [
    "## Fit Best Model & Save"
   ]
  },
  {
   "cell_type": "code",
   "execution_count": 27,
   "metadata": {},
   "outputs": [],
   "source": [
    "# fit best model\n",
    "logistic_model = prediction.ModelLogistic()\n",
    "logistic_model.solver = \"saga\"\n",
    "logistic_model.penalty = \"l1\"\n",
    "logistic_model.max_iter = 500"
   ]
  },
  {
   "cell_type": "code",
   "execution_count": 28,
   "metadata": {},
   "outputs": [],
   "source": [
    "training, test = logistic_model.get_data_for_model(DataHelper.training, DataHelper.test)"
   ]
  },
  {
   "cell_type": "code",
   "execution_count": 29,
   "metadata": {},
   "outputs": [],
   "source": [
    "kwargs = {\"C\":1000}\n",
    "model = logistic_model.fit_model(training, **kwargs)\n",
    "score = logistic_model.test_model(test, model)"
   ]
  },
  {
   "cell_type": "code",
   "execution_count": 30,
   "metadata": {},
   "outputs": [
    {
     "data": {
      "text/plain": [
       "{'score': 0.8058677065356291, 'AUC': 0.7062003909889552}"
      ]
     },
     "execution_count": 30,
     "metadata": {},
     "output_type": "execute_result"
    }
   ],
   "source": [
    "score"
   ]
  },
  {
   "cell_type": "code",
   "execution_count": 31,
   "metadata": {},
   "outputs": [],
   "source": [
    "scaler = logistic_model.get_scaler(DataHelper.training)"
   ]
  },
  {
   "cell_type": "code",
   "execution_count": 32,
   "metadata": {},
   "outputs": [],
   "source": [
    "# save model\n",
    "filename = \"logistic_regression_20201221.sav\""
   ]
  },
  {
   "cell_type": "code",
   "execution_count": 33,
   "metadata": {},
   "outputs": [
    {
     "name": "stdout",
     "output_type": "stream",
     "text": [
      "Model is saved on logistic_regression_20201221.sav\n"
     ]
    }
   ],
   "source": [
    "logistic_model.save_model(model,scaler,training,filename)"
   ]
  },
  {
   "cell_type": "markdown",
   "metadata": {},
   "source": [
    "## Predict listed loan by saved model"
   ]
  },
  {
   "cell_type": "code",
   "execution_count": 7,
   "metadata": {},
   "outputs": [],
   "source": [
    "# predict by calling model\n",
    "filename = \"logistic_regression_20201221.sav\""
   ]
  },
  {
   "cell_type": "code",
   "execution_count": 8,
   "metadata": {},
   "outputs": [],
   "source": [
    "# instantiate from beginning\n",
    "new_model = prediction.ModelLogistic(filename)"
   ]
  },
  {
   "cell_type": "code",
   "execution_count": 9,
   "metadata": {},
   "outputs": [
    {
     "name": "stdout",
     "output_type": "stream",
     "text": [
      "Model is loaded from logistic_regression_20201221.sav\n"
     ]
    }
   ],
   "source": [
    "# update from the saved model\n",
    "new_model.set_model_from_file()"
   ]
  },
  {
   "cell_type": "code",
   "execution_count": 10,
   "metadata": {
    "scrolled": true
   },
   "outputs": [
    {
     "data": {
      "text/plain": [
       "'Logistic Regression Object, time: 12/21/2020, C: 1000, penalty: l1, solver: saga, max_iter: 500, tol: 0.0005'"
      ]
     },
     "execution_count": 10,
     "metadata": {},
     "output_type": "execute_result"
    }
   ],
   "source": [
    "# check model description\n",
    "new_model.model_description"
   ]
  },
  {
   "cell_type": "code",
   "execution_count": 11,
   "metadata": {
    "scrolled": true
   },
   "outputs": [
    {
     "data": {
      "text/plain": [
       "(19, 99)"
      ]
     },
     "execution_count": 11,
     "metadata": {},
     "output_type": "execute_result"
    }
   ],
   "source": [
    "# get listed loan\n",
    "loans = DataHelper.get_listed_loandata()\n",
    "loans.shape"
   ]
  },
  {
   "cell_type": "code",
   "execution_count": 12,
   "metadata": {},
   "outputs": [],
   "source": [
    "# prediction\n",
    "loans, pred = new_model.predict_model(loans)"
   ]
  },
  {
   "cell_type": "code",
   "execution_count": 13,
   "metadata": {},
   "outputs": [
    {
     "data": {
      "text/plain": [
       "(18, 138)"
      ]
     },
     "execution_count": 13,
     "metadata": {},
     "output_type": "execute_result"
    }
   ],
   "source": [
    "loans.shape"
   ]
  },
  {
   "cell_type": "code",
   "execution_count": 14,
   "metadata": {},
   "outputs": [
    {
     "data": {
      "text/plain": [
       "array([0.29608723, 0.08897611, 0.0356467 , 0.08745126, 0.04432517,\n",
       "       0.13924438, 0.09713601, 0.12520976, 0.05125108, 0.03922336,\n",
       "       0.05508913, 0.06509638, 0.12344735, 0.30743374, 0.17082775,\n",
       "       0.0729315 , 0.12040713, 0.19446536])"
      ]
     },
     "execution_count": 14,
     "metadata": {},
     "output_type": "execute_result"
    }
   ],
   "source": [
    "pred"
   ]
  },
  {
   "cell_type": "code",
   "execution_count": null,
   "metadata": {},
   "outputs": [],
   "source": []
  }
 ],
 "metadata": {
  "kernelspec": {
   "display_name": "lendingclub",
   "language": "python",
   "name": "lendingclub"
  },
  "language_info": {
   "codemirror_mode": {
    "name": "ipython",
    "version": 3
   },
   "file_extension": ".py",
   "mimetype": "text/x-python",
   "name": "python",
   "nbconvert_exporter": "python",
   "pygments_lexer": "ipython3",
   "version": "3.7.3"
  }
 },
 "nbformat": 4,
 "nbformat_minor": 2
}
