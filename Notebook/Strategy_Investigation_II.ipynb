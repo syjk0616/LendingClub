{
 "cells": [
  {
   "cell_type": "markdown",
   "metadata": {},
   "source": [
    "# 7. Backtesting"
   ]
  },
  {
   "cell_type": "markdown",
   "metadata": {},
   "source": [
    "Since we didn't consider prepayment timing and monthly installment, this has not been a precise analysis. From this section, let's run the backtesting to see how our investment evolves over time, and what we can expect from our investment.\n",
    "\n",
    "We ran the backtest on the one year OOT data from 2018Q2 to 2018Q3. The fitted xgb classification model is used for prediction."
   ]
  },
  {
   "cell_type": "code",
   "execution_count": 1,
   "metadata": {},
   "outputs": [],
   "source": [
    "import os\n",
    "\n",
    "# set dir by hardcode to run in crontab\n",
    "os.chdir(\"/home/jacob/Project/LendingClub/\")\n",
    "\n",
    "import Data_Helper as DH\n",
    "import lendingclub\n",
    "import prediction\n",
    "import investment\n",
    "import backtester\n",
    "import numpy as np\n",
    "import pandas as pd\n",
    "import json\n",
    "import time\n",
    "import matplotlib.pyplot as plt\n",
    "import seaborn as sns\n",
    "import warnings\n",
    "warnings.filterwarnings('ignore')\n",
    "\n",
    "%matplotlib inline\n",
    "\n",
    "pd.options.mode.chained_assignment = None  # default='warn'\n",
    "%load_ext autoreload\n",
    "%autoreload 2"
   ]
  },
  {
   "cell_type": "code",
   "execution_count": 2,
   "metadata": {},
   "outputs": [],
   "source": [
    "# initialize config object\n",
    "config = lendingclub.ConfigData(\"config_data_dummy.ini\")\n",
    "\n",
    "# initialize lendingclup api object\n",
    "lc = lendingclub.LendingClub(config)\n",
    "\n",
    "# initialize data transformer\n",
    "transformer = DH.Transformer_full()\n",
    "\n",
    "# initialize DataHelper\n",
    "periodStart = (\"Q1\", \"2016\")\n",
    "periodEnd = (\"Q1\", \"2018\")\n",
    "DataHelper = DH.DataHelper(periodStart, periodEnd, transformer, lc)"
   ]
  },
  {
   "cell_type": "code",
   "execution_count": 3,
   "metadata": {},
   "outputs": [],
   "source": [
    "# set training data\n",
    "DataHelper.set_training_dataset()"
   ]
  },
  {
   "cell_type": "code",
   "execution_count": 3,
   "metadata": {},
   "outputs": [],
   "source": [
    "# set test data\n",
    "DataHelper.set_test_dataset([\"LoanStats_2018Q2.csv\", \"LoanStats_2018Q3.csv\"])"
   ]
  },
  {
   "cell_type": "code",
   "execution_count": 4,
   "metadata": {},
   "outputs": [],
   "source": [
    "# saved model\n",
    "filename = \"xgb_classification_20201223_Prod.sav\""
   ]
  },
  {
   "cell_type": "code",
   "execution_count": 5,
   "metadata": {},
   "outputs": [
    {
     "name": "stdout",
     "output_type": "stream",
     "text": [
      "Model is loaded from xgb_classification_20201223_Prod.sav\n"
     ]
    },
    {
     "data": {
      "text/plain": [
       "'XGBoost Classification Object, time: 12/23/2020, eta: 0.01, num_rounds: 3950, max_depth: 6, subsample: 0.7'"
      ]
     },
     "execution_count": 5,
     "metadata": {},
     "output_type": "execute_result"
    }
   ],
   "source": [
    "# instantiate from beginning\n",
    "xgb = prediction.ModelXGBClassfication(filename)\n",
    "\n",
    "# update from the saved model\n",
    "xgb.set_model_from_file()\n",
    "\n",
    "# check model description\n",
    "xgb.model_description"
   ]
  },
  {
   "cell_type": "code",
   "execution_count": 6,
   "metadata": {},
   "outputs": [
    {
     "data": {
      "text/plain": [
       "<bound method XGBModel.get_params of XGBClassifier(base_score=0.5, booster='gbtree', colsample_bylevel=1,\n",
       "              colsample_bytree=0.7, gamma=0.2, learning_rate=0.01,\n",
       "              max_delta_step=0, max_depth=6, min_child_weight=5, missing=nan,\n",
       "              n_estimators=3950, n_jobs=8, nthread=None,\n",
       "              objective='binary:logistic', random_state=0, reg_alpha=5,\n",
       "              reg_lambda=1, scale_pos_weight=1, seed=None, silent=None,\n",
       "              subsample=0.7, tree_method='hist')>"
      ]
     },
     "execution_count": 6,
     "metadata": {},
     "output_type": "execute_result"
    }
   ],
   "source": [
    "xgb.model.get_params"
   ]
  },
  {
   "cell_type": "markdown",
   "metadata": {},
   "source": [
    "## 7.1 Conservaitve Strategy"
   ]
  },
  {
   "cell_type": "markdown",
   "metadata": {},
   "source": [
    "The first strategy we tried is the simple one which cuts the investment by the model score. Based on the test result, we can expect 3.7% anualized return if invest USD 10k. As expected, most of our investments focused on the A1 grade loans. So our profit of this investments mainly comes from the low default rate and rolling of the money.\n",
    "\n",
    "Please note that the expected return here is summation of discounted future cash flow by expected default rate and 2.6% annualized interest rate."
   ]
  },
  {
   "cell_type": "code",
   "execution_count": 7,
   "metadata": {},
   "outputs": [
    {
     "name": "stdout",
     "output_type": "stream",
     "text": [
      "This strategy chooses loans basaed on the simple score cut. In other words, it only invests to the loans with the model scores lower than the cut. It further filters out the selected loan by FICO score.\n"
     ]
    }
   ],
   "source": [
    "strat = investment.StrategyClassSimple(xgb)\n",
    "print(strat.description())"
   ]
  },
  {
   "cell_type": "code",
   "execution_count": 8,
   "metadata": {},
   "outputs": [],
   "source": [
    "opt = investment.StrategyOptimizer(DataHelper, xgb, strat)"
   ]
  },
  {
   "cell_type": "code",
   "execution_count": 9,
   "metadata": {},
   "outputs": [],
   "source": [
    "initial = 10000\n",
    "cuts = [0.01, 0.015, 0.02, 0.025, 0.03, 0.035, 0.04, 0.045, 0.05]"
   ]
  },
  {
   "cell_type": "code",
   "execution_count": 10,
   "metadata": {
    "scrolled": false
   },
   "outputs": [
    {
     "data": {
      "image/png": "[encoded data removed]",
      "text/plain": [
       "<Figure size 720x576 with 1 Axes>"
      ]
     },
     "metadata": {
      "needs_background": "light"
     },
     "output_type": "display_data"
    },
    {
     "data": {
      "text/plain": [
       "[0.028404843128046444,\n",
       " 0.035942125614979885,\n",
       " 0.03695399883682148,\n",
       " 0.03695399883682148,\n",
       " 0.03695399883682148,\n",
       " 0.03695399883682148,\n",
       " 0.03695399883682148,\n",
       " 0.03695399883682148,\n",
       " 0.03695399883682148]"
      ]
     },
     "execution_count": 10,
     "metadata": {},
     "output_type": "execute_result"
    }
   ],
   "source": [
    "profits = opt.opt_cut_conserv(cuts, initial)\n",
    "profits"
   ]
  },
  {
   "cell_type": "markdown",
   "metadata": {},
   "source": [
    "As we can see from below plot, it can handle larger amount without decreasing the return by increasing the cut slightly."
   ]
  },
  {
   "cell_type": "code",
   "execution_count": 14,
   "metadata": {},
   "outputs": [],
   "source": [
    "initials = np.array(range(1,7)) * 5000\n",
    "cuts = [0.02, 0.025, 0.03, 0.035, 0.04, 0.045, 0.05]"
   ]
  },
  {
   "cell_type": "code",
   "execution_count": 15,
   "metadata": {
    "scrolled": false
   },
   "outputs": [
    {
     "data": {
      "image/png": "[encoded data removed]",
      "text/plain": [
       "<Figure size 720x576 with 1 Axes>"
      ]
     },
     "metadata": {
      "needs_background": "light"
     },
     "output_type": "display_data"
    },
    {
     "data": {
      "text/plain": [
       "[{'initialInvest': 5000, 'cut': 0.02, 'return': 0.03523265551151216},\n",
       " {'initialInvest': 10000, 'cut': 0.02, 'return': 0.03695399883682148},\n",
       " {'initialInvest': 15000, 'cut': 0.02, 'return': 0.03673863194608961},\n",
       " {'initialInvest': 20000, 'cut': 0.025, 'return': 0.03763183323856634},\n",
       " {'initialInvest': 25000, 'cut': 0.025, 'return': 0.03775516068785888},\n",
       " {'initialInvest': 30000, 'cut': 0.025, 'return': 0.03768938520410995}]"
      ]
     },
     "execution_count": 15,
     "metadata": {},
     "output_type": "execute_result"
    }
   ],
   "source": [
    "profits = opt.opt_seed_conserv(cuts, initials)\n",
    "profits"
   ]
  },
  {
   "cell_type": "markdown",
   "metadata": {},
   "source": [
    "## 7.2 Aggresive Strategy"
   ]
  },
  {
   "cell_type": "markdown",
   "metadata": {},
   "source": [
    "3.7% is not too bad, but we can probably do better by simply improving the investment strategy, not the prediction model. So let's explore other strategies here. For the first, we tried the strategy taking risk slightly more agressively, which invest based on the expected return."
   ]
  },
  {
   "cell_type": "code",
   "execution_count": 8,
   "metadata": {},
   "outputs": [
    {
     "name": "stdout",
     "output_type": "stream",
     "text": [
      "This strategy chooses loans basaed on the expected payoff. The expected payoff is calculated by the interest rate minus the model score. If the calculated expected payoff is greater than the predefined cut, then it selects a loan. It further filters out the selected loan by FICO score and the loan grade.\n"
     ]
    }
   ],
   "source": [
    "strat = investment.StrategyClassComplex(xgb)\n",
    "print(strat.description())"
   ]
  },
  {
   "cell_type": "code",
   "execution_count": 9,
   "metadata": {},
   "outputs": [],
   "source": [
    "opt = investment.StrategyOptimizer(DataHelper, xgb, strat)"
   ]
  },
  {
   "cell_type": "markdown",
   "metadata": {},
   "source": [
    "Based on the backtesting results, if we invest USD 5K, then we can expect 6.1% when we limit the loans above expected resutn 0.125 and below \"C3\" grade. While the second best strategy is at B5 and 0.1 which returns 5.9%. These are reasonable profit, considering it is discounted by expected default rate and 2.6% interest rate."
   ]
  },
  {
   "cell_type": "code",
   "execution_count": 10,
   "metadata": {},
   "outputs": [
    {
     "data": {
      "image/png": "[encoded data removed]",
      "text/plain": [
       "<Figure size 720x576 with 2 Axes>"
      ]
     },
     "metadata": {
      "needs_background": "light"
     },
     "output_type": "display_data"
    },
    {
     "data": {
      "text/html": [
       "<div>\n",
       "<style scoped>\n",
       "    .dataframe tbody tr th:only-of-type {\n",
       "        vertical-align: middle;\n",
       "    }\n",
       "\n",
       "    .dataframe tbody tr th {\n",
       "        vertical-align: top;\n",
       "    }\n",
       "\n",
       "    .dataframe thead th {\n",
       "        text-align: right;\n",
       "    }\n",
       "</style>\n",
       "<table border=\"1\" class=\"dataframe\">\n",
       "  <thead>\n",
       "    <tr style=\"text-align: right;\">\n",
       "      <th></th>\n",
       "      <th>B3</th>\n",
       "      <th>B4</th>\n",
       "      <th>B5</th>\n",
       "      <th>C1</th>\n",
       "      <th>C2</th>\n",
       "      <th>C3</th>\n",
       "      <th>C4</th>\n",
       "    </tr>\n",
       "  </thead>\n",
       "  <tbody>\n",
       "    <tr>\n",
       "      <th>0.050</th>\n",
       "      <td>0.044463</td>\n",
       "      <td>0.050301</td>\n",
       "      <td>0.059079</td>\n",
       "      <td>0.052856</td>\n",
       "      <td>0.050715</td>\n",
       "      <td>0.051703</td>\n",
       "      <td>0.048170</td>\n",
       "    </tr>\n",
       "    <tr>\n",
       "      <th>0.075</th>\n",
       "      <td>0.044463</td>\n",
       "      <td>0.050301</td>\n",
       "      <td>0.059079</td>\n",
       "      <td>0.052856</td>\n",
       "      <td>0.050715</td>\n",
       "      <td>0.051703</td>\n",
       "      <td>0.048170</td>\n",
       "    </tr>\n",
       "    <tr>\n",
       "      <th>0.100</th>\n",
       "      <td>0.039623</td>\n",
       "      <td>0.047682</td>\n",
       "      <td>0.059079</td>\n",
       "      <td>0.052856</td>\n",
       "      <td>0.050715</td>\n",
       "      <td>0.051703</td>\n",
       "      <td>0.048170</td>\n",
       "    </tr>\n",
       "    <tr>\n",
       "      <th>0.125</th>\n",
       "      <td>0.026866</td>\n",
       "      <td>0.032559</td>\n",
       "      <td>0.051451</td>\n",
       "      <td>0.056108</td>\n",
       "      <td>0.054887</td>\n",
       "      <td>0.061425</td>\n",
       "      <td>0.059526</td>\n",
       "    </tr>\n",
       "    <tr>\n",
       "      <th>0.150</th>\n",
       "      <td>0.000000</td>\n",
       "      <td>0.000000</td>\n",
       "      <td>0.000000</td>\n",
       "      <td>0.000000</td>\n",
       "      <td>0.032697</td>\n",
       "      <td>0.043253</td>\n",
       "      <td>0.050422</td>\n",
       "    </tr>\n",
       "    <tr>\n",
       "      <th>0.175</th>\n",
       "      <td>0.000000</td>\n",
       "      <td>0.000000</td>\n",
       "      <td>0.000000</td>\n",
       "      <td>0.000000</td>\n",
       "      <td>0.023086</td>\n",
       "      <td>0.024294</td>\n",
       "      <td>0.026235</td>\n",
       "    </tr>\n",
       "    <tr>\n",
       "      <th>0.200</th>\n",
       "      <td>0.000000</td>\n",
       "      <td>0.000000</td>\n",
       "      <td>0.000000</td>\n",
       "      <td>0.000000</td>\n",
       "      <td>0.000000</td>\n",
       "      <td>0.000000</td>\n",
       "      <td>0.000000</td>\n",
       "    </tr>\n",
       "  </tbody>\n",
       "</table>\n",
       "</div>"
      ],
      "text/plain": [
       "             B3        B4        B5        C1        C2        C3        C4\n",
       "0.050  0.044463  0.050301  0.059079  0.052856  0.050715  0.051703  0.048170\n",
       "0.075  0.044463  0.050301  0.059079  0.052856  0.050715  0.051703  0.048170\n",
       "0.100  0.039623  0.047682  0.059079  0.052856  0.050715  0.051703  0.048170\n",
       "0.125  0.026866  0.032559  0.051451  0.056108  0.054887  0.061425  0.059526\n",
       "0.150  0.000000  0.000000  0.000000  0.000000  0.032697  0.043253  0.050422\n",
       "0.175  0.000000  0.000000  0.000000  0.000000  0.023086  0.024294  0.026235\n",
       "0.200  0.000000  0.000000  0.000000  0.000000  0.000000  0.000000  0.000000"
      ]
     },
     "execution_count": 10,
     "metadata": {},
     "output_type": "execute_result"
    }
   ],
   "source": [
    "initial = 5000\n",
    "grades = [\"B3\", \"B4\", \"B5\", \"C1\", \"C2\", \"C3\", \"C4\"]\n",
    "cuts = [0.05, 0.075, 0.1, 0.125, 0.15, 0.175, 0.2]\n",
    "\n",
    "profits = opt.opt_cut_aggr(cuts, grades, initial, plot=True)\n",
    "profits"
   ]
  },
  {
   "cell_type": "markdown",
   "metadata": {},
   "source": [
    "Let's explore further, whether we can get the better return if we invest more. The best parameter still remains at 0.1 and \"C2\" (or \"C3\" with minor difference). The reason of dereasing profit is due to the holding period. If we look at the investment amounts by month, entire funding cannot invested at first month if funding is larger than 10000. This is why the profit seems to be deteriorated (due to additional discounting). In other words, this does not inndicate the deteriorate of strategy. If we run the strategy long enough, than the difference will be faded out. "
   ]
  },
  {
   "cell_type": "code",
   "execution_count": 19,
   "metadata": {
    "scrolled": false
   },
   "outputs": [
    {
     "name": "stdout",
     "output_type": "stream",
     "text": [
      "10000\n"
     ]
    },
    {
     "data": {
      "image/png": "[encoded data removed]",
      "text/plain": [
       "<Figure size 720x576 with 2 Axes>"
      ]
     },
     "metadata": {
      "needs_background": "light"
     },
     "output_type": "display_data"
    },
    {
     "name": "stdout",
     "output_type": "stream",
     "text": [
      "20000\n"
     ]
    },
    {
     "data": {
      "image/png": "[encoded data removed]",
      "text/plain": [
       "<Figure size 720x576 with 2 Axes>"
      ]
     },
     "metadata": {
      "needs_background": "light"
     },
     "output_type": "display_data"
    },
    {
     "name": "stdout",
     "output_type": "stream",
     "text": [
      "30000\n"
     ]
    },
    {
     "data": {
      "image/png": "[encoded data removed]",
      "text/plain": [
       "<Figure size 720x576 with 2 Axes>"
      ]
     },
     "metadata": {
      "needs_background": "light"
     },
     "output_type": "display_data"
    },
    {
     "data": {
      "text/plain": [
       "[{'return': 0.05900859529046981,\n",
       "  'initialInvest': 10000,\n",
       "  'grade': 'C3',\n",
       "  'cut': 0.125},\n",
       " {'return': 0.05432276012589259,\n",
       "  'initialInvest': 20000,\n",
       "  'grade': 'C3',\n",
       "  'cut': 0.1},\n",
       " {'return': 0.05073572644434444,\n",
       "  'initialInvest': 30000,\n",
       "  'grade': 'C4',\n",
       "  'cut': 0.1}]"
      ]
     },
     "execution_count": 19,
     "metadata": {},
     "output_type": "execute_result"
    }
   ],
   "source": [
    "initials = np.array(range(1,4)) * 10000\n",
    "grades = [\"B4\", \"B5\", \"C1\", \"C2\", \"C3\", \"C4\"]\n",
    "cuts = [0.05, 0.075, 0.1, 0.125, 0.15, 0.175, 0.2]\n",
    "\n",
    "profits = opt.opt_seed_aggr(cuts, grades, initials, plot=True)\n",
    "profits"
   ]
  },
  {
   "cell_type": "markdown",
   "metadata": {},
   "source": [
    "We saw that the parameter to acheive the return varies by the seed amount. Realistically, we are not investing more than $5000 in this strategy within the two quarter, so we will choose (C3, 0125) or (B5, 0.1). SO we need t check how many loans, that we are going to actually face, are falling into those buckets."
   ]
  },
  {
   "cell_type": "markdown",
   "metadata": {},
   "source": [
    "## 7.3 Aggressive Strategy with adjusted amounts"
   ]
  },
  {
   "cell_type": "markdown",
   "metadata": {},
   "source": [
    "Can we do better? We can probably increase the profit by adjusting investment amounts for each loan based on the expected retrn. Let's explore the strategy here. We will stick to the parameter 0.125 and \"C3\". However, we will adjust invest amount by using logistic function on expected return. The slope and maximum of the function will be finetuned through backtesting.\n",
    "\n",
    "It marginally increases the profits. However, it also added large uncertainty, since the optimal parameters shifted a lot depending on the initial amount invested. Therefore, adjusting amounts does not seem to be necessary in our strategy."
   ]
  },
  {
   "cell_type": "code",
   "execution_count": 22,
   "metadata": {},
   "outputs": [
    {
     "name": "stdout",
     "output_type": "stream",
     "text": [
      "This strategy chooses loans basaed on the expected payoff. The expected payoff is calculated by the interest rate minus the model score. If the calculated expected payoff is greater than the predefined cut, then it selects a loan. It also increase the invest amount for each loan based on the payoff. It further filters out the selected loan by FICO score and the loan grade.\n"
     ]
    }
   ],
   "source": [
    "strat = investment.StrategyClassComplexII(xgb)\n",
    "print(strat.description())"
   ]
  },
  {
   "cell_type": "code",
   "execution_count": 23,
   "metadata": {},
   "outputs": [],
   "source": [
    "opt = investment.StrategyOptimizer(DataHelper, xgb, strat)"
   ]
  },
  {
   "cell_type": "code",
   "execution_count": 24,
   "metadata": {},
   "outputs": [
    {
     "data": {
      "image/png": "[encoded data removed]",
      "text/plain": [
       "<Figure size 720x576 with 2 Axes>"
      ]
     },
     "metadata": {
      "needs_background": "light"
     },
     "output_type": "display_data"
    },
    {
     "data": {
      "text/html": [
       "<div>\n",
       "<style scoped>\n",
       "    .dataframe tbody tr th:only-of-type {\n",
       "        vertical-align: middle;\n",
       "    }\n",
       "\n",
       "    .dataframe tbody tr th {\n",
       "        vertical-align: top;\n",
       "    }\n",
       "\n",
       "    .dataframe thead th {\n",
       "        text-align: right;\n",
       "    }\n",
       "</style>\n",
       "<table border=\"1\" class=\"dataframe\">\n",
       "  <thead>\n",
       "    <tr style=\"text-align: right;\">\n",
       "      <th></th>\n",
       "      <th>2</th>\n",
       "      <th>3</th>\n",
       "      <th>4</th>\n",
       "      <th>5</th>\n",
       "      <th>6</th>\n",
       "      <th>7</th>\n",
       "    </tr>\n",
       "  </thead>\n",
       "  <tbody>\n",
       "    <tr>\n",
       "      <th>2</th>\n",
       "      <td>0.061425</td>\n",
       "      <td>0.061425</td>\n",
       "      <td>0.061425</td>\n",
       "      <td>0.061425</td>\n",
       "      <td>0.061425</td>\n",
       "      <td>0.061425</td>\n",
       "    </tr>\n",
       "    <tr>\n",
       "      <th>3</th>\n",
       "      <td>0.061425</td>\n",
       "      <td>0.061425</td>\n",
       "      <td>0.061425</td>\n",
       "      <td>0.061425</td>\n",
       "      <td>0.061425</td>\n",
       "      <td>0.061425</td>\n",
       "    </tr>\n",
       "    <tr>\n",
       "      <th>4</th>\n",
       "      <td>0.061425</td>\n",
       "      <td>0.061425</td>\n",
       "      <td>0.061425</td>\n",
       "      <td>0.061425</td>\n",
       "      <td>0.061425</td>\n",
       "      <td>0.061425</td>\n",
       "    </tr>\n",
       "    <tr>\n",
       "      <th>5</th>\n",
       "      <td>0.061425</td>\n",
       "      <td>0.061425</td>\n",
       "      <td>0.061425</td>\n",
       "      <td>0.061425</td>\n",
       "      <td>0.061425</td>\n",
       "      <td>0.061516</td>\n",
       "    </tr>\n",
       "    <tr>\n",
       "      <th>6</th>\n",
       "      <td>0.061425</td>\n",
       "      <td>0.061425</td>\n",
       "      <td>0.061425</td>\n",
       "      <td>0.061425</td>\n",
       "      <td>0.061516</td>\n",
       "      <td>0.061594</td>\n",
       "    </tr>\n",
       "    <tr>\n",
       "      <th>7</th>\n",
       "      <td>0.061425</td>\n",
       "      <td>0.061425</td>\n",
       "      <td>0.061425</td>\n",
       "      <td>0.061516</td>\n",
       "      <td>0.061589</td>\n",
       "      <td>0.061493</td>\n",
       "    </tr>\n",
       "  </tbody>\n",
       "</table>\n",
       "</div>"
      ],
      "text/plain": [
       "          2         3         4         5         6         7\n",
       "2  0.061425  0.061425  0.061425  0.061425  0.061425  0.061425\n",
       "3  0.061425  0.061425  0.061425  0.061425  0.061425  0.061425\n",
       "4  0.061425  0.061425  0.061425  0.061425  0.061425  0.061425\n",
       "5  0.061425  0.061425  0.061425  0.061425  0.061425  0.061516\n",
       "6  0.061425  0.061425  0.061425  0.061425  0.061516  0.061594\n",
       "7  0.061425  0.061425  0.061425  0.061516  0.061589  0.061493"
      ]
     },
     "execution_count": 24,
     "metadata": {},
     "output_type": "execute_result"
    }
   ],
   "source": [
    "initial = 5000\n",
    "slopes = list(range(2,8))\n",
    "maxs = list(range(2,8))\n",
    "\n",
    "profits = opt.opt_amountfunc_aggr(slopes, maxs, 0.125, \"C3\", initial, plot=True)\n",
    "profits"
   ]
  },
  {
   "cell_type": "markdown",
   "metadata": {},
   "source": [
    "Until here, let's run"
   ]
  },
  {
   "cell_type": "code",
   "execution_count": 19,
   "metadata": {},
   "outputs": [],
   "source": [
    "strat.amount_slope = 6\n",
    "strat.amount_max = 5\n",
    "strat.cut = 0.125\n",
    "strat.grade = \"C3\"\n",
    "\n",
    "tester = backtester.Backtester(DataHelper, xgb, strat, 1)\n",
    "tester.initialInvest = 5000\n",
    "total, C, l, profit = tester.backtest(DataHelper.test, returnAll = True)\n",
    "\n",
    " # sort by expected payoff\n",
    "int_rate = total[\"int_rate\"] / 12\n",
    "int_rate = np.array([sum(x * np.array([1-i*1/36 for i in range(0, 36)])) for x in int_rate])\n",
    "expected = int_rate - total[\"score\"]\n",
    "expected = np.sort(expected)"
   ]
  },
  {
   "cell_type": "code",
   "execution_count": 20,
   "metadata": {},
   "outputs": [
    {
     "data": {
      "text/plain": [
       "[<matplotlib.lines.Line2D at 0x7fa276fe74a8>]"
      ]
     },
     "execution_count": 20,
     "metadata": {},
     "output_type": "execute_result"
    },
    {
     "data": {
      "image/png": "[encoded data removed]",
      "text/plain": [
       "<Figure size 432x288 with 1 Axes>"
      ]
     },
     "metadata": {
      "needs_background": "light"
     },
     "output_type": "display_data"
    }
   ],
   "source": [
    "amounts = strat.amounts_func(expected)\n",
    "plt.plot(expected, amounts)"
   ]
  },
  {
   "cell_type": "code",
   "execution_count": 21,
   "metadata": {},
   "outputs": [],
   "source": [
    "strat.amount_slope = 7\n",
    "strat.amount_max = 6\n",
    "strat.cut = 0.1\n",
    "strat.grade = \"C2\"\n",
    "\n",
    "tester = backtester.Backtester(DataHelper, xgb, strat, 1)\n",
    "tester.initialInvest = 30000\n",
    "total, C, l, profit = tester.backtest(DataHelper.test, returnAll = True)\n",
    "\n",
    " # sort by expected payoff\n",
    "int_rate = total[\"int_rate\"] / 12\n",
    "int_rate = np.array([sum(x * np.array([1-i*1/36 for i in range(0, 36)])) for x in int_rate])\n",
    "expected = int_rate - total[\"score\"]\n",
    "expected = np.sort(expected)"
   ]
  },
  {
   "cell_type": "code",
   "execution_count": 22,
   "metadata": {},
   "outputs": [
    {
     "data": {
      "text/plain": [
       "[<matplotlib.lines.Line2D at 0x7fa2708222e8>]"
      ]
     },
     "execution_count": 22,
     "metadata": {},
     "output_type": "execute_result"
    },
    {
     "data": {
      "image/png": "[encoded data removed]",
      "text/plain": [
       "<Figure size 432x288 with 1 Axes>"
      ]
     },
     "metadata": {
      "needs_background": "light"
     },
     "output_type": "display_data"
    }
   ],
   "source": [
    "amounts = strat.amounts_func(expected)\n",
    "plt.plot(expected, amounts)"
   ]
  },
  {
   "cell_type": "markdown",
   "metadata": {},
   "source": [
    "## Check recent loans to invest"
   ]
  },
  {
   "cell_type": "code",
   "execution_count": 25,
   "metadata": {},
   "outputs": [],
   "source": [
    "# set test data\n",
    "DataHelper.set_test_dataset([\"LoanStats_2020Q1.csv\", \"LoanStats_2020Q2.csv\", \"LoanStats_2020Q3.csv\"], includeCurrent=True)"
   ]
  },
  {
   "cell_type": "code",
   "execution_count": 26,
   "metadata": {},
   "outputs": [],
   "source": [
    "test = DataHelper.test\n",
    "test.shape"
   ]
  },
  {
   "cell_type": "code",
   "execution_count": 36,
   "metadata": {},
   "outputs": [],
   "source": [
    "# strategy\n",
    "strat = investment.StrategyClassComplex(xgb)\n",
    "strat.grade = \"C3\"\n",
    "strat.cut = 0.125"
   ]
  },
  {
   "cell_type": "code",
   "execution_count": 37,
   "metadata": {},
   "outputs": [
    {
     "data": {
      "text/plain": [
       "(2439, 102)"
      ]
     },
     "execution_count": 37,
     "metadata": {},
     "output_type": "execute_result"
    }
   ],
   "source": [
    "loans = strat.invest_loans(test, backtest=True)\n",
    "loans.shape"
   ]
  },
  {
   "cell_type": "code",
   "execution_count": 39,
   "metadata": {},
   "outputs": [
    {
     "name": "stdout",
     "output_type": "stream",
     "text": [
      "60975\n"
     ]
    },
    {
     "data": {
      "text/html": [
       "<div>\n",
       "<style scoped>\n",
       "    .dataframe tbody tr th:only-of-type {\n",
       "        vertical-align: middle;\n",
       "    }\n",
       "\n",
       "    .dataframe tbody tr th {\n",
       "        vertical-align: top;\n",
       "    }\n",
       "\n",
       "    .dataframe thead th {\n",
       "        text-align: right;\n",
       "    }\n",
       "</style>\n",
       "<table border=\"1\" class=\"dataframe\">\n",
       "  <thead>\n",
       "    <tr style=\"text-align: right;\">\n",
       "      <th></th>\n",
       "      <th>int_rate</th>\n",
       "      <th>count</th>\n",
       "    </tr>\n",
       "    <tr>\n",
       "      <th>sub_grade</th>\n",
       "      <th></th>\n",
       "      <th></th>\n",
       "    </tr>\n",
       "  </thead>\n",
       "  <tbody>\n",
       "    <tr>\n",
       "      <th>A3</th>\n",
       "      <td>0.095600</td>\n",
       "      <td>10</td>\n",
       "    </tr>\n",
       "    <tr>\n",
       "      <th>A4</th>\n",
       "      <td>0.101900</td>\n",
       "      <td>27</td>\n",
       "    </tr>\n",
       "    <tr>\n",
       "      <th>A5</th>\n",
       "      <td>0.108100</td>\n",
       "      <td>53</td>\n",
       "    </tr>\n",
       "    <tr>\n",
       "      <th>B1</th>\n",
       "      <td>0.131231</td>\n",
       "      <td>116</td>\n",
       "    </tr>\n",
       "    <tr>\n",
       "      <th>B2</th>\n",
       "      <td>0.136610</td>\n",
       "      <td>234</td>\n",
       "    </tr>\n",
       "    <tr>\n",
       "      <th>B3</th>\n",
       "      <td>0.139376</td>\n",
       "      <td>268</td>\n",
       "    </tr>\n",
       "    <tr>\n",
       "      <th>B4</th>\n",
       "      <td>0.145327</td>\n",
       "      <td>211</td>\n",
       "    </tr>\n",
       "    <tr>\n",
       "      <th>B5</th>\n",
       "      <td>0.153068</td>\n",
       "      <td>291</td>\n",
       "    </tr>\n",
       "    <tr>\n",
       "      <th>C1</th>\n",
       "      <td>0.161576</td>\n",
       "      <td>323</td>\n",
       "    </tr>\n",
       "    <tr>\n",
       "      <th>C2</th>\n",
       "      <td>0.170021</td>\n",
       "      <td>412</td>\n",
       "    </tr>\n",
       "    <tr>\n",
       "      <th>C3</th>\n",
       "      <td>0.177961</td>\n",
       "      <td>494</td>\n",
       "    </tr>\n",
       "  </tbody>\n",
       "</table>\n",
       "</div>"
      ],
      "text/plain": [
       "           int_rate  count\n",
       "sub_grade                 \n",
       "A3         0.095600     10\n",
       "A4         0.101900     27\n",
       "A5         0.108100     53\n",
       "B1         0.131231    116\n",
       "B2         0.136610    234\n",
       "B3         0.139376    268\n",
       "B4         0.145327    211\n",
       "B5         0.153068    291\n",
       "C1         0.161576    323\n",
       "C2         0.170021    412\n",
       "C3         0.177961    494"
      ]
     },
     "execution_count": 39,
     "metadata": {},
     "output_type": "execute_result"
    }
   ],
   "source": [
    "summ1 = loans.loc[:,[\"sub_grade\", \"int_rate\"]].groupby([\"sub_grade\"]).agg(\"mean\")\n",
    "cnt = loans.loc[:,[\"sub_grade\", \"int_rate\"]].groupby([\"sub_grade\"]).agg(\"count\")\n",
    "summ1[\"count\"] = cnt\n",
    "\n",
    "print(sum(summ1[\"count\"]) * 25)\n",
    "summ1"
   ]
  },
  {
   "cell_type": "code",
   "execution_count": 40,
   "metadata": {},
   "outputs": [],
   "source": [
    "# strategy\n",
    "strat = investment.StrategyClassComplex(xgb)\n",
    "strat.grade = \"B5\"\n",
    "strat.cut = 0.1"
   ]
  },
  {
   "cell_type": "code",
   "execution_count": 41,
   "metadata": {},
   "outputs": [
    {
     "data": {
      "text/plain": [
       "(6524, 102)"
      ]
     },
     "execution_count": 41,
     "metadata": {},
     "output_type": "execute_result"
    }
   ],
   "source": [
    "loans = strat.invest_loans(test, backtest=True)\n",
    "loans.shape"
   ]
  },
  {
   "cell_type": "code",
   "execution_count": 42,
   "metadata": {},
   "outputs": [
    {
     "name": "stdout",
     "output_type": "stream",
     "text": [
      "163100\n"
     ]
    },
    {
     "data": {
      "text/html": [
       "<div>\n",
       "<style scoped>\n",
       "    .dataframe tbody tr th:only-of-type {\n",
       "        vertical-align: middle;\n",
       "    }\n",
       "\n",
       "    .dataframe tbody tr th {\n",
       "        vertical-align: top;\n",
       "    }\n",
       "\n",
       "    .dataframe thead th {\n",
       "        text-align: right;\n",
       "    }\n",
       "</style>\n",
       "<table border=\"1\" class=\"dataframe\">\n",
       "  <thead>\n",
       "    <tr style=\"text-align: right;\">\n",
       "      <th></th>\n",
       "      <th>int_rate</th>\n",
       "      <th>count</th>\n",
       "    </tr>\n",
       "    <tr>\n",
       "      <th>sub_grade</th>\n",
       "      <th></th>\n",
       "      <th></th>\n",
       "    </tr>\n",
       "  </thead>\n",
       "  <tbody>\n",
       "    <tr>\n",
       "      <th>A1</th>\n",
       "      <td>0.084600</td>\n",
       "      <td>967</td>\n",
       "    </tr>\n",
       "    <tr>\n",
       "      <th>A2</th>\n",
       "      <td>0.090200</td>\n",
       "      <td>348</td>\n",
       "    </tr>\n",
       "    <tr>\n",
       "      <th>A3</th>\n",
       "      <td>0.094932</td>\n",
       "      <td>509</td>\n",
       "    </tr>\n",
       "    <tr>\n",
       "      <th>A4</th>\n",
       "      <td>0.099984</td>\n",
       "      <td>428</td>\n",
       "    </tr>\n",
       "    <tr>\n",
       "      <th>A5</th>\n",
       "      <td>0.106068</td>\n",
       "      <td>886</td>\n",
       "    </tr>\n",
       "    <tr>\n",
       "      <th>B1</th>\n",
       "      <td>0.122769</td>\n",
       "      <td>527</td>\n",
       "    </tr>\n",
       "    <tr>\n",
       "      <th>B2</th>\n",
       "      <td>0.127353</td>\n",
       "      <td>843</td>\n",
       "    </tr>\n",
       "    <tr>\n",
       "      <th>B3</th>\n",
       "      <td>0.133032</td>\n",
       "      <td>821</td>\n",
       "    </tr>\n",
       "    <tr>\n",
       "      <th>B4</th>\n",
       "      <td>0.139712</td>\n",
       "      <td>548</td>\n",
       "    </tr>\n",
       "    <tr>\n",
       "      <th>B5</th>\n",
       "      <td>0.147956</td>\n",
       "      <td>647</td>\n",
       "    </tr>\n",
       "  </tbody>\n",
       "</table>\n",
       "</div>"
      ],
      "text/plain": [
       "           int_rate  count\n",
       "sub_grade                 \n",
       "A1         0.084600    967\n",
       "A2         0.090200    348\n",
       "A3         0.094932    509\n",
       "A4         0.099984    428\n",
       "A5         0.106068    886\n",
       "B1         0.122769    527\n",
       "B2         0.127353    843\n",
       "B3         0.133032    821\n",
       "B4         0.139712    548\n",
       "B5         0.147956    647"
      ]
     },
     "execution_count": 42,
     "metadata": {},
     "output_type": "execute_result"
    }
   ],
   "source": [
    "summ2 = loans.loc[:,[\"sub_grade\", \"int_rate\"]].groupby([\"sub_grade\"]).agg(\"mean\")\n",
    "cnt = loans.loc[:,[\"sub_grade\", \"int_rate\"]].groupby([\"sub_grade\"]).agg(\"count\")\n",
    "summ2[\"count\"] = cnt\n",
    "\n",
    "print(sum(summ2[\"count\"]) * 25)\n",
    "summ2"
   ]
  },
  {
   "cell_type": "markdown",
   "metadata": {},
   "source": [
    "## Summary"
   ]
  },
  {
   "cell_type": "markdown",
   "metadata": {},
   "source": [
    "As we can see, the Aggressive strategy performs well producing ~6% annulized return. The strategy we are going to use is the Aggressive one based on the 0.125 cut and \"C3\" grade. We will not adjust investment money for each loans."
   ]
  },
  {
   "cell_type": "markdown",
   "metadata": {},
   "source": [
    "Please note that the key of our profit is really in the prediction model. Improving AUC will end up with higher profits."
   ]
  }
 ],
 "metadata": {
  "kernelspec": {
   "display_name": "Python 3",
   "language": "python",
   "name": "python3"
  },
  "language_info": {
   "codemirror_mode": {
    "name": "ipython",
    "version": 3
   },
   "file_extension": ".py",
   "mimetype": "text/x-python",
   "name": "python",
   "nbconvert_exporter": "python",
   "pygments_lexer": "ipython3",
   "version": "3.7.3"
  }
 },
 "nbformat": 4,
 "nbformat_minor": 2
}
