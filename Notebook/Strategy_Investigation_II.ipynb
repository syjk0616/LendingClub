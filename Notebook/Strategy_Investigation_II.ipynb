{
 "cells": [
  {
   "cell_type": "markdown",
   "metadata": {},
   "source": [
    "## 7. Backtesting"
   ]
  },
  {
   "cell_type": "markdown",
   "metadata": {},
   "source": [
    "Since we didn't consider prepayment timing and monthly installment, this has not been a precise analysis. From this section, let's run the backtesting to see how our investment evolves over time, and what we can expect from our investment.\n",
    "\n",
    "We ran the backtest on the one year OOT data from 2016Q3 to 2017Q2. The fitted xgb classification model is used for prediction."
   ]
  },
  {
   "cell_type": "code",
   "execution_count": 2,
   "metadata": {},
   "outputs": [],
   "source": [
    "import os\n",
    "\n",
    "# set dir by hardcode to run in crontab\n",
    "os.chdir(\"/home/jacob/Project/LendingClub/\")\n",
    "\n",
    "import Data_Helper as DH\n",
    "import lendingclub\n",
    "import prediction\n",
    "import investment\n",
    "import backtester\n",
    "import numpy as np\n",
    "import pandas as pd\n",
    "import json\n",
    "import time\n",
    "import matplotlib.pyplot as plt\n",
    "import seaborn as sns\n",
    "import warnings\n",
    "warnings.filterwarnings('ignore')\n",
    "\n",
    "%matplotlib inline\n",
    "\n",
    "pd.options.mode.chained_assignment = None  # default='warn'\n",
    "%load_ext autoreload\n",
    "%autoreload 2"
   ]
  },
  {
   "cell_type": "code",
   "execution_count": 3,
   "metadata": {},
   "outputs": [],
   "source": [
    "# initialize config object\n",
    "config = lendingclub.ConfigData(\"config_data_dummy.ini\")\n",
    "\n",
    "# initialize lendingclup api object\n",
    "lc = lendingclub.LendingClub(config)\n",
    "\n",
    "# initialize data transformer\n",
    "transformer = DH.Transformer_full()\n",
    "\n",
    "# initialize DataHelper\n",
    "periodStart = (\"Q1\", \"2014\")\n",
    "periodEnd = (\"Q4\", \"2016\")\n",
    "DataHelper = DH.DataHelper(periodStart, periodEnd, transformer, lc)"
   ]
  },
  {
   "cell_type": "code",
   "execution_count": 4,
   "metadata": {},
   "outputs": [],
   "source": [
    "# set training data\n",
    "DataHelper.set_training_dataset()"
   ]
  },
  {
   "cell_type": "code",
   "execution_count": 5,
   "metadata": {},
   "outputs": [],
   "source": [
    "# set test data\n",
    "DataHelper.set_test_dataset([\"LoanStats_2017Q1.csv\", \"LoanStats_2017Q2.csv\", \n",
    "                             \"LoanStats_2017Q3.csv\", \"LoanStats_2017Q4.csv\"])"
   ]
  },
  {
   "cell_type": "code",
   "execution_count": 6,
   "metadata": {},
   "outputs": [],
   "source": [
    "# instantiate our model\n",
    "xgb = prediction.ModelXGBClassfication()"
   ]
  },
  {
   "cell_type": "code",
   "execution_count": 6,
   "metadata": {},
   "outputs": [],
   "source": [
    "# get training/test for this model\n",
    "training, test = xgb.get_data_for_model(DataHelper.training, DataHelper.test)"
   ]
  },
  {
   "cell_type": "code",
   "execution_count": 7,
   "metadata": {},
   "outputs": [],
   "source": [
    "# production parameters\n",
    "param = {\n",
    "    'n_estimators': 3320,\n",
    "    'tree_method': 'hist',\n",
    "    'learning_rate': 0.01,\n",
    "    'max_depth': 7,\n",
    "    'min_child_weight': 3,\n",
    "    'gamma': 0.1,\n",
    "    'subsample': 0.7,\n",
    "    'colsample_bytree': 0.6,\n",
    "    'reg_alpha': 0.1\n",
    "}"
   ]
  },
  {
   "cell_type": "code",
   "execution_count": 8,
   "metadata": {},
   "outputs": [
    {
     "name": "stdout",
     "output_type": "stream",
     "text": [
      "test score: {'score': 0.7756470285567275, 'AUC': 0.7066080542141698}\n",
      "559.8008549213409\n"
     ]
    }
   ],
   "source": [
    "# Check time\n",
    "start = time.time()\n",
    "\n",
    "model = xgb.fit_model(training, **param)\n",
    "score = xgb.test_model(test, model)\n",
    "print(\"test score:\",score)\n",
    "\n",
    "end = time.time()\n",
    "print(end - start)"
   ]
  },
  {
   "cell_type": "code",
   "execution_count": 9,
   "metadata": {},
   "outputs": [],
   "source": [
    "scaler = xgb.get_scaler(DataHelper.training)"
   ]
  },
  {
   "cell_type": "code",
   "execution_count": 10,
   "metadata": {},
   "outputs": [
    {
     "name": "stdout",
     "output_type": "stream",
     "text": [
      "Model is saved on temp.sav\n"
     ]
    }
   ],
   "source": [
    "filename = \"temp.sav\"\n",
    "xgb.save_model(model,scaler,training,filename)"
   ]
  },
  {
   "cell_type": "code",
   "execution_count": 7,
   "metadata": {},
   "outputs": [],
   "source": [
    "# file name\n",
    "filename = \"temp.sav\""
   ]
  },
  {
   "cell_type": "code",
   "execution_count": 8,
   "metadata": {},
   "outputs": [
    {
     "name": "stdout",
     "output_type": "stream",
     "text": [
      "Model is loaded from temp.sav\n"
     ]
    },
    {
     "data": {
      "text/plain": [
       "'XGBoost Classification Object, time: 01/18/2020, eta: 0.01, num_rounds: 3320, max_depth: 7, subsample: 0.7'"
      ]
     },
     "execution_count": 8,
     "metadata": {},
     "output_type": "execute_result"
    }
   ],
   "source": [
    "# instantiate from beginning\n",
    "xgb = prediction.ModelXGBClassfication(filename)\n",
    "\n",
    "# update from the saved model\n",
    "xgb.set_model_from_file()\n",
    "\n",
    "# check model description\n",
    "xgb.model_description"
   ]
  },
  {
   "cell_type": "code",
   "execution_count": 9,
   "metadata": {},
   "outputs": [
    {
     "data": {
      "text/plain": [
       "<bound method XGBModel.get_params of XGBClassifier(base_score=0.5, booster='gbtree', colsample_bylevel=1,\n",
       "              colsample_bytree=0.6, gamma=0.1, learning_rate=0.01,\n",
       "              max_delta_step=0, max_depth=7, min_child_weight=3, missing=nan,\n",
       "              n_estimators=3320, n_jobs=8, nthread=None,\n",
       "              objective='binary:logistic', random_state=0, reg_alpha=0.1,\n",
       "              reg_lambda=1, scale_pos_weight=1, seed=None, silent=True,\n",
       "              subsample=0.7, tree_method='hist')>"
      ]
     },
     "execution_count": 9,
     "metadata": {},
     "output_type": "execute_result"
    }
   ],
   "source": [
    "xgb.model.get_params"
   ]
  },
  {
   "cell_type": "markdown",
   "metadata": {},
   "source": [
    "### 7.1 Conservaitve Strategy"
   ]
  },
  {
   "cell_type": "markdown",
   "metadata": {},
   "source": [
    "The first strategy we tried is the simple one which cuts the investment by the model score. Based on the test result, we can expect 4.3% anualized return if invest USD 10k. As expected, most of our investments focused on the A1 grade loans. So our profit of this investments mainly comes from the low default rate and rolling of the money. "
   ]
  },
  {
   "cell_type": "code",
   "execution_count": 14,
   "metadata": {},
   "outputs": [
    {
     "name": "stdout",
     "output_type": "stream",
     "text": [
      "This strategy chooses loans basaed on the simple score cut. In other words, it only invests to the loans with the model scores lower than the cut. It further filters out the selected loan by FICO score.\n"
     ]
    }
   ],
   "source": [
    "strat = investment.StrategyClassSimple(xgb)\n",
    "print(strat.description())"
   ]
  },
  {
   "cell_type": "code",
   "execution_count": 15,
   "metadata": {},
   "outputs": [],
   "source": [
    "opt = investment.StrategyOptimizer(DataHelper, xgb, strat)"
   ]
  },
  {
   "cell_type": "code",
   "execution_count": 16,
   "metadata": {},
   "outputs": [],
   "source": [
    "initial = 10000\n",
    "cuts = [0.01, 0.015, 0.02, 0.025, 0.03, 0.035, 0.04, 0.045, 0.05]"
   ]
  },
  {
   "cell_type": "code",
   "execution_count": 17,
   "metadata": {
    "scrolled": false
   },
   "outputs": [
    {
     "data": {
      "image/png": "[encoded data removed]",
      "text/plain": [
       "<Figure size 720x576 with 1 Axes>"
      ]
     },
     "metadata": {
      "needs_background": "light"
     },
     "output_type": "display_data"
    },
    {
     "data": {
      "text/plain": [
       "[0.03442178801978061,\n",
       " 0.04142040575448535,\n",
       " 0.04278507312259777,\n",
       " 0.04291817922415261,\n",
       " 0.04291817922415261,\n",
       " 0.04291817922415261,\n",
       " 0.04291817922415261,\n",
       " 0.04291817922415261,\n",
       " 0.04291817922415261]"
      ]
     },
     "execution_count": 17,
     "metadata": {},
     "output_type": "execute_result"
    }
   ],
   "source": [
    "profits = opt.opt_cut_conserv(cuts, initial)\n",
    "profits"
   ]
  },
  {
   "cell_type": "code",
   "execution_count": 18,
   "metadata": {},
   "outputs": [],
   "source": [
    "initials = np.array(range(1,7)) * 5000\n",
    "cuts = [0.02, 0.025, 0.03, 0.035, 0.04, 0.045, 0.05, 0.055, 0.06, 0.065, 0.07]"
   ]
  },
  {
   "cell_type": "code",
   "execution_count": 19,
   "metadata": {
    "scrolled": false
   },
   "outputs": [
    {
     "data": {
      "image/png": "[encoded data removed]",
      "text/plain": [
       "<Figure size 720x576 with 1 Axes>"
      ]
     },
     "metadata": {
      "needs_background": "light"
     },
     "output_type": "display_data"
    },
    {
     "data": {
      "text/plain": [
       "[{'initialInvest': 5000, 'cut': 0.02, 'return': 0.04277542484536157},\n",
       " {'initialInvest': 10000, 'cut': 0.025, 'return': 0.04291817922415261},\n",
       " {'initialInvest': 15000, 'cut': 0.03, 'return': 0.042404171929775636},\n",
       " {'initialInvest': 20000, 'cut': 0.03, 'return': 0.04238396373392881},\n",
       " {'initialInvest': 25000, 'cut': 0.035, 'return': 0.041297368518704046},\n",
       " {'initialInvest': 30000, 'cut': 0.04, 'return': 0.04176524592377154}]"
      ]
     },
     "execution_count": 19,
     "metadata": {},
     "output_type": "execute_result"
    }
   ],
   "source": [
    "profits = opt.opt_seed_conserv(cuts, initials)\n",
    "profits"
   ]
  },
  {
   "cell_type": "markdown",
   "metadata": {},
   "source": [
    "### 7.2 Aggresive Strategy"
   ]
  },
  {
   "cell_type": "markdown",
   "metadata": {},
   "source": [
    "3.6% is not too bad, but we can probably do better by simply improving the investment strategy, not the prediction model. So let's explore other strategies here. For the first, we tried the strategy taking risk slightly more agressively, which invest based on the expected return."
   ]
  },
  {
   "cell_type": "code",
   "execution_count": 11,
   "metadata": {},
   "outputs": [
    {
     "name": "stdout",
     "output_type": "stream",
     "text": [
      "This strategy chooses loans basaed on the expected payoff. The expected payoff is calculated by the interest rate minus the model score. If the calculated expected payoff is greater than the predefined cut, then it selects a loan. It further filters out the selected loan by FICO score and the loan grade.\n"
     ]
    }
   ],
   "source": [
    "strat = investment.StrategyClassComplex(xgb)\n",
    "print(strat.description())"
   ]
  },
  {
   "cell_type": "code",
   "execution_count": 12,
   "metadata": {},
   "outputs": [],
   "source": [
    "opt = investment.StrategyOptimizer(DataHelper, xgb, strat)"
   ]
  },
  {
   "cell_type": "markdown",
   "metadata": {},
   "source": [
    "Based on the backtesting results, if we invest USD 10K, then we can expect 5.98% when we limit the loans above expected resutn 0.1 and below \"C2\" grade. This is reasonable profit."
   ]
  },
  {
   "cell_type": "code",
   "execution_count": 22,
   "metadata": {},
   "outputs": [
    {
     "data": {
      "image/png": "[encoded data removed]",
      "text/plain": [
       "<Figure size 720x576 with 2 Axes>"
      ]
     },
     "metadata": {
      "needs_background": "light"
     },
     "output_type": "display_data"
    },
    {
     "data": {
      "text/html": [
       "<div>\n",
       "<style scoped>\n",
       "    .dataframe tbody tr th:only-of-type {\n",
       "        vertical-align: middle;\n",
       "    }\n",
       "\n",
       "    .dataframe tbody tr th {\n",
       "        vertical-align: top;\n",
       "    }\n",
       "\n",
       "    .dataframe thead th {\n",
       "        text-align: right;\n",
       "    }\n",
       "</style>\n",
       "<table border=\"1\" class=\"dataframe\">\n",
       "  <thead>\n",
       "    <tr style=\"text-align: right;\">\n",
       "      <th></th>\n",
       "      <th>B1</th>\n",
       "      <th>B2</th>\n",
       "      <th>B3</th>\n",
       "      <th>B4</th>\n",
       "      <th>B5</th>\n",
       "      <th>C1</th>\n",
       "      <th>C2</th>\n",
       "      <th>C3</th>\n",
       "      <th>C4</th>\n",
       "      <th>C5</th>\n",
       "    </tr>\n",
       "  </thead>\n",
       "  <tbody>\n",
       "    <tr>\n",
       "      <th>0.05</th>\n",
       "      <td>0.047628</td>\n",
       "      <td>0.050307</td>\n",
       "      <td>0.050517</td>\n",
       "      <td>0.056685</td>\n",
       "      <td>0.054889</td>\n",
       "      <td>0.058549</td>\n",
       "      <td>0.053879</td>\n",
       "      <td>0.052609</td>\n",
       "      <td>0.054188</td>\n",
       "      <td>0.055675</td>\n",
       "    </tr>\n",
       "    <tr>\n",
       "      <th>0.10</th>\n",
       "      <td>0.036503</td>\n",
       "      <td>0.046862</td>\n",
       "      <td>0.053516</td>\n",
       "      <td>0.056665</td>\n",
       "      <td>0.054889</td>\n",
       "      <td>0.058549</td>\n",
       "      <td>0.053879</td>\n",
       "      <td>0.052609</td>\n",
       "      <td>0.054188</td>\n",
       "      <td>0.055675</td>\n",
       "    </tr>\n",
       "    <tr>\n",
       "      <th>0.15</th>\n",
       "      <td>0.000000</td>\n",
       "      <td>0.000000</td>\n",
       "      <td>0.000000</td>\n",
       "      <td>0.000000</td>\n",
       "      <td>0.000000</td>\n",
       "      <td>0.019545</td>\n",
       "      <td>0.024094</td>\n",
       "      <td>0.025417</td>\n",
       "      <td>0.032190</td>\n",
       "      <td>0.038108</td>\n",
       "    </tr>\n",
       "    <tr>\n",
       "      <th>0.20</th>\n",
       "      <td>0.000000</td>\n",
       "      <td>0.000000</td>\n",
       "      <td>0.000000</td>\n",
       "      <td>0.000000</td>\n",
       "      <td>0.000000</td>\n",
       "      <td>0.000000</td>\n",
       "      <td>0.000000</td>\n",
       "      <td>0.000000</td>\n",
       "      <td>0.000000</td>\n",
       "      <td>0.000000</td>\n",
       "    </tr>\n",
       "    <tr>\n",
       "      <th>0.25</th>\n",
       "      <td>0.000000</td>\n",
       "      <td>0.000000</td>\n",
       "      <td>0.000000</td>\n",
       "      <td>0.000000</td>\n",
       "      <td>0.000000</td>\n",
       "      <td>0.000000</td>\n",
       "      <td>0.000000</td>\n",
       "      <td>0.000000</td>\n",
       "      <td>0.000000</td>\n",
       "      <td>0.000000</td>\n",
       "    </tr>\n",
       "    <tr>\n",
       "      <th>0.30</th>\n",
       "      <td>0.000000</td>\n",
       "      <td>0.000000</td>\n",
       "      <td>0.000000</td>\n",
       "      <td>0.000000</td>\n",
       "      <td>0.000000</td>\n",
       "      <td>0.000000</td>\n",
       "      <td>0.000000</td>\n",
       "      <td>0.000000</td>\n",
       "      <td>0.000000</td>\n",
       "      <td>0.000000</td>\n",
       "    </tr>\n",
       "    <tr>\n",
       "      <th>0.35</th>\n",
       "      <td>0.000000</td>\n",
       "      <td>0.000000</td>\n",
       "      <td>0.000000</td>\n",
       "      <td>0.000000</td>\n",
       "      <td>0.000000</td>\n",
       "      <td>0.000000</td>\n",
       "      <td>0.000000</td>\n",
       "      <td>0.000000</td>\n",
       "      <td>0.000000</td>\n",
       "      <td>0.000000</td>\n",
       "    </tr>\n",
       "  </tbody>\n",
       "</table>\n",
       "</div>"
      ],
      "text/plain": [
       "            B1        B2        B3        B4        B5        C1        C2  \\\n",
       "0.05  0.047628  0.050307  0.050517  0.056685  0.054889  0.058549  0.053879   \n",
       "0.10  0.036503  0.046862  0.053516  0.056665  0.054889  0.058549  0.053879   \n",
       "0.15  0.000000  0.000000  0.000000  0.000000  0.000000  0.019545  0.024094   \n",
       "0.20  0.000000  0.000000  0.000000  0.000000  0.000000  0.000000  0.000000   \n",
       "0.25  0.000000  0.000000  0.000000  0.000000  0.000000  0.000000  0.000000   \n",
       "0.30  0.000000  0.000000  0.000000  0.000000  0.000000  0.000000  0.000000   \n",
       "0.35  0.000000  0.000000  0.000000  0.000000  0.000000  0.000000  0.000000   \n",
       "\n",
       "            C3        C4        C5  \n",
       "0.05  0.052609  0.054188  0.055675  \n",
       "0.10  0.052609  0.054188  0.055675  \n",
       "0.15  0.025417  0.032190  0.038108  \n",
       "0.20  0.000000  0.000000  0.000000  \n",
       "0.25  0.000000  0.000000  0.000000  \n",
       "0.30  0.000000  0.000000  0.000000  \n",
       "0.35  0.000000  0.000000  0.000000  "
      ]
     },
     "execution_count": 22,
     "metadata": {},
     "output_type": "execute_result"
    }
   ],
   "source": [
    "initial = 10000\n",
    "grades = [\"B1\", \"B2\", \"B3\", \"B4\", \"B5\", \"C1\", \"C2\", \"C3\", \"C4\", \"C5\"]\n",
    "cuts = [0.05, 0.1, 0.15, 0.2, 0.25, 0.3, 0.35]\n",
    "\n",
    "profits = opt.opt_cut_aggr(cuts, grades, initial, plot=True)\n",
    "profits"
   ]
  },
  {
   "cell_type": "markdown",
   "metadata": {},
   "source": [
    "Let's explore further, whether we can get the better return if we invest more. The best parameter still remains at 0.1 and \"C2\" (or \"C3\" with minor difference). The reason of dereasing profit is due to the holding period. If we look at the investment amounts by month, entire funding cannot invested at first month if funding is larger than 10000. This is why the profit seems to be deteriorated (due to additional discounting). In other words, this does not inndicate the deteriorate of strategy. If we run the strategy long enough, than the difference will be faded out. "
   ]
  },
  {
   "cell_type": "code",
   "execution_count": 23,
   "metadata": {
    "scrolled": false
   },
   "outputs": [
    {
     "name": "stdout",
     "output_type": "stream",
     "text": [
      "10000\n"
     ]
    },
    {
     "data": {
      "image/png": "[encoded data removed]",
      "text/plain": [
       "<Figure size 720x576 with 2 Axes>"
      ]
     },
     "metadata": {
      "needs_background": "light"
     },
     "output_type": "display_data"
    },
    {
     "name": "stdout",
     "output_type": "stream",
     "text": [
      "20000\n"
     ]
    },
    {
     "data": {
      "image/png": "[encoded data removed]",
      "text/plain": [
       "<Figure size 720x576 with 2 Axes>"
      ]
     },
     "metadata": {
      "needs_background": "light"
     },
     "output_type": "display_data"
    },
    {
     "name": "stdout",
     "output_type": "stream",
     "text": [
      "30000\n"
     ]
    },
    {
     "data": {
      "image/png": "[encoded data removed]",
      "text/plain": [
       "<Figure size 720x576 with 2 Axes>"
      ]
     },
     "metadata": {
      "needs_background": "light"
     },
     "output_type": "display_data"
    },
    {
     "data": {
      "text/plain": [
       "[{'return': 0.05854907339886033,\n",
       "  'initialInvest': 10000,\n",
       "  'grade': 'C1',\n",
       "  'cut': 0.05},\n",
       " {'return': 0.055881503105990965,\n",
       "  'initialInvest': 20000,\n",
       "  'grade': 'C1',\n",
       "  'cut': 0.1},\n",
       " {'return': 0.05395802444138239,\n",
       "  'initialInvest': 30000,\n",
       "  'grade': 'C1',\n",
       "  'cut': 0.05}]"
      ]
     },
     "execution_count": 23,
     "metadata": {},
     "output_type": "execute_result"
    }
   ],
   "source": [
    "initials = np.array(range(1,4)) * 10000\n",
    "grades = [\"B4\", \"B5\", \"C1\", \"C2\", \"C3\", \"C4\", \"C5\"]\n",
    "cuts = [0.05, 0.075, 0.1, 0.125, 0.15, 0.175, 0.2, 0.225]\n",
    "\n",
    "profits = opt.opt_seed_aggr(cuts, grades, initials, plot=True)\n",
    "profits"
   ]
  },
  {
   "cell_type": "code",
   "execution_count": 13,
   "metadata": {},
   "outputs": [
    {
     "data": {
      "image/png": "[encoded data removed]",
      "text/plain": [
       "<Figure size 720x576 with 1 Axes>"
      ]
     },
     "metadata": {
      "needs_background": "light"
     },
     "output_type": "display_data"
    }
   ],
   "source": [
    "plt.figure(figsize=(10,8))\n",
    "seeds = [10000, 20000, 30000]\n",
    "for seed in seeds:\n",
    "    strat.cut = 0.1\n",
    "    strat.grade = \"C2\"\n",
    "    tester = backtester.Backtester(DataHelper, xgb, strat, 1)\n",
    "    tester.initialInvest = seed\n",
    "    total, C, l, profit = tester.backtest(DataHelper.test, returnAll = True)\n",
    "    plt.plot(l)\n",
    "\n",
    "plt.legend([\"initial:{}\".format(x) for x in seeds], loc='upper right')\n",
    "plt.show()"
   ]
  },
  {
   "cell_type": "code",
   "execution_count": 14,
   "metadata": {},
   "outputs": [
    {
     "data": {
      "text/html": [
       "<div>\n",
       "<style scoped>\n",
       "    .dataframe tbody tr th:only-of-type {\n",
       "        vertical-align: middle;\n",
       "    }\n",
       "\n",
       "    .dataframe tbody tr th {\n",
       "        vertical-align: top;\n",
       "    }\n",
       "\n",
       "    .dataframe thead th {\n",
       "        text-align: right;\n",
       "    }\n",
       "</style>\n",
       "<table border=\"1\" class=\"dataframe\">\n",
       "  <thead>\n",
       "    <tr style=\"text-align: right;\">\n",
       "      <th></th>\n",
       "      <th>bad_loan</th>\n",
       "      <th>count</th>\n",
       "      <th>rate</th>\n",
       "    </tr>\n",
       "    <tr>\n",
       "      <th>sub_grade</th>\n",
       "      <th></th>\n",
       "      <th></th>\n",
       "      <th></th>\n",
       "    </tr>\n",
       "  </thead>\n",
       "  <tbody>\n",
       "    <tr>\n",
       "      <th>A4</th>\n",
       "      <td>0.0</td>\n",
       "      <td>2</td>\n",
       "      <td>0.000000</td>\n",
       "    </tr>\n",
       "    <tr>\n",
       "      <th>A5</th>\n",
       "      <td>1.0</td>\n",
       "      <td>5</td>\n",
       "      <td>0.200000</td>\n",
       "    </tr>\n",
       "    <tr>\n",
       "      <th>B1</th>\n",
       "      <td>1.0</td>\n",
       "      <td>10</td>\n",
       "      <td>0.100000</td>\n",
       "    </tr>\n",
       "    <tr>\n",
       "      <th>B2</th>\n",
       "      <td>12.0</td>\n",
       "      <td>173</td>\n",
       "      <td>0.069364</td>\n",
       "    </tr>\n",
       "    <tr>\n",
       "      <th>B3</th>\n",
       "      <td>20.0</td>\n",
       "      <td>310</td>\n",
       "      <td>0.064516</td>\n",
       "    </tr>\n",
       "    <tr>\n",
       "      <th>B4</th>\n",
       "      <td>16.0</td>\n",
       "      <td>289</td>\n",
       "      <td>0.055363</td>\n",
       "    </tr>\n",
       "    <tr>\n",
       "      <th>B5</th>\n",
       "      <td>26.0</td>\n",
       "      <td>318</td>\n",
       "      <td>0.081761</td>\n",
       "    </tr>\n",
       "    <tr>\n",
       "      <th>C1</th>\n",
       "      <td>37.0</td>\n",
       "      <td>401</td>\n",
       "      <td>0.092269</td>\n",
       "    </tr>\n",
       "    <tr>\n",
       "      <th>C2</th>\n",
       "      <td>61.0</td>\n",
       "      <td>531</td>\n",
       "      <td>0.114878</td>\n",
       "    </tr>\n",
       "  </tbody>\n",
       "</table>\n",
       "</div>"
      ],
      "text/plain": [
       "           bad_loan  count      rate\n",
       "sub_grade                           \n",
       "A4              0.0      2  0.000000\n",
       "A5              1.0      5  0.200000\n",
       "B1              1.0     10  0.100000\n",
       "B2             12.0    173  0.069364\n",
       "B3             20.0    310  0.064516\n",
       "B4             16.0    289  0.055363\n",
       "B5             26.0    318  0.081761\n",
       "C1             37.0    401  0.092269\n",
       "C2             61.0    531  0.114878"
      ]
     },
     "execution_count": 14,
     "metadata": {},
     "output_type": "execute_result"
    }
   ],
   "source": [
    "summary = total[[\"sub_grade\", \"bad_loan\"]].groupby([\"sub_grade\"]).agg(\"sum\")\n",
    "summary[\"count\"] = total[[\"sub_grade\", \"int_rate\"]].groupby([\"sub_grade\"]).agg(\"count\")\n",
    "summary[\"rate\"] = summary[\"bad_loan\"]/summary[\"count\"]\n",
    "summary"
   ]
  },
  {
   "cell_type": "markdown",
   "metadata": {},
   "source": [
    "## Aggressive Strategy with adjusted amounts"
   ]
  },
  {
   "cell_type": "markdown",
   "metadata": {},
   "source": [
    "Can we do better? We can probably increase the profit by adjusting investment amounts for each loan based on the expected retrn. Let's explore the strategy here. We will stick to the parameter 0.1 and \"C2\". However, we will adjust invest amount by using logistic function on expected return. The slope and maximum of the function will be finetuned through backtesting.\n",
    "\n",
    "It marginally increases the profits. However, it also added large uncertainty, since the optimal parameters shifted a lot depending on the initial amount invested. Therefore, adjusting amounts does not seem to be necessary in our strategy."
   ]
  },
  {
   "cell_type": "code",
   "execution_count": 15,
   "metadata": {},
   "outputs": [
    {
     "name": "stdout",
     "output_type": "stream",
     "text": [
      "This strategy chooses loans basaed on the expected payoff. The expected payoff is calculated by the interest rate minus the model score. If the calculated expected payoff is greater than the predefined cut, then it selects a loan. It also increase the invest amount for each loan based on the payoff. It further filters out the selected loan by FICO score and the loan grade.\n"
     ]
    }
   ],
   "source": [
    "strat = investment.StrategyClassComplexII(xgb)\n",
    "print(strat.description())"
   ]
  },
  {
   "cell_type": "code",
   "execution_count": 16,
   "metadata": {},
   "outputs": [],
   "source": [
    "opt = investment.StrategyOptimizer(DataHelper, xgb, strat)"
   ]
  },
  {
   "cell_type": "code",
   "execution_count": 17,
   "metadata": {},
   "outputs": [
    {
     "data": {
      "image/png": "[encoded data removed]",
      "text/plain": [
       "<Figure size 720x576 with 2 Axes>"
      ]
     },
     "metadata": {
      "needs_background": "light"
     },
     "output_type": "display_data"
    },
    {
     "data": {
      "text/html": [
       "<div>\n",
       "<style scoped>\n",
       "    .dataframe tbody tr th:only-of-type {\n",
       "        vertical-align: middle;\n",
       "    }\n",
       "\n",
       "    .dataframe tbody tr th {\n",
       "        vertical-align: top;\n",
       "    }\n",
       "\n",
       "    .dataframe thead th {\n",
       "        text-align: right;\n",
       "    }\n",
       "</style>\n",
       "<table border=\"1\" class=\"dataframe\">\n",
       "  <thead>\n",
       "    <tr style=\"text-align: right;\">\n",
       "      <th></th>\n",
       "      <th>2</th>\n",
       "      <th>3</th>\n",
       "      <th>4</th>\n",
       "      <th>5</th>\n",
       "      <th>6</th>\n",
       "      <th>7</th>\n",
       "    </tr>\n",
       "  </thead>\n",
       "  <tbody>\n",
       "    <tr>\n",
       "      <th>2</th>\n",
       "      <td>0.053879</td>\n",
       "      <td>0.053879</td>\n",
       "      <td>0.053879</td>\n",
       "      <td>0.053879</td>\n",
       "      <td>0.053879</td>\n",
       "      <td>0.053879</td>\n",
       "    </tr>\n",
       "    <tr>\n",
       "      <th>3</th>\n",
       "      <td>0.053879</td>\n",
       "      <td>0.053879</td>\n",
       "      <td>0.053879</td>\n",
       "      <td>0.053879</td>\n",
       "      <td>0.053879</td>\n",
       "      <td>0.053879</td>\n",
       "    </tr>\n",
       "    <tr>\n",
       "      <th>4</th>\n",
       "      <td>0.053879</td>\n",
       "      <td>0.053879</td>\n",
       "      <td>0.053879</td>\n",
       "      <td>0.053879</td>\n",
       "      <td>0.053879</td>\n",
       "      <td>0.053718</td>\n",
       "    </tr>\n",
       "    <tr>\n",
       "      <th>5</th>\n",
       "      <td>0.053879</td>\n",
       "      <td>0.053879</td>\n",
       "      <td>0.053879</td>\n",
       "      <td>0.053879</td>\n",
       "      <td>0.053732</td>\n",
       "      <td>0.053839</td>\n",
       "    </tr>\n",
       "    <tr>\n",
       "      <th>6</th>\n",
       "      <td>0.053879</td>\n",
       "      <td>0.053879</td>\n",
       "      <td>0.053879</td>\n",
       "      <td>0.053732</td>\n",
       "      <td>0.053692</td>\n",
       "      <td>0.053602</td>\n",
       "    </tr>\n",
       "    <tr>\n",
       "      <th>7</th>\n",
       "      <td>0.053879</td>\n",
       "      <td>0.053879</td>\n",
       "      <td>0.053718</td>\n",
       "      <td>0.053855</td>\n",
       "      <td>0.053602</td>\n",
       "      <td>0.053410</td>\n",
       "    </tr>\n",
       "  </tbody>\n",
       "</table>\n",
       "</div>"
      ],
      "text/plain": [
       "          2         3         4         5         6         7\n",
       "2  0.053879  0.053879  0.053879  0.053879  0.053879  0.053879\n",
       "3  0.053879  0.053879  0.053879  0.053879  0.053879  0.053879\n",
       "4  0.053879  0.053879  0.053879  0.053879  0.053879  0.053718\n",
       "5  0.053879  0.053879  0.053879  0.053879  0.053732  0.053839\n",
       "6  0.053879  0.053879  0.053879  0.053732  0.053692  0.053602\n",
       "7  0.053879  0.053879  0.053718  0.053855  0.053602  0.053410"
      ]
     },
     "execution_count": 17,
     "metadata": {},
     "output_type": "execute_result"
    }
   ],
   "source": [
    "initial = 10000\n",
    "slopes = list(range(2,8))\n",
    "maxs = list(range(2,8))\n",
    "\n",
    "profits = opt.opt_amountfunc_aggr(slopes, maxs, 0.1, \"C2\", initial, plot=True)\n",
    "profits"
   ]
  },
  {
   "cell_type": "code",
   "execution_count": 18,
   "metadata": {},
   "outputs": [
    {
     "data": {
      "image/png": "[encoded data removed]",
      "text/plain": [
       "<Figure size 720x576 with 2 Axes>"
      ]
     },
     "metadata": {
      "needs_background": "light"
     },
     "output_type": "display_data"
    },
    {
     "data": {
      "text/html": [
       "<div>\n",
       "<style scoped>\n",
       "    .dataframe tbody tr th:only-of-type {\n",
       "        vertical-align: middle;\n",
       "    }\n",
       "\n",
       "    .dataframe tbody tr th {\n",
       "        vertical-align: top;\n",
       "    }\n",
       "\n",
       "    .dataframe thead th {\n",
       "        text-align: right;\n",
       "    }\n",
       "</style>\n",
       "<table border=\"1\" class=\"dataframe\">\n",
       "  <thead>\n",
       "    <tr style=\"text-align: right;\">\n",
       "      <th></th>\n",
       "      <th>2</th>\n",
       "      <th>3</th>\n",
       "      <th>4</th>\n",
       "      <th>5</th>\n",
       "      <th>6</th>\n",
       "      <th>7</th>\n",
       "    </tr>\n",
       "  </thead>\n",
       "  <tbody>\n",
       "    <tr>\n",
       "      <th>2</th>\n",
       "      <td>0.05102</td>\n",
       "      <td>0.05102</td>\n",
       "      <td>0.05102</td>\n",
       "      <td>0.051020</td>\n",
       "      <td>0.051020</td>\n",
       "      <td>0.051020</td>\n",
       "    </tr>\n",
       "    <tr>\n",
       "      <th>3</th>\n",
       "      <td>0.05102</td>\n",
       "      <td>0.05102</td>\n",
       "      <td>0.05102</td>\n",
       "      <td>0.051020</td>\n",
       "      <td>0.051020</td>\n",
       "      <td>0.051020</td>\n",
       "    </tr>\n",
       "    <tr>\n",
       "      <th>4</th>\n",
       "      <td>0.05102</td>\n",
       "      <td>0.05102</td>\n",
       "      <td>0.05102</td>\n",
       "      <td>0.051020</td>\n",
       "      <td>0.051020</td>\n",
       "      <td>0.051140</td>\n",
       "    </tr>\n",
       "    <tr>\n",
       "      <th>5</th>\n",
       "      <td>0.05102</td>\n",
       "      <td>0.05102</td>\n",
       "      <td>0.05102</td>\n",
       "      <td>0.051020</td>\n",
       "      <td>0.050998</td>\n",
       "      <td>0.051126</td>\n",
       "    </tr>\n",
       "    <tr>\n",
       "      <th>6</th>\n",
       "      <td>0.05102</td>\n",
       "      <td>0.05102</td>\n",
       "      <td>0.05102</td>\n",
       "      <td>0.050998</td>\n",
       "      <td>0.050986</td>\n",
       "      <td>0.050941</td>\n",
       "    </tr>\n",
       "    <tr>\n",
       "      <th>7</th>\n",
       "      <td>0.05102</td>\n",
       "      <td>0.05102</td>\n",
       "      <td>0.05114</td>\n",
       "      <td>0.051132</td>\n",
       "      <td>0.050952</td>\n",
       "      <td>0.050845</td>\n",
       "    </tr>\n",
       "  </tbody>\n",
       "</table>\n",
       "</div>"
      ],
      "text/plain": [
       "         2        3        4         5         6         7\n",
       "2  0.05102  0.05102  0.05102  0.051020  0.051020  0.051020\n",
       "3  0.05102  0.05102  0.05102  0.051020  0.051020  0.051020\n",
       "4  0.05102  0.05102  0.05102  0.051020  0.051020  0.051140\n",
       "5  0.05102  0.05102  0.05102  0.051020  0.050998  0.051126\n",
       "6  0.05102  0.05102  0.05102  0.050998  0.050986  0.050941\n",
       "7  0.05102  0.05102  0.05114  0.051132  0.050952  0.050845"
      ]
     },
     "execution_count": 18,
     "metadata": {},
     "output_type": "execute_result"
    }
   ],
   "source": [
    "initial = 30000\n",
    "slopes = list(range(2,8))\n",
    "maxs = list(range(2,8))\n",
    "\n",
    "profits = opt.opt_amountfunc_aggr(slopes, maxs, 0.1, \"C2\", initial, plot=True)\n",
    "profits"
   ]
  },
  {
   "cell_type": "markdown",
   "metadata": {},
   "source": [
    "Until here, let's run"
   ]
  },
  {
   "cell_type": "code",
   "execution_count": 19,
   "metadata": {},
   "outputs": [],
   "source": [
    "strat.amount_slope = 6\n",
    "strat.amount_max = 5\n",
    "strat.cut = 0.1\n",
    "strat.grade = \"C2\"\n",
    "\n",
    "tester = backtester.Backtester(DataHelper, xgb, strat, 1)\n",
    "tester.initialInvest = 10000\n",
    "total, C, l, profit = tester.backtest(DataHelper.test, returnAll = True)\n",
    "\n",
    " # sort by expected payoff\n",
    "int_rate = total[\"int_rate\"] / 12\n",
    "int_rate = np.array([sum(x * np.array([1-i*1/36 for i in range(0, 36)])) for x in int_rate])\n",
    "expected = int_rate - total[\"score\"]\n",
    "expected = np.sort(expected)"
   ]
  },
  {
   "cell_type": "code",
   "execution_count": 20,
   "metadata": {},
   "outputs": [
    {
     "data": {
      "text/plain": [
       "[<matplotlib.lines.Line2D at 0x7fa276fe74a8>]"
      ]
     },
     "execution_count": 20,
     "metadata": {},
     "output_type": "execute_result"
    },
    {
     "data": {
      "image/png": "[encoded data removed]",
      "text/plain": [
       "<Figure size 432x288 with 1 Axes>"
      ]
     },
     "metadata": {
      "needs_background": "light"
     },
     "output_type": "display_data"
    }
   ],
   "source": [
    "amounts = strat.amounts_func(expected)\n",
    "plt.plot(expected, amounts)"
   ]
  },
  {
   "cell_type": "code",
   "execution_count": 21,
   "metadata": {},
   "outputs": [],
   "source": [
    "strat.amount_slope = 7\n",
    "strat.amount_max = 6\n",
    "strat.cut = 0.1\n",
    "strat.grade = \"C2\"\n",
    "\n",
    "tester = backtester.Backtester(DataHelper, xgb, strat, 1)\n",
    "tester.initialInvest = 30000\n",
    "total, C, l, profit = tester.backtest(DataHelper.test, returnAll = True)\n",
    "\n",
    " # sort by expected payoff\n",
    "int_rate = total[\"int_rate\"] / 12\n",
    "int_rate = np.array([sum(x * np.array([1-i*1/36 for i in range(0, 36)])) for x in int_rate])\n",
    "expected = int_rate - total[\"score\"]\n",
    "expected = np.sort(expected)"
   ]
  },
  {
   "cell_type": "code",
   "execution_count": 22,
   "metadata": {},
   "outputs": [
    {
     "data": {
      "text/plain": [
       "[<matplotlib.lines.Line2D at 0x7fa2708222e8>]"
      ]
     },
     "execution_count": 22,
     "metadata": {},
     "output_type": "execute_result"
    },
    {
     "data": {
      "image/png": "[encoded data removed]",
      "text/plain": [
       "<Figure size 432x288 with 1 Axes>"
      ]
     },
     "metadata": {
      "needs_background": "light"
     },
     "output_type": "display_data"
    }
   ],
   "source": [
    "amounts = strat.amounts_func(expected)\n",
    "plt.plot(expected, amounts)"
   ]
  },
  {
   "cell_type": "markdown",
   "metadata": {},
   "source": [
    "## Check recent loans to invest"
   ]
  },
  {
   "cell_type": "code",
   "execution_count": 23,
   "metadata": {},
   "outputs": [],
   "source": [
    "# initialize config object\n",
    "config = lendingclub.ConfigData(\"config_data_dummy.ini\")\n",
    "\n",
    "# initialize lendingclup api object\n",
    "lc = lendingclub.LendingClub(config)\n",
    "\n",
    "# initialize data transformer\n",
    "transformer = DH.Transformer_full()\n",
    "\n",
    "# initialize DataHelper\n",
    "periodStart = (\"Q1\", \"2014\")\n",
    "periodEnd = (\"Q4\", \"2016\")\n",
    "DataHelper = DH.DataHelper(periodStart, periodEnd, transformer, lc)"
   ]
  },
  {
   "cell_type": "code",
   "execution_count": 37,
   "metadata": {},
   "outputs": [],
   "source": [
    "# set test data\n",
    "DataHelper.set_test_dataset([\"LoanStats_2019Q3.csv\"], includeCurrent=True)"
   ]
  },
  {
   "cell_type": "code",
   "execution_count": 38,
   "metadata": {},
   "outputs": [],
   "source": [
    "test = DataHelper.test"
   ]
  },
  {
   "cell_type": "code",
   "execution_count": 39,
   "metadata": {},
   "outputs": [],
   "source": [
    "# strategy\n",
    "strat = investment.StrategyClassComplex(xgb)\n",
    "strat.grade = \"C1\"\n",
    "strat.cut = 0.1"
   ]
  },
  {
   "cell_type": "code",
   "execution_count": 40,
   "metadata": {},
   "outputs": [],
   "source": [
    "loans = strat.invest_loans(test, backtest=True)"
   ]
  },
  {
   "cell_type": "code",
   "execution_count": 41,
   "metadata": {},
   "outputs": [
    {
     "data": {
      "text/plain": [
       "(96978, 94)"
      ]
     },
     "execution_count": 41,
     "metadata": {},
     "output_type": "execute_result"
    }
   ],
   "source": [
    "test.shape"
   ]
  },
  {
   "cell_type": "code",
   "execution_count": 43,
   "metadata": {},
   "outputs": [
    {
     "data": {
      "text/plain": [
       "(4569, 96)"
      ]
     },
     "execution_count": 43,
     "metadata": {},
     "output_type": "execute_result"
    }
   ],
   "source": [
    "loans.shape"
   ]
  },
  {
   "cell_type": "code",
   "execution_count": 42,
   "metadata": {},
   "outputs": [
    {
     "data": {
      "text/html": [
       "<div>\n",
       "<style scoped>\n",
       "    .dataframe tbody tr th:only-of-type {\n",
       "        vertical-align: middle;\n",
       "    }\n",
       "\n",
       "    .dataframe tbody tr th {\n",
       "        vertical-align: top;\n",
       "    }\n",
       "\n",
       "    .dataframe thead th {\n",
       "        text-align: right;\n",
       "    }\n",
       "</style>\n",
       "<table border=\"1\" class=\"dataframe\">\n",
       "  <thead>\n",
       "    <tr style=\"text-align: right;\">\n",
       "      <th></th>\n",
       "      <th>int_rate</th>\n",
       "    </tr>\n",
       "    <tr>\n",
       "      <th>sub_grade</th>\n",
       "      <th></th>\n",
       "    </tr>\n",
       "  </thead>\n",
       "  <tbody>\n",
       "    <tr>\n",
       "      <th>A2</th>\n",
       "      <td>2</td>\n",
       "    </tr>\n",
       "    <tr>\n",
       "      <th>A3</th>\n",
       "      <td>38</td>\n",
       "    </tr>\n",
       "    <tr>\n",
       "      <th>A4</th>\n",
       "      <td>85</td>\n",
       "    </tr>\n",
       "    <tr>\n",
       "      <th>A5</th>\n",
       "      <td>230</td>\n",
       "    </tr>\n",
       "    <tr>\n",
       "      <th>B1</th>\n",
       "      <td>438</td>\n",
       "    </tr>\n",
       "    <tr>\n",
       "      <th>B2</th>\n",
       "      <td>705</td>\n",
       "    </tr>\n",
       "    <tr>\n",
       "      <th>B3</th>\n",
       "      <td>666</td>\n",
       "    </tr>\n",
       "    <tr>\n",
       "      <th>B4</th>\n",
       "      <td>946</td>\n",
       "    </tr>\n",
       "    <tr>\n",
       "      <th>B5</th>\n",
       "      <td>764</td>\n",
       "    </tr>\n",
       "    <tr>\n",
       "      <th>C1</th>\n",
       "      <td>695</td>\n",
       "    </tr>\n",
       "  </tbody>\n",
       "</table>\n",
       "</div>"
      ],
      "text/plain": [
       "           int_rate\n",
       "sub_grade          \n",
       "A2                2\n",
       "A3               38\n",
       "A4               85\n",
       "A5              230\n",
       "B1              438\n",
       "B2              705\n",
       "B3              666\n",
       "B4              946\n",
       "B5              764\n",
       "C1              695"
      ]
     },
     "execution_count": 42,
     "metadata": {},
     "output_type": "execute_result"
    }
   ],
   "source": [
    "loans.loc[:,[\"sub_grade\", \"int_rate\"]].groupby([\"sub_grade\"]).agg(\"count\")"
   ]
  },
  {
   "cell_type": "markdown",
   "metadata": {},
   "source": [
    "## Summary"
   ]
  },
  {
   "cell_type": "markdown",
   "metadata": {},
   "source": [
    "As we can see, the Aggressive strategy performs well producing ~6% annulized return. The strategy we are going to use is the Aggressive one based on the 0.1 cut and \"C1\" grade. We will not adjust investment money for each loans."
   ]
  },
  {
   "cell_type": "markdown",
   "metadata": {},
   "source": [
    "Please note that the key of our profit is really in the prediction model. Improving AUC will end up with higher profits."
   ]
  },
  {
   "cell_type": "code",
   "execution_count": null,
   "metadata": {},
   "outputs": [],
   "source": []
  },
  {
   "cell_type": "code",
   "execution_count": null,
   "metadata": {},
   "outputs": [],
   "source": []
  },
  {
   "cell_type": "code",
   "execution_count": null,
   "metadata": {},
   "outputs": [],
   "source": []
  },
  {
   "cell_type": "code",
   "execution_count": null,
   "metadata": {},
   "outputs": [],
   "source": []
  }
 ],
 "metadata": {
  "kernelspec": {
   "display_name": "Python 3",
   "language": "python",
   "name": "python3"
  }
 },
 "nbformat": 4,
 "nbformat_minor": 2
}
