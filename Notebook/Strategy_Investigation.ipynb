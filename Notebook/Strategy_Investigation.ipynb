{
 "cells": [
  {
   "cell_type": "code",
   "execution_count": 1,
   "metadata": {},
   "outputs": [],
   "source": [
    "import os\n",
    "\n",
    "# set dir by hardcode to run in crontab\n",
    "os.chdir(\"/home/jacob/Project/LendingClub/\")\n",
    "\n",
    "import Data_Helper as DH\n",
    "import lendingclub\n",
    "import prediction\n",
    "import investment\n",
    "import backtester\n",
    "import numpy as np\n",
    "import pandas as pd\n",
    "import json\n",
    "import time\n",
    "import matplotlib.pyplot as plt\n",
    "import seaborn as sns\n",
    "import warnings\n",
    "warnings.filterwarnings('ignore')\n",
    "\n",
    "pd.options.mode.chained_assignment = None  # default='warn'\n",
    "%load_ext autoreload\n",
    "%autoreload 2"
   ]
  },
  {
   "cell_type": "markdown",
   "metadata": {},
   "source": [
    "# 1. Initiate Config, Data, LendingClub Objects"
   ]
  },
  {
   "cell_type": "code",
   "execution_count": 2,
   "metadata": {},
   "outputs": [],
   "source": [
    "# initialize config object\n",
    "config = lendingclub.ConfigData(\"config_data_dummy.ini\")\n",
    "\n",
    "# initialize lendingclup api object\n",
    "lc = lendingclub.LendingClub(config)\n",
    "\n",
    "# initialize data transformer\n",
    "transformer = DH.Transformer_full()\n",
    "\n",
    "# initialize DataHelper\n",
    "periodStart = (\"Q1\", \"2016\")\n",
    "periodEnd = (\"Q1\", \"2018\")\n",
    "DataHelper = DH.DataHelper(periodStart, periodEnd, transformer, lc)"
   ]
  },
  {
   "cell_type": "code",
   "execution_count": 3,
   "metadata": {},
   "outputs": [],
   "source": [
    "# set training data\n",
    "DataHelper.set_training_dataset()"
   ]
  },
  {
   "cell_type": "code",
   "execution_count": 4,
   "metadata": {},
   "outputs": [],
   "source": [
    "# set test data\n",
    "DataHelper.set_test_dataset([\"LoanStats_2018Q2.csv\", \"LoanStats_2018Q3.csv\"])"
   ]
  },
  {
   "cell_type": "markdown",
   "metadata": {},
   "source": [
    "# 2. Initiate the fitted models"
   ]
  },
  {
   "cell_type": "markdown",
   "metadata": {},
   "source": [
    "## Initiate the Logistic model from the saved file"
   ]
  },
  {
   "cell_type": "code",
   "execution_count": 5,
   "metadata": {},
   "outputs": [],
   "source": [
    "filename = \"logistic_regression_20201221.sav\""
   ]
  },
  {
   "cell_type": "code",
   "execution_count": 6,
   "metadata": {},
   "outputs": [
    {
     "name": "stdout",
     "output_type": "stream",
     "text": [
      "Model is loaded from logistic_regression_20201221.sav\n"
     ]
    },
    {
     "data": {
      "text/plain": [
       "'Logistic Regression Object, time: 12/21/2020, C: 1000, penalty: l1, solver: saga, max_iter: 500, tol: 0.0005'"
      ]
     },
     "execution_count": 6,
     "metadata": {},
     "output_type": "execute_result"
    }
   ],
   "source": [
    "# instantiate from beginning\n",
    "lr = prediction.ModelLogistic(filename)\n",
    "\n",
    "# update from the saved model\n",
    "lr.set_model_from_file()\n",
    "\n",
    "# check model description\n",
    "lr.model_description"
   ]
  },
  {
   "cell_type": "markdown",
   "metadata": {},
   "source": [
    "## Initiate the Random Forest from the saved file"
   ]
  },
  {
   "cell_type": "code",
   "execution_count": null,
   "metadata": {},
   "outputs": [],
   "source": [
    "#filename = \"rf_classification_20190502.sav\""
   ]
  },
  {
   "cell_type": "code",
   "execution_count": null,
   "metadata": {},
   "outputs": [],
   "source": [
    "# instantiate from beginning\n",
    "# rf = prediction.ModelRandomForest(filename)\n",
    "\n",
    "# update from the saved model\n",
    "# rf.set_model_from_file()\n",
    "\n",
    "# check model description\n",
    "# rf.model_description"
   ]
  },
  {
   "cell_type": "markdown",
   "metadata": {},
   "source": [
    "## Initiate the XGB model from the saved file"
   ]
  },
  {
   "cell_type": "code",
   "execution_count": 9,
   "metadata": {},
   "outputs": [],
   "source": [
    "filename = \"xgb_classification_20201223_Prod.sav\""
   ]
  },
  {
   "cell_type": "code",
   "execution_count": 10,
   "metadata": {},
   "outputs": [
    {
     "name": "stdout",
     "output_type": "stream",
     "text": [
      "Model is loaded from xgb_classification_20201223_Prod.sav\n"
     ]
    },
    {
     "data": {
      "text/plain": [
       "'XGBoost Classification Object, time: 12/23/2020, eta: 0.01, num_rounds: 3950, max_depth: 6, subsample: 0.7'"
      ]
     },
     "execution_count": 10,
     "metadata": {},
     "output_type": "execute_result"
    }
   ],
   "source": [
    "# instantiate from beginning\n",
    "xgb = prediction.ModelXGBClassfication(filename)\n",
    "\n",
    "# update from the saved model\n",
    "xgb.set_model_from_file()\n",
    "\n",
    "# check model description\n",
    "xgb.model_description"
   ]
  },
  {
   "cell_type": "markdown",
   "metadata": {},
   "source": [
    "# 3. Run model on test dataset"
   ]
  },
  {
   "cell_type": "code",
   "execution_count": 59,
   "metadata": {},
   "outputs": [],
   "source": [
    "def add_score_and_bucket(model, df, n_bucket):\n",
    "    \n",
    "    # get prediction\n",
    "    pred = model.predict_model(df)\n",
    "\n",
    "    # get length\n",
    "    n = len(pred)\n",
    "\n",
    "    # combine prediction prob to dataset\n",
    "    df = model.clean_data(df, prediction=False, index=False)\n",
    "    df[\"score\"] = pred\n",
    "    df = df.sort_values(\"score\")\n",
    "    \n",
    "    # add bucket\n",
    "    inc = n//n_bucket\n",
    "    bar = [i*inc for i in range(1,n_bucket+1)]\n",
    "    bar[-1] = bar[-1] + n%n_bucket\n",
    "    \n",
    "    index = np.array(list(range(0,n)))\n",
    "    f = np.vectorize(lambda x: len(bar) - sum([x<=i for i in bar])+1)\n",
    "    buckets = f(index)\n",
    "    \n",
    "    df[\"bucket\"] = buckets\n",
    "    cut = df[[\"bucket\",\"score\"]].groupby([\"bucket\"]).agg(\"max\")\n",
    "    \n",
    "    return n, df, cut"
   ]
  },
  {
   "cell_type": "code",
   "execution_count": 60,
   "metadata": {},
   "outputs": [],
   "source": [
    "n_bucket = 50"
   ]
  },
  {
   "cell_type": "markdown",
   "metadata": {},
   "source": [
    "## Logistic Model"
   ]
  },
  {
   "cell_type": "code",
   "execution_count": 61,
   "metadata": {},
   "outputs": [],
   "source": [
    "# get training/test for this model\n",
    "training, test = lr.get_data_for_model(DataHelper.training, DataHelper.test)"
   ]
  },
  {
   "cell_type": "code",
   "execution_count": 62,
   "metadata": {},
   "outputs": [
    {
     "name": "stdout",
     "output_type": "stream",
     "text": [
      "test score: {'score': 0.8058677065356291, 'AUC': 0.7062003909889552}\n"
     ]
    }
   ],
   "source": [
    "# get score\n",
    "score = lr.test_model(test)\n",
    "print(\"test score:\",score)"
   ]
  },
  {
   "cell_type": "code",
   "execution_count": 63,
   "metadata": {},
   "outputs": [],
   "source": [
    "# add score and bucket\n",
    "_, df_lr_train, cut_lr_train = add_score_and_bucket(lr, DataHelper.training, n_bucket)"
   ]
  },
  {
   "cell_type": "code",
   "execution_count": 64,
   "metadata": {},
   "outputs": [],
   "source": [
    "# add score and bucket\n",
    "_, df_lr_test, cut_lr_test = add_score_and_bucket(lr, DataHelper.test, n_bucket)"
   ]
  },
  {
   "cell_type": "markdown",
   "metadata": {},
   "source": [
    "## GBM Model"
   ]
  },
  {
   "cell_type": "code",
   "execution_count": 65,
   "metadata": {},
   "outputs": [],
   "source": [
    "# get training/test for this model\n",
    "training, test = xgb.get_data_for_model(DataHelper.training, DataHelper.test)"
   ]
  },
  {
   "cell_type": "code",
   "execution_count": 66,
   "metadata": {},
   "outputs": [
    {
     "name": "stdout",
     "output_type": "stream",
     "text": [
      "test score: {'score': 0.7898390659514042, 'AUC': 0.7226549073435964}\n"
     ]
    }
   ],
   "source": [
    "# get score\n",
    "score = xgb.test_model(test)\n",
    "print(\"test score:\",score)"
   ]
  },
  {
   "cell_type": "code",
   "execution_count": 67,
   "metadata": {},
   "outputs": [],
   "source": [
    "# add score and bucket\n",
    "_, df_xgb_train, cut_xgb_train = add_score_and_bucket(xgb, DataHelper.training, n_bucket)"
   ]
  },
  {
   "cell_type": "code",
   "execution_count": 68,
   "metadata": {},
   "outputs": [],
   "source": [
    "# add score and bucket\n",
    "_, df_xgb_test, cut_xgb_test = add_score_and_bucket(xgb, DataHelper.test, n_bucket)"
   ]
  },
  {
   "cell_type": "markdown",
   "metadata": {},
   "source": [
    "# 4. Default Ratio by Score Bucket"
   ]
  },
  {
   "cell_type": "markdown",
   "metadata": {},
   "source": [
    "The result of xgb clearly outperforms other models in the good buckets. Please note that 1~2% difference in AUC can leads to very differnt return in the end. This is why we need to dedicate time to increase the prediction power of underlying machine learning model."
   ]
  },
  {
   "cell_type": "code",
   "execution_count": 69,
   "metadata": {},
   "outputs": [],
   "source": [
    "def get_def_ratio_by_bucket(**kwargs):\n",
    "    \n",
    "    results = {}\n",
    "    for key, df in kwargs.items():\n",
    "        cnt = df.loc[:,[\"bad_loan\", \"bucket\"]].groupby(\"bucket\").agg(\"sum\")\n",
    "        tot = df.loc[:,[\"bad_loan\", \"bucket\"]].groupby(\"bucket\").agg(\"count\")\n",
    "        rat = cnt/tot\n",
    "        results[key] = rat[\"bad_loan\"]\n",
    "    \n",
    "    results = pd.DataFrame(results)\n",
    "    return results"
   ]
  },
  {
   "cell_type": "markdown",
   "metadata": {},
   "source": [
    "This is for training set"
   ]
  },
  {
   "cell_type": "code",
   "execution_count": 70,
   "metadata": {},
   "outputs": [],
   "source": [
    "# get default rates by bucket for each model\n",
    "default_results = get_def_ratio_by_bucket(lr = df_lr_train, xgb = df_xgb_train)"
   ]
  },
  {
   "cell_type": "code",
   "execution_count": 71,
   "metadata": {
    "scrolled": false
   },
   "outputs": [
    {
     "data": {
      "image/png": "[encoded data removed]",
      "text/plain": [
       "<Figure size 936x576 with 1 Axes>"
      ]
     },
     "metadata": {
      "needs_background": "light"
     },
     "output_type": "display_data"
    }
   ],
   "source": [
    "# show default rates by bucket for each model\n",
    "plt.figure(figsize=(13,8))\n",
    "plt.bar(default_results.index.values-0.2, default_results[\"lr\"], align='center', alpha=0.5)\n",
    "plt.bar(default_results.index.values+0.2, default_results[\"xgb\"], align='center', alpha=0.5)\n",
    "plt.legend([\"lr\",\"xgb\"])\n",
    "plt.ylabel('default rate')\n",
    "plt.title('default rate by score bucket')\n",
    "plt.show()"
   ]
  },
  {
   "cell_type": "markdown",
   "metadata": {},
   "source": [
    "This is for test set"
   ]
  },
  {
   "cell_type": "code",
   "execution_count": 72,
   "metadata": {},
   "outputs": [],
   "source": [
    "# get default rates by bucket for each model\n",
    "default_results = get_def_ratio_by_bucket(lr = df_lr_test, xgb = df_xgb_test)"
   ]
  },
  {
   "cell_type": "code",
   "execution_count": 73,
   "metadata": {},
   "outputs": [
    {
     "data": {
      "image/png": "[encoded data removed]",
      "text/plain": [
       "<Figure size 936x576 with 1 Axes>"
      ]
     },
     "metadata": {
      "needs_background": "light"
     },
     "output_type": "display_data"
    }
   ],
   "source": [
    "# show default rates by bucket for each model\n",
    "plt.figure(figsize=(13,8))\n",
    "plt.bar(default_results.index.values-0.2, default_results[\"lr\"], align='center', alpha=0.5)\n",
    "plt.bar(default_results.index.values+0.2, default_results[\"xgb\"], align='center', alpha=0.5)\n",
    "plt.legend([\"lr\",\"xgb\"])\n",
    "plt.ylabel('default rate')\n",
    "plt.title('default rate by score bucket')\n",
    "plt.show()"
   ]
  },
  {
   "cell_type": "code",
   "execution_count": 75,
   "metadata": {},
   "outputs": [
    {
     "data": {
      "text/html": [
       "<div>\n",
       "<style scoped>\n",
       "    .dataframe tbody tr th:only-of-type {\n",
       "        vertical-align: middle;\n",
       "    }\n",
       "\n",
       "    .dataframe tbody tr th {\n",
       "        vertical-align: top;\n",
       "    }\n",
       "\n",
       "    .dataframe thead th {\n",
       "        text-align: right;\n",
       "    }\n",
       "</style>\n",
       "<table border=\"1\" class=\"dataframe\">\n",
       "  <thead>\n",
       "    <tr style=\"text-align: right;\">\n",
       "      <th></th>\n",
       "      <th>lr</th>\n",
       "      <th>xgb</th>\n",
       "    </tr>\n",
       "    <tr>\n",
       "      <th>bucket</th>\n",
       "      <th></th>\n",
       "      <th></th>\n",
       "    </tr>\n",
       "  </thead>\n",
       "  <tbody>\n",
       "    <tr>\n",
       "      <th>1</th>\n",
       "      <td>0.031600</td>\n",
       "      <td>0.015771</td>\n",
       "    </tr>\n",
       "    <tr>\n",
       "      <th>2</th>\n",
       "      <td>0.032279</td>\n",
       "      <td>0.027613</td>\n",
       "    </tr>\n",
       "    <tr>\n",
       "      <th>3</th>\n",
       "      <td>0.038867</td>\n",
       "      <td>0.036982</td>\n",
       "    </tr>\n",
       "    <tr>\n",
       "      <th>4</th>\n",
       "      <td>0.048748</td>\n",
       "      <td>0.050296</td>\n",
       "    </tr>\n",
       "    <tr>\n",
       "      <th>5</th>\n",
       "      <td>0.051383</td>\n",
       "      <td>0.046844</td>\n",
       "    </tr>\n",
       "  </tbody>\n",
       "</table>\n",
       "</div>"
      ],
      "text/plain": [
       "              lr       xgb\n",
       "bucket                    \n",
       "1       0.031600  0.015771\n",
       "2       0.032279  0.027613\n",
       "3       0.038867  0.036982\n",
       "4       0.048748  0.050296\n",
       "5       0.051383  0.046844"
      ]
     },
     "execution_count": 75,
     "metadata": {},
     "output_type": "execute_result"
    }
   ],
   "source": [
    "default_results.head()"
   ]
  },
  {
   "cell_type": "markdown",
   "metadata": {},
   "source": [
    "# 5. Comparison of Default Rate and Interest Rate"
   ]
  },
  {
   "cell_type": "markdown",
   "metadata": {},
   "source": [
    "Based on the default rate and interest rate comparison, only the first few buckets are expected to have positive return. To check the rough expectation of our investments, we compared the default rate and interest rate. The interest rate here is the total 3-year interest rate with equal monthly installment of the loans. The first bucket of xdg model would have highestt payoff as 6.2%. Of course, we need to consider prepayment timing, monthly installmet, etc., to properly calculate the expected payoff, so this is rough estimation."
   ]
  },
  {
   "cell_type": "markdown",
   "metadata": {},
   "source": [
    "However, the observation clearly states that we need to stick to the first few buckets to be profitable."
   ]
  },
  {
   "cell_type": "code",
   "execution_count": 76,
   "metadata": {},
   "outputs": [],
   "source": [
    "def get_int_rate_by_bucket(**kwargs):\n",
    "    \n",
    "    results = {}\n",
    "    origin = np.array([1-x/36 for x in range(0,37)])\n",
    "    \n",
    "    for key, df in kwargs.items():\n",
    "        # add total interest rate\n",
    "        month_rate = df.int_rate/12\n",
    "        df[\"tot_int_rate\"] = np.array([sum(origin*x) for x in month_rate])\n",
    "        # get average by bucket\n",
    "        rate = df.loc[:,[\"tot_int_rate\", \"bucket\"]].groupby(\"bucket\").agg(\"mean\")\n",
    "        results[key] = rate[\"tot_int_rate\"]\n",
    "    \n",
    "    results = pd.DataFrame(results)\n",
    "    return results"
   ]
  },
  {
   "cell_type": "code",
   "execution_count": 77,
   "metadata": {},
   "outputs": [],
   "source": [
    "# get average interest rates by bucket for each model\n",
    "int_results = get_int_rate_by_bucket(lr = df_lr_test, xgb = df_xgb_test)"
   ]
  },
  {
   "cell_type": "code",
   "execution_count": 78,
   "metadata": {
    "scrolled": false
   },
   "outputs": [
    {
     "data": {
      "image/png": "[encoded data removed]",
      "text/plain": [
       "<Figure size 936x576 with 1 Axes>"
      ]
     },
     "metadata": {
      "needs_background": "light"
     },
     "output_type": "display_data"
    }
   ],
   "source": [
    "plt.figure(figsize=(13,8))\n",
    "for name in int_results.columns.values:\n",
    "    plt.plot(default_results.index.values, int_results[name] - default_results[name])\n",
    "plt.hlines(0,xmin=min(default_results.index.values),xmax=max(default_results.index.values))\n",
    "plt.legend(int_results.columns.values)\n",
    "plt.title(\"Expected Return\")\n",
    "plt.show()"
   ]
  },
  {
   "cell_type": "code",
   "execution_count": 80,
   "metadata": {},
   "outputs": [
    {
     "data": {
      "image/png": "[encoded data removed]",
      "text/plain": [
       "<Figure size 936x576 with 1 Axes>"
      ]
     },
     "metadata": {
      "needs_background": "light"
     },
     "output_type": "display_data"
    }
   ],
   "source": [
    "plt.figure(figsize=(13,8))\n",
    "legends = []\n",
    "for name in int_results.columns.values:\n",
    "    plt.plot(default_results.index.values, int_results[name])\n",
    "    plt.plot(default_results.index.values, default_results[name])\n",
    "    legends.append(name + \": int_rate\")\n",
    "    legends.append(name + \": def_rate\")\n",
    "\n",
    "plt.legend(legends)\n",
    "plt.show()"
   ]
  },
  {
   "cell_type": "code",
   "execution_count": 81,
   "metadata": {},
   "outputs": [
    {
     "data": {
      "text/html": [
       "<div>\n",
       "<style scoped>\n",
       "    .dataframe tbody tr th:only-of-type {\n",
       "        vertical-align: middle;\n",
       "    }\n",
       "\n",
       "    .dataframe tbody tr th {\n",
       "        vertical-align: top;\n",
       "    }\n",
       "\n",
       "    .dataframe thead th {\n",
       "        text-align: right;\n",
       "    }\n",
       "</style>\n",
       "<table border=\"1\" class=\"dataframe\">\n",
       "  <thead>\n",
       "    <tr style=\"text-align: right;\">\n",
       "      <th></th>\n",
       "      <th>lr</th>\n",
       "      <th>xgb</th>\n",
       "      <th>lr_int</th>\n",
       "      <th>lr_diff</th>\n",
       "      <th>xgb_int</th>\n",
       "      <th>xgb_diff</th>\n",
       "    </tr>\n",
       "    <tr>\n",
       "      <th>bucket</th>\n",
       "      <th></th>\n",
       "      <th></th>\n",
       "      <th></th>\n",
       "      <th></th>\n",
       "      <th></th>\n",
       "      <th></th>\n",
       "    </tr>\n",
       "  </thead>\n",
       "  <tbody>\n",
       "    <tr>\n",
       "      <th>1</th>\n",
       "      <td>0.031600</td>\n",
       "      <td>0.015771</td>\n",
       "      <td>0.090955</td>\n",
       "      <td>0.059356</td>\n",
       "      <td>0.091469</td>\n",
       "      <td>0.075698</td>\n",
       "    </tr>\n",
       "    <tr>\n",
       "      <th>2</th>\n",
       "      <td>0.032279</td>\n",
       "      <td>0.027613</td>\n",
       "      <td>0.094581</td>\n",
       "      <td>0.062302</td>\n",
       "      <td>0.096888</td>\n",
       "      <td>0.069275</td>\n",
       "    </tr>\n",
       "    <tr>\n",
       "      <th>3</th>\n",
       "      <td>0.038867</td>\n",
       "      <td>0.036982</td>\n",
       "      <td>0.097693</td>\n",
       "      <td>0.058826</td>\n",
       "      <td>0.100710</td>\n",
       "      <td>0.063727</td>\n",
       "    </tr>\n",
       "    <tr>\n",
       "      <th>4</th>\n",
       "      <td>0.048748</td>\n",
       "      <td>0.050296</td>\n",
       "      <td>0.099240</td>\n",
       "      <td>0.050491</td>\n",
       "      <td>0.103384</td>\n",
       "      <td>0.053088</td>\n",
       "    </tr>\n",
       "    <tr>\n",
       "      <th>5</th>\n",
       "      <td>0.051383</td>\n",
       "      <td>0.046844</td>\n",
       "      <td>0.102014</td>\n",
       "      <td>0.050631</td>\n",
       "      <td>0.106276</td>\n",
       "      <td>0.059432</td>\n",
       "    </tr>\n",
       "    <tr>\n",
       "      <th>6</th>\n",
       "      <td>0.063241</td>\n",
       "      <td>0.059172</td>\n",
       "      <td>0.105696</td>\n",
       "      <td>0.042455</td>\n",
       "      <td>0.109424</td>\n",
       "      <td>0.050253</td>\n",
       "    </tr>\n",
       "    <tr>\n",
       "      <th>7</th>\n",
       "      <td>0.073123</td>\n",
       "      <td>0.068540</td>\n",
       "      <td>0.108624</td>\n",
       "      <td>0.035502</td>\n",
       "      <td>0.113435</td>\n",
       "      <td>0.044895</td>\n",
       "    </tr>\n",
       "  </tbody>\n",
       "</table>\n",
       "</div>"
      ],
      "text/plain": [
       "              lr       xgb    lr_int   lr_diff   xgb_int  xgb_diff\n",
       "bucket                                                            \n",
       "1       0.031600  0.015771  0.090955  0.059356  0.091469  0.075698\n",
       "2       0.032279  0.027613  0.094581  0.062302  0.096888  0.069275\n",
       "3       0.038867  0.036982  0.097693  0.058826  0.100710  0.063727\n",
       "4       0.048748  0.050296  0.099240  0.050491  0.103384  0.053088\n",
       "5       0.051383  0.046844  0.102014  0.050631  0.106276  0.059432\n",
       "6       0.063241  0.059172  0.105696  0.042455  0.109424  0.050253\n",
       "7       0.073123  0.068540  0.108624  0.035502  0.113435  0.044895"
      ]
     },
     "execution_count": 81,
     "metadata": {},
     "output_type": "execute_result"
    }
   ],
   "source": [
    "for name in default_results.columns.values:\n",
    "    default_results[name + \"_int\"] = int_results[name]\n",
    "    default_results[name + \"_diff\"] =  default_results[name + \"_int\"] - default_results[name]\n",
    "\n",
    "default_results.head(7)"
   ]
  },
  {
   "cell_type": "markdown",
   "metadata": {},
   "source": [
    "Please note the number of loans in the first bucket issued during two quarters are sufficient to diversify the investment, since we can invest more than $4,7000."
   ]
  },
  {
   "cell_type": "code",
   "execution_count": 82,
   "metadata": {},
   "outputs": [
    {
     "name": "stdout",
     "output_type": "stream",
     "text": [
      "we can invest more than 50700 amount in first bucket during two quarters.\n"
     ]
    }
   ],
   "source": [
    "print(\"we can invest more than {} amount in first bucket during two quarters.\".\n",
    "      format(df_xgb_test.shape[0]//n_bucket*25))"
   ]
  },
  {
   "cell_type": "markdown",
   "metadata": {},
   "source": [
    "# 6. Heatmap - distribution of Grade by score"
   ]
  },
  {
   "cell_type": "markdown",
   "metadata": {},
   "source": [
    "First few buckets only include A-grades and B1 grade loans. Our model further differentiate loans among A-grade groups."
   ]
  },
  {
   "cell_type": "code",
   "execution_count": 83,
   "metadata": {},
   "outputs": [],
   "source": [
    "grades = list(df_xgb_test[\"sub_grade\"].unique())\n",
    "grades.sort()\n",
    "buckets = list(range(1,n_bucket+1))"
   ]
  },
  {
   "cell_type": "code",
   "execution_count": 84,
   "metadata": {},
   "outputs": [],
   "source": [
    "# get counts by grade and bucket\n",
    "heatmap = np.zeros([len(grades),n_bucket])\n",
    "groups = df_xgb_test.loc[:,[\"sub_grade\", \"bucket\",\"bad_loan\"]].groupby([\"bucket\",\"sub_grade\"])\n",
    "\n",
    "for group in groups:\n",
    "    b = buckets.index(group[0][0])\n",
    "    g = grades.index(group[0][1])\n",
    "    count = len(group[1])    \n",
    "    heatmap[g,b] = count  "
   ]
  },
  {
   "cell_type": "code",
   "execution_count": 85,
   "metadata": {},
   "outputs": [],
   "source": [
    "# get ratio\n",
    "heatmap = heatmap.transpose()\n",
    "heatmap = np.array([x/sum(x) for x in heatmap])\n",
    "heatmap = heatmap.transpose()"
   ]
  },
  {
   "cell_type": "code",
   "execution_count": 86,
   "metadata": {},
   "outputs": [],
   "source": [
    "# change it to df\n",
    "heatmap_df = pd.DataFrame(heatmap,index=grades,columns=buckets)"
   ]
  },
  {
   "cell_type": "code",
   "execution_count": 87,
   "metadata": {},
   "outputs": [
    {
     "data": {
      "image/png": "[encoded data removed]",
      "text/plain": [
       "<Figure size 1080x720 with 2 Axes>"
      ]
     },
     "metadata": {
      "needs_background": "light"
     },
     "output_type": "display_data"
    }
   ],
   "source": [
    "plt.figure(figsize=(15,10))\n",
    "ax=sns.heatmap(heatmap_df, cmap=\"YlGnBu\")\n",
    "ax.set_title(\"grade ratio by each bucket - xgb\")\n",
    "plt.show()"
   ]
  }
 ],
 "metadata": {
  "kernelspec": {
   "display_name": "Python 3",
   "language": "python",
   "name": "python3"
  },
  "language_info": {
   "codemirror_mode": {
    "name": "ipython",
    "version": 3
   },
   "file_extension": ".py",
   "mimetype": "text/x-python",
   "name": "python",
   "nbconvert_exporter": "python",
   "pygments_lexer": "ipython3",
   "version": "3.7.3"
  }
 },
 "nbformat": 4,
 "nbformat_minor": 2
}
