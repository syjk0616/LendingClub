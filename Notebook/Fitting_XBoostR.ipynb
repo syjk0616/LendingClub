{
 "cells": [
  {
   "cell_type": "markdown",
   "metadata": {},
   "source": [
    "# Fitting XGBoost Regression"
   ]
  },
  {
   "cell_type": "code",
   "execution_count": 31,
   "metadata": {},
   "outputs": [
    {
     "name": "stdout",
     "output_type": "stream",
     "text": [
      "The autoreload extension is already loaded. To reload it, use:\n",
      "  %reload_ext autoreload\n"
     ]
    }
   ],
   "source": [
    "import xgboost\n",
    "import Data_Helper as DH\n",
    "import lendingclub\n",
    "import prediction\n",
    "import investment\n",
    "import backtester\n",
    "\n",
    "import numpy as np\n",
    "import pandas as pd\n",
    "import json\n",
    "import time\n",
    "import sklearn\n",
    "from sklearn.model_selection import KFold\n",
    "from sklearn.preprocessing import StandardScaler\n",
    "import matplotlib.pyplot as plt\n",
    "\n",
    "import warnings\n",
    "warnings.filterwarnings('ignore')\n",
    "\n",
    "pd.options.mode.chained_assignment = None  # default='warn'\n",
    "%load_ext autoreload\n",
    "%autoreload 2"
   ]
  },
  {
   "cell_type": "markdown",
   "metadata": {},
   "source": [
    "## Instantiate Object"
   ]
  },
  {
   "cell_type": "code",
   "execution_count": 2,
   "metadata": {},
   "outputs": [],
   "source": [
    "# initialize config object\n",
    "config = lendingclub.ConfigData(\"config_data_dummy.ini\")\n",
    "\n",
    "# initialize lendingclup api object\n",
    "lc = lendingclub.LendingClub(config)\n",
    "\n",
    "# initialize data transformer\n",
    "transformer = DH.Transformer_full()\n",
    "\n",
    "# initialize DataHelper\n",
    "periodStart = (\"Q1\", \"2014\")\n",
    "periodEnd = (\"Q2\", \"2016\")\n",
    "DataHelper = DH.DataHelper(periodStart, periodEnd, transformer, lc)"
   ]
  },
  {
   "cell_type": "code",
   "execution_count": 3,
   "metadata": {},
   "outputs": [],
   "source": [
    "# set training data\n",
    "DataHelper.set_training_dataset()"
   ]
  },
  {
   "cell_type": "code",
   "execution_count": 4,
   "metadata": {},
   "outputs": [],
   "source": [
    "# set test data\n",
    "DataHelper.set_test_dataset([\"LoanStats_2016Q3.csv\", \"LoanStats_2016Q4.csv\"])"
   ]
  },
  {
   "cell_type": "markdown",
   "metadata": {},
   "source": [
    "## Check"
   ]
  },
  {
   "cell_type": "code",
   "execution_count": 16,
   "metadata": {},
   "outputs": [],
   "source": [
    "# xgb = prediction.ModelXGBRegression()"
   ]
  },
  {
   "cell_type": "code",
   "execution_count": 17,
   "metadata": {},
   "outputs": [],
   "source": [
    "# # get training/test for this model\n",
    "# training, test = xgb.get_data_for_model(DataHelper.training, DataHelper.test)"
   ]
  },
  {
   "cell_type": "code",
   "execution_count": 18,
   "metadata": {},
   "outputs": [],
   "source": [
    "# param = {\n",
    "#     \"n_estimators\": 100,\n",
    "#     \"learning_rate\": 0.1,\n",
    "#     \"max_depth\": 6, \n",
    "#     \"min_child_weight\": 1,\n",
    "#     \"gamma\": 0,\n",
    "#     \"subsample\": 0.8,\n",
    "#     \"colsample_bytree\": 0.8,\n",
    "#     \"reg_alpha\": 0\n",
    "# }"
   ]
  },
  {
   "cell_type": "code",
   "execution_count": 20,
   "metadata": {},
   "outputs": [
    {
     "name": "stdout",
     "output_type": "stream",
     "text": [
      "Raw test score: {'score': -0.0002848936528052626, 'MSE': 0.02510434902522346}\n",
      "63.770185232162476\n"
     ]
    }
   ],
   "source": [
    "# # Check time\n",
    "# start = time.time()\n",
    "\n",
    "# model = xgb.fit_model(training, **param)\n",
    "# score = xgb.test_model(test, model)\n",
    "# print(\"Raw test score:\",score)\n",
    "\n",
    "# end = time.time()\n",
    "# print(end - start)"
   ]
  },
  {
   "cell_type": "markdown",
   "metadata": {},
   "source": [
    "## XGBoost Regression - CV"
   ]
  },
  {
   "cell_type": "markdown",
   "metadata": {},
   "source": [
    "### Quick train for n_estimators"
   ]
  },
  {
   "cell_type": "markdown",
   "metadata": {},
   "source": [
    "With default parameters and 0.01 learning rate, quickly fit the n_estimators. This will be fine tuned later."
   ]
  },
  {
   "cell_type": "code",
   "execution_count": 5,
   "metadata": {},
   "outputs": [],
   "source": [
    "# instantiate our model\n",
    "xgb = prediction.ModelXGBRegression()"
   ]
  },
  {
   "cell_type": "code",
   "execution_count": 6,
   "metadata": {},
   "outputs": [],
   "source": [
    "# get training/test for this model\n",
    "training, test = xgb.get_data_for_model(DataHelper.training, DataHelper.test)"
   ]
  },
  {
   "cell_type": "code",
   "execution_count": 7,
   "metadata": {},
   "outputs": [],
   "source": [
    "# get CVs\n",
    "CVs = DataHelper.get_cross_validation_data(fold=5)"
   ]
  },
  {
   "cell_type": "code",
   "execution_count": 8,
   "metadata": {},
   "outputs": [],
   "source": [
    "param = {\n",
    "    \"n_estimators\": 5000,\n",
    "    \"learning_rate\": 0.01,\n",
    "    \"max_depth\": 6, \n",
    "    \"min_child_weight\": 1,\n",
    "    \"gamma\": 0,\n",
    "    \"subsample\": 0.8,\n",
    "    \"colsample_bytree\": 0.8,\n",
    "    \"reg_alpha\": 0\n",
    "}"
   ]
  },
  {
   "cell_type": "code",
   "execution_count": 9,
   "metadata": {},
   "outputs": [
    {
     "name": "stdout",
     "output_type": "stream",
     "text": [
      "stop at 2818 test-mean-rmse: 0.1285, test-std-rmse: 0.0003\n"
     ]
    }
   ],
   "source": [
    "param[\"n_estimators\"] = xgb.fit_n_estimator(training, 5, 50, **param)"
   ]
  },
  {
   "cell_type": "markdown",
   "metadata": {},
   "source": [
    "### max_depth and min_child_weight"
   ]
  },
  {
   "cell_type": "code",
   "execution_count": 9,
   "metadata": {},
   "outputs": [],
   "source": [
    "param[\"n_estimators\"] = 2818"
   ]
  },
  {
   "cell_type": "code",
   "execution_count": 10,
   "metadata": {},
   "outputs": [],
   "source": [
    "param_CV = {x:[y] for x,y in param.items()}\n",
    "param_CV[\"max_depth\"] = list(range(3,10,2))\n",
    "param_CV[\"min_child_weight\"] = list(range(1,6,2))\n",
    "grids = xgb.construct_grids(**param_CV)"
   ]
  },
  {
   "cell_type": "code",
   "execution_count": 11,
   "metadata": {},
   "outputs": [],
   "source": [
    "# tune parameters with CV\n",
    "scores = xgb.tune_parameters(DataHelper.training, CVs, grids, verbose=False)"
   ]
  },
  {
   "cell_type": "code",
   "execution_count": 12,
   "metadata": {},
   "outputs": [
    {
     "name": "stdout",
     "output_type": "stream",
     "text": [
      "0.01652263047027628\n",
      "max_depth: 7, min_child_weight: 1\n"
     ]
    }
   ],
   "source": [
    "# choose best Grid\n",
    "_, avg_score, param = xgb.best_grid(scores, \"MSE\")\n",
    "print(avg_score)\n",
    "print(\"max_depth: {}, min_child_weight: {}\".format(param[\"max_depth\"], param[\"min_child_weight\"]))"
   ]
  },
  {
   "cell_type": "markdown",
   "metadata": {},
   "source": [
    "Further tuning with finer grid..."
   ]
  },
  {
   "cell_type": "code",
   "execution_count": 16,
   "metadata": {},
   "outputs": [
    {
     "data": {
      "text/plain": [
       "{'n_estimators': 2818,\n",
       " 'learning_rate': 0.01,\n",
       " 'max_depth': 3,\n",
       " 'min_child_weight': 1,\n",
       " 'gamma': 0,\n",
       " 'subsample': 0.8,\n",
       " 'colsample_bytree': 0.8,\n",
       " 'reg_alpha': 0}"
      ]
     },
     "execution_count": 16,
     "metadata": {},
     "output_type": "execute_result"
    }
   ],
   "source": [
    "param"
   ]
  },
  {
   "cell_type": "code",
   "execution_count": 13,
   "metadata": {},
   "outputs": [],
   "source": [
    "param_CV = {x:[y] for x,y in param.items()}\n",
    "param_CV[\"max_depth\"] = [6,7,8]\n",
    "param_CV[\"min_child_weight\"] = [1,2]\n",
    "grids = xgb.construct_grids(**param_CV)"
   ]
  },
  {
   "cell_type": "code",
   "execution_count": 14,
   "metadata": {},
   "outputs": [],
   "source": [
    "# tune parameters with CV\n",
    "scores = xgb.tune_parameters(DataHelper.training, CVs, grids, verbose=False)"
   ]
  },
  {
   "cell_type": "code",
   "execution_count": 15,
   "metadata": {},
   "outputs": [
    {
     "name": "stdout",
     "output_type": "stream",
     "text": [
      "0.01652094637156672\n",
      "max_depth: 7, min_child_weight: 2\n"
     ]
    }
   ],
   "source": [
    "# choose best Grid\n",
    "_, avg_score, param = xgb.best_grid(scores, \"MSE\")\n",
    "print(avg_score)\n",
    "print(\"max_depth: {}, min_child_weight: {}\".format(param[\"max_depth\"], param[\"min_child_weight\"]))"
   ]
  },
  {
   "cell_type": "markdown",
   "metadata": {},
   "source": [
    "## Tune Gamma"
   ]
  },
  {
   "cell_type": "code",
   "execution_count": 16,
   "metadata": {},
   "outputs": [],
   "source": [
    "param_CV = {x:[y] for x,y in param.items()}\n",
    "param_CV[\"gamma\"] = [i/10.0 for i in range(0,21,4)]\n",
    "grids = xgb.construct_grids(**param_CV)"
   ]
  },
  {
   "cell_type": "code",
   "execution_count": 17,
   "metadata": {},
   "outputs": [],
   "source": [
    "# tune parameters with CV\n",
    "scores = xgb.tune_parameters(DataHelper.training, CVs, grids, verbose=False)"
   ]
  },
  {
   "cell_type": "code",
   "execution_count": 18,
   "metadata": {},
   "outputs": [
    {
     "name": "stdout",
     "output_type": "stream",
     "text": [
      "0.01652094637156672\n",
      "gamma: 0.0\n"
     ]
    }
   ],
   "source": [
    "# choose best Grid\n",
    "_, avg_score, param = xgb.best_grid(scores, \"MSE\")\n",
    "print(avg_score)\n",
    "print(\"gamma: {}\".format(param[\"gamma\"]))"
   ]
  },
  {
   "cell_type": "markdown",
   "metadata": {},
   "source": [
    "## Refit N_estimator"
   ]
  },
  {
   "cell_type": "code",
   "execution_count": 19,
   "metadata": {},
   "outputs": [
    {
     "name": "stdout",
     "output_type": "stream",
     "text": [
      "stop at 2030 test-mean-rmse: 0.1285, test-std-rmse: 0.0003\n"
     ]
    }
   ],
   "source": [
    "param[\"n_estimators\"] = xgb.fit_n_estimator(training, 5, 50, **param)"
   ]
  },
  {
   "cell_type": "markdown",
   "metadata": {},
   "source": [
    "### Tune subsample and colsample_bytree"
   ]
  },
  {
   "cell_type": "code",
   "execution_count": 21,
   "metadata": {},
   "outputs": [],
   "source": [
    "param_CV = {x:[y] for x,y in param.items()}\n",
    "param_CV[\"subsample\"] = [i/10 for i in range(5,9)]\n",
    "param_CV[\"colsample_bytree\"] = [i/10 for i in range(5,9)]\n",
    "grids = xgb.construct_grids(**param_CV)"
   ]
  },
  {
   "cell_type": "code",
   "execution_count": 22,
   "metadata": {},
   "outputs": [],
   "source": [
    "# tune parameters with CV\n",
    "scores = xgb.tune_parameters(DataHelper.training, CVs, grids, verbose=False)"
   ]
  },
  {
   "cell_type": "code",
   "execution_count": 23,
   "metadata": {},
   "outputs": [
    {
     "name": "stdout",
     "output_type": "stream",
     "text": [
      "0.01652369274472193\n",
      "subsample: 0.8, colsample_bytree: 0.8\n"
     ]
    }
   ],
   "source": [
    "# choose best Grid\n",
    "_,avg_score, param = xgb.best_grid(scores, \"MSE\")\n",
    "print(avg_score)\n",
    "print(\"subsample: {}, colsample_bytree: {}\".format(param[\"subsample\"], param[\"colsample_bytree\"]))"
   ]
  },
  {
   "cell_type": "markdown",
   "metadata": {},
   "source": [
    "Further tuning.."
   ]
  },
  {
   "cell_type": "code",
   "execution_count": 28,
   "metadata": {},
   "outputs": [],
   "source": [
    "param_CV = {x:[y] for x,y in param.items()}\n",
    "param_CV[\"subsample\"] = [i/100.0 for i in range(75,90,5)]\n",
    "param_CV[\"colsample_bytree\"] = [i/100.0 for i in range(75,90,5)]\n",
    "grids = xgb.construct_grids(**param_CV)"
   ]
  },
  {
   "cell_type": "code",
   "execution_count": 29,
   "metadata": {},
   "outputs": [],
   "source": [
    "# tune parameters with CV\n",
    "scores = xgb.tune_parameters(DataHelper.training, CVs, grids, verbose=False)"
   ]
  },
  {
   "cell_type": "code",
   "execution_count": 30,
   "metadata": {},
   "outputs": [
    {
     "name": "stdout",
     "output_type": "stream",
     "text": [
      "0.01652369274472193\n",
      "subsample: 0.8, colsample_bytree: 0.8\n"
     ]
    }
   ],
   "source": [
    "# choose best Grid\n",
    "_, avg_score, param = xgb.best_grid(scores, \"MSE\")\n",
    "print(avg_score)\n",
    "print(\"subsample: {}, colsample_bytree: {}\".format(param[\"subsample\"], param[\"colsample_bytree\"]))"
   ]
  },
  {
   "cell_type": "markdown",
   "metadata": {},
   "source": [
    "### Tune Regularization Parameters"
   ]
  },
  {
   "cell_type": "code",
   "execution_count": 31,
   "metadata": {},
   "outputs": [],
   "source": [
    "param_CV = {x:[y] for x,y in param.items()}\n",
    "param_CV[\"reg_alpha\"] = [0, 1e-4, 1e-2, 0.1]\n",
    "grids = xgb.construct_grids(**param_CV)"
   ]
  },
  {
   "cell_type": "code",
   "execution_count": 32,
   "metadata": {},
   "outputs": [],
   "source": [
    "# tune parameters with CV\n",
    "scores = xgb.tune_parameters(DataHelper.training, CVs, grids, verbose=False)"
   ]
  },
  {
   "cell_type": "code",
   "execution_count": 35,
   "metadata": {},
   "outputs": [
    {
     "name": "stdout",
     "output_type": "stream",
     "text": [
      "0.01652036196580186\n",
      "reg_alpha: 0.1\n"
     ]
    }
   ],
   "source": [
    "# choose best Grid\n",
    "_, avg_score, param = xgb.best_grid(scores, \"MSE\")\n",
    "print(avg_score)\n",
    "print(\"reg_alpha: {}\".format(param[\"reg_alpha\"]))"
   ]
  },
  {
   "cell_type": "markdown",
   "metadata": {},
   "source": [
    "Now apply this parameters to our model and check the AUC."
   ]
  },
  {
   "cell_type": "code",
   "execution_count": 36,
   "metadata": {},
   "outputs": [
    {
     "name": "stdout",
     "output_type": "stream",
     "text": [
      "Raw test score: {'score': 0.005384272492057862, 'MSE': 0.02496206883436413}\n"
     ]
    }
   ],
   "source": [
    "model = xgb.fit_model(training, **param)\n",
    "score = xgb.test_model(test, model)\n",
    "print(\"Raw test score:\", score)"
   ]
  },
  {
   "cell_type": "markdown",
   "metadata": {},
   "source": [
    "### Reducing learning rate"
   ]
  },
  {
   "cell_type": "markdown",
   "metadata": {},
   "source": [
    "Let's decrease the learning rate and increase the n_estimators."
   ]
  },
  {
   "cell_type": "code",
   "execution_count": 37,
   "metadata": {},
   "outputs": [],
   "source": [
    "param_CV = {x:[y] for x,y in param.items()}\n",
    "param_CV[\"n_estimators\"] = [2818-500, 2818, 2818+500, 2818+1000]\n",
    "param_CV[\"learning_rate\"] = [0.005, 0.01]\n",
    "grids = xgb.construct_grids(**param_CV)"
   ]
  },
  {
   "cell_type": "code",
   "execution_count": 38,
   "metadata": {},
   "outputs": [],
   "source": [
    "# tune parameters with CV\n",
    "scores = xgb.tune_parameters(DataHelper.training, CVs, grids, verbose=False)"
   ]
  },
  {
   "cell_type": "code",
   "execution_count": 39,
   "metadata": {},
   "outputs": [
    {
     "name": "stdout",
     "output_type": "stream",
     "text": [
      "0.016517428809182663\n",
      "n_estimators: 2818, learning_rate: 0.01\n"
     ]
    }
   ],
   "source": [
    "# choose best Grid\n",
    "_, avg_score, param = xgb.best_grid(scores, \"MSE\")\n",
    "print(avg_score)\n",
    "print(\"n_estimators: {}, learning_rate: {}\".format(param[\"n_estimators\"], param[\"learning_rate\"]))"
   ]
  },
  {
   "cell_type": "code",
   "execution_count": 41,
   "metadata": {},
   "outputs": [
    {
     "data": {
      "image/png": "[encoded data removed]",
      "text/plain": [
       "<Figure size 720x720 with 1 Axes>"
      ]
     },
     "metadata": {
      "needs_background": "light"
     },
     "output_type": "display_data"
    }
   ],
   "source": [
    "plt.figure(figsize=(10,10))\n",
    "for lr in param_CV[\"learning_rate\"]:\n",
    "    aucs = [x[\"avg_score\"][\"MSE\"] for x in scores if x[\"grid\"][\"learning_rate\"]==lr]\n",
    "    plt.plot(param_CV[\"n_estimators\"], aucs)\n",
    "\n",
    "plt.legend(param_CV[\"learning_rate\"], loc='upper left')\n",
    "plt.show()"
   ]
  },
  {
   "cell_type": "code",
   "execution_count": 42,
   "metadata": {},
   "outputs": [
    {
     "data": {
      "text/plain": [
       "{'n_estimators': 2818,\n",
       " 'learning_rate': 0.01,\n",
       " 'max_depth': 7,\n",
       " 'min_child_weight': 2,\n",
       " 'gamma': 0.0,\n",
       " 'subsample': 0.8,\n",
       " 'colsample_bytree': 0.8,\n",
       " 'reg_alpha': 0.1}"
      ]
     },
     "execution_count": 42,
     "metadata": {},
     "output_type": "execute_result"
    }
   ],
   "source": [
    "param"
   ]
  },
  {
   "cell_type": "markdown",
   "metadata": {},
   "source": [
    "## Final Fitting"
   ]
  },
  {
   "cell_type": "code",
   "execution_count": 2,
   "metadata": {},
   "outputs": [],
   "source": [
    "# initialize config object\n",
    "config = lendingclub.ConfigData(\"config_data_dummy.ini\")\n",
    "\n",
    "# initialize lendingclup api object\n",
    "lc = lendingclub.LendingClub(config)\n",
    "\n",
    "# initialize data transformer\n",
    "transformer = DH.Transformer_full()\n",
    "\n",
    "# initialize DataHelper\n",
    "periodStart = (\"Q1\", \"2014\")\n",
    "periodEnd = (\"Q2\", \"2016\")\n",
    "DataHelper = DH.DataHelper(periodStart, periodEnd, transformer, lc)"
   ]
  },
  {
   "cell_type": "code",
   "execution_count": 3,
   "metadata": {},
   "outputs": [],
   "source": [
    "# set training data\n",
    "DataHelper.set_training_dataset()"
   ]
  },
  {
   "cell_type": "code",
   "execution_count": 4,
   "metadata": {},
   "outputs": [],
   "source": [
    "# set test data\n",
    "DataHelper.set_test_dataset([\"LoanStats_2016Q3.csv\", \"LoanStats_2016Q4.csv\"])"
   ]
  },
  {
   "cell_type": "code",
   "execution_count": 5,
   "metadata": {},
   "outputs": [],
   "source": [
    "# instantiate our model\n",
    "xgb = prediction.ModelXGBRegression()"
   ]
  },
  {
   "cell_type": "code",
   "execution_count": 6,
   "metadata": {},
   "outputs": [],
   "source": [
    "# get training/test for this model\n",
    "training, test = xgb.get_data_for_model(DataHelper.training, DataHelper.test)"
   ]
  },
  {
   "cell_type": "code",
   "execution_count": 7,
   "metadata": {},
   "outputs": [],
   "source": [
    "param = {\n",
    "    'n_estimators': 2818,\n",
    "    'learning_rate': 0.01,\n",
    "    'max_depth': 7,\n",
    "    'min_child_weight': 2,\n",
    "    'gamma': 0.0,\n",
    "    'subsample': 0.8,\n",
    "    'colsample_bytree': 0.8,\n",
    "    'reg_alpha': 0.1\n",
    "}"
   ]
  },
  {
   "cell_type": "code",
   "execution_count": 8,
   "metadata": {},
   "outputs": [
    {
     "name": "stdout",
     "output_type": "stream",
     "text": [
      "test score: {'score': 0.00600548226261699, 'MSE': 0.024946478209136307}\n",
      "1916.4901356697083\n"
     ]
    }
   ],
   "source": [
    "# Check time\n",
    "start = time.time()\n",
    "\n",
    "model = xgb.fit_model(training, **param)\n",
    "score = xgb.test_model(test, model)\n",
    "print(\"test score:\",score)\n",
    "\n",
    "end = time.time()\n",
    "print(end - start)"
   ]
  },
  {
   "cell_type": "code",
   "execution_count": 9,
   "metadata": {},
   "outputs": [],
   "source": [
    "scaler = xgb.get_scaler(DataHelper.training)"
   ]
  },
  {
   "cell_type": "markdown",
   "metadata": {},
   "source": [
    "## Save Result"
   ]
  },
  {
   "cell_type": "code",
   "execution_count": 10,
   "metadata": {},
   "outputs": [],
   "source": [
    "filename = \"xgb_regression_20190704.sav\""
   ]
  },
  {
   "cell_type": "code",
   "execution_count": 11,
   "metadata": {},
   "outputs": [
    {
     "name": "stdout",
     "output_type": "stream",
     "text": [
      "Model is saved on xgb_regression_20190704.sav\n"
     ]
    }
   ],
   "source": [
    "xgb.save_model(model,scaler,training,filename)"
   ]
  },
  {
   "cell_type": "markdown",
   "metadata": {},
   "source": [
    "## Predict listed loan by saved model"
   ]
  },
  {
   "cell_type": "code",
   "execution_count": 21,
   "metadata": {},
   "outputs": [],
   "source": [
    "filename = \"xgb_regression_20190704.sav\""
   ]
  },
  {
   "cell_type": "code",
   "execution_count": 22,
   "metadata": {},
   "outputs": [],
   "source": [
    "# instantiate from beginning\n",
    "xgb = prediction.ModelXGBRegression(filename)"
   ]
  },
  {
   "cell_type": "code",
   "execution_count": 23,
   "metadata": {},
   "outputs": [
    {
     "name": "stdout",
     "output_type": "stream",
     "text": [
      "Model is loaded from xgb_regression_20190704.sav\n"
     ]
    }
   ],
   "source": [
    "# update from the saved model\n",
    "xgb.set_model_from_file()"
   ]
  },
  {
   "cell_type": "code",
   "execution_count": 24,
   "metadata": {},
   "outputs": [
    {
     "data": {
      "text/plain": [
       "'XGBoost Regression Object, time: 07/04/2019'"
      ]
     },
     "execution_count": 24,
     "metadata": {},
     "output_type": "execute_result"
    }
   ],
   "source": [
    "# check model description\n",
    "xgb.model_description"
   ]
  },
  {
   "cell_type": "code",
   "execution_count": 25,
   "metadata": {},
   "outputs": [
    {
     "data": {
      "text/plain": [
       "(78, 81)"
      ]
     },
     "execution_count": 25,
     "metadata": {},
     "output_type": "execute_result"
    }
   ],
   "source": [
    "# get listed loan\n",
    "loans = DataHelper.get_listed_loandata()\n",
    "loans.shape"
   ]
  },
  {
   "cell_type": "code",
   "execution_count": 26,
   "metadata": {},
   "outputs": [
    {
     "data": {
      "text/plain": [
       "(78,)"
      ]
     },
     "execution_count": 26,
     "metadata": {},
     "output_type": "execute_result"
    }
   ],
   "source": [
    "# prediction\n",
    "pred = xgb.predict_model(loans)\n",
    "pred.shape"
   ]
  },
  {
   "cell_type": "code",
   "execution_count": 27,
   "metadata": {},
   "outputs": [
    {
     "data": {
      "text/plain": [
       "array([0.7336142 , 0.68930864, 0.67315245, 0.62848943, 0.72306395,\n",
       "       0.70338845, 0.6985779 , 0.7163183 , 0.70867515, 0.65148425,\n",
       "       0.72765446, 0.66756594, 0.67225254, 0.67706704, 0.6895717 ,\n",
       "       0.59626496, 0.73226845, 0.71391726, 0.6968492 , 0.7245303 ,\n",
       "       0.72483647, 0.693724  , 0.6817036 , 0.6781675 , 0.68532866,\n",
       "       0.654957  , 0.7113811 , 0.67647356, 0.66168153, 0.72031283,\n",
       "       0.71922314, 0.6453545 , 0.6843398 , 0.7152225 , 0.6987675 ,\n",
       "       0.6880803 , 0.6840101 , 0.62871635, 0.7142276 , 0.7060126 ,\n",
       "       0.7240273 , 0.68732035, 0.6573921 , 0.7282614 , 0.7209338 ,\n",
       "       0.7070019 , 0.64081866, 0.7202494 , 0.727617  , 0.70872176,\n",
       "       0.69139934, 0.6982113 , 0.68465525, 0.70148265, 0.68785155,\n",
       "       0.68320465, 0.71242046, 0.6151661 , 0.7015586 , 0.6671086 ,\n",
       "       0.6428145 , 0.7021723 , 0.6736733 , 0.7563835 , 0.67550987,\n",
       "       0.71429366, 0.69692343, 0.583964  , 0.7043705 , 0.7335577 ,\n",
       "       0.67704904, 0.70441145, 0.67132425, 0.69832945, 0.7209588 ,\n",
       "       0.7237016 , 0.7272999 , 0.72314644], dtype=float32)"
      ]
     },
     "execution_count": 27,
     "metadata": {},
     "output_type": "execute_result"
    }
   ],
   "source": [
    "pred"
   ]
  },
  {
   "cell_type": "markdown",
   "metadata": {},
   "source": [
    "## Backtesting"
   ]
  },
  {
   "cell_type": "markdown",
   "metadata": {},
   "source": [
    "Ok so the model is sill not improved. The return stays at 5.15% at most."
   ]
  },
  {
   "cell_type": "code",
   "execution_count": 32,
   "metadata": {},
   "outputs": [],
   "source": [
    "def optimize_cut_conservative(cuts, initialInvest, DataHelper, model, strat, n, plot=False):\n",
    "    \n",
    "    profits = []\n",
    "    for cut in cuts:\n",
    "        \n",
    "        # set cut of strateg\n",
    "        strat.cut = cut\n",
    "        \n",
    "        # set initial investment of Backtester\n",
    "        Backtester = backtester.Backtester(DataHelper, model, strat, n)\n",
    "        Backtester.initialInvest = initialInvest\n",
    "        \n",
    "        # append return\n",
    "        _, r, _ = Backtester.backtest_OOT(returnAll=False)\n",
    "        profits.append(r)\n",
    "        \n",
    "    if plot:\n",
    "        plt.plot(profits)\n",
    "        plt.show()\n",
    "        \n",
    "    return profits"
   ]
  },
  {
   "cell_type": "code",
   "execution_count": 33,
   "metadata": {},
   "outputs": [],
   "source": [
    "def optimize_initial_conservative(cuts, initialInvests, DataHelper, model, strat, n):\n",
    "    \n",
    "    results = []\n",
    "    \n",
    "    plt.figure(figsize=(10,8))\n",
    "    for initial in initialInvests:\n",
    "        profits = optimize_cut_conservative(cuts, initial, DataHelper, model, strat, n)\n",
    "        \n",
    "        # append maximum\n",
    "        ind = np.argmax(profits)\n",
    "        results.append({\"initialInvest\":initial,\"cut\":cuts[ind], \"return\": profits[ind]})\n",
    "        plt.plot(cuts, profits)\n",
    "    \n",
    "    names = [\"m:{}\".format(x) for x in initialInvests]\n",
    "    plt.legend(names, loc='upper left')\n",
    "    plt.show()\n",
    "    return results"
   ]
  },
  {
   "cell_type": "code",
   "execution_count": 34,
   "metadata": {},
   "outputs": [
    {
     "name": "stdout",
     "output_type": "stream",
     "text": [
      "This strategy chooses loans basaed on the simple epected return cut. In other words, it only invests to the loans with the model scores higher than the cut. It further filters out the selected loan by FICO score.\n"
     ]
    }
   ],
   "source": [
    "strat = investment.StrategyRegSimple(xgb)\n",
    "print(strat.description())"
   ]
  },
  {
   "cell_type": "code",
   "execution_count": 39,
   "metadata": {},
   "outputs": [
    {
     "data": {
      "text/plain": [
       "0.04879016416943205"
      ]
     },
     "execution_count": 39,
     "metadata": {},
     "output_type": "execute_result"
    }
   ],
   "source": [
    "np.log(1.05)"
   ]
  },
  {
   "cell_type": "code",
   "execution_count": 44,
   "metadata": {},
   "outputs": [],
   "source": [
    "initial = 10000\n",
    "cuts = np.array(range(20,41)) * 0.025 # [0.60.7, 0.725, 0.75, 0.775, 0.8, 0.825, 0.85, 0.875]"
   ]
  },
  {
   "cell_type": "code",
   "execution_count": 45,
   "metadata": {},
   "outputs": [
    {
     "data": {
      "image/png": "[encoded data removed]",
      "text/plain": [
       "<Figure size 432x288 with 1 Axes>"
      ]
     },
     "metadata": {
      "needs_background": "light"
     },
     "output_type": "display_data"
    },
    {
     "data": {
      "text/plain": [
       "[0.05153889943359505,\n",
       " 0.05153889943359505,\n",
       " 0.05153889943359505,\n",
       " 0.05153889943359505,\n",
       " 0.05153889943359505,\n",
       " 0.05153889943359505,\n",
       " 0.05153889943359505,\n",
       " 0.05153889943359505,\n",
       " 0.05153889943359505,\n",
       " 0.05153889943359505,\n",
       " 0.04686370414106009,\n",
       " 0.030873693157833556,\n",
       " 0.02626837011401743,\n",
       " 0.019357051458924673,\n",
       " 0.0,\n",
       " 0.0,\n",
       " 0.0,\n",
       " 0.0,\n",
       " 0.0,\n",
       " 0.0,\n",
       " 0.0]"
      ]
     },
     "execution_count": 45,
     "metadata": {},
     "output_type": "execute_result"
    }
   ],
   "source": [
    "profits = optimize_cut_conservative(cuts, initial, DataHelper, xgb, strat, 1, plot=True)\n",
    "profits"
   ]
  },
  {
   "cell_type": "code",
   "execution_count": 47,
   "metadata": {},
   "outputs": [
    {
     "data": {
      "image/png": "[encoded data removed]",
      "text/plain": [
       "<Figure size 720x576 with 1 Axes>"
      ]
     },
     "metadata": {
      "needs_background": "light"
     },
     "output_type": "display_data"
    },
    {
     "data": {
      "text/plain": [
       "[{'initialInvest': 10000, 'cut': 0.6, 'return': 0.05153889943359505},\n",
       " {'initialInvest': 20000, 'cut': 0.6, 'return': 0.04745661737736196},\n",
       " {'initialInvest': 30000, 'cut': 0.6, 'return': 0.045097731580849766},\n",
       " {'initialInvest': 40000, 'cut': 0.6, 'return': 0.043935740638908025},\n",
       " {'initialInvest': 50000, 'cut': 0.6, 'return': 0.04225228207824488}]"
      ]
     },
     "execution_count": 47,
     "metadata": {},
     "output_type": "execute_result"
    }
   ],
   "source": [
    "initialInvests = np.array(range(1,6)) * 10000\n",
    "cuts = [0.6, 0.625, 0.65, 0.675, 0.7, 0.725, 0.75, 0.775, 0.8, 0.825]\n",
    "profits = optimize_initial_conservative(cuts, initialInvests, DataHelper, xgb, strat, 1)\n",
    "profits"
   ]
  }
 ],
 "metadata": {
  "kernelspec": {
   "display_name": "Python 3",
   "language": "python",
   "name": "python3"
  },
  "language_info": {
   "codemirror_mode": {
    "name": "ipython",
    "version": 3
   },
   "file_extension": ".py",
   "mimetype": "text/x-python",
   "name": "python",
   "nbconvert_exporter": "python",
   "pygments_lexer": "ipython3",
   "version": "3.7.1"
  }
 },
 "nbformat": 4,
 "nbformat_minor": 2
}
