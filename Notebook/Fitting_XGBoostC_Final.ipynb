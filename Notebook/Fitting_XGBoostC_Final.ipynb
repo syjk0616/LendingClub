{
 "cells": [
  {
   "cell_type": "markdown",
   "metadata": {},
   "source": [
    "# Fitting XGBoost Classifier for Production"
   ]
  },
  {
   "cell_type": "code",
   "execution_count": 1,
   "metadata": {},
   "outputs": [],
   "source": [
    "import os\n",
    "\n",
    "# set dir by hardcode to run in crontab\n",
    "os.chdir(\"/home/jacob/Project/LendingClub/\")\n",
    "\n",
    "import Data_Helper as DH\n",
    "import lendingclub\n",
    "import prediction\n",
    "import numpy as np\n",
    "import pandas as pd\n",
    "import json\n",
    "import time\n",
    "import sklearn\n",
    "from sklearn.model_selection import KFold\n",
    "from sklearn.preprocessing import StandardScaler\n",
    "import matplotlib.pyplot as plt\n",
    "\n",
    "import warnings\n",
    "warnings.filterwarnings('ignore')\n",
    "\n",
    "pd.options.mode.chained_assignment = None  # default='warn'\n",
    "%load_ext autoreload\n",
    "%autoreload 2"
   ]
  },
  {
   "cell_type": "markdown",
   "metadata": {},
   "source": [
    "## Instantiate Objects"
   ]
  },
  {
   "cell_type": "code",
   "execution_count": 2,
   "metadata": {},
   "outputs": [],
   "source": [
    "# initialize config object\n",
    "config = lendingclub.ConfigData(\"config_data.ini\")\n",
    "\n",
    "# initialize lendingclup api object\n",
    "lc = lendingclub.LendingClub(config)\n",
    "\n",
    "# initialize data transformer\n",
    "transformer = DH.Transformer_full()\n",
    "\n",
    "# initialize DataHelper\n",
    "periodStart = (\"Q1\", \"2014\")\n",
    "periodEnd = (\"Q2\", \"2017\")\n",
    "DataHelper = DH.DataHelper(periodStart, periodEnd, transformer, lc)"
   ]
  },
  {
   "cell_type": "code",
   "execution_count": 3,
   "metadata": {},
   "outputs": [],
   "source": [
    "# set training data\n",
    "DataHelper.set_training_dataset()"
   ]
  },
  {
   "cell_type": "code",
   "execution_count": 4,
   "metadata": {},
   "outputs": [],
   "source": [
    "# set test data\n",
    "DataHelper.set_test_dataset([\"LoanStats_2017Q3.csv\", \"LoanStats_2017Q4.csv\"])"
   ]
  },
  {
   "cell_type": "markdown",
   "metadata": {},
   "source": [
    "### Check GPU works"
   ]
  },
  {
   "cell_type": "code",
   "execution_count": 5,
   "metadata": {},
   "outputs": [],
   "source": [
    "# instantiate our model\n",
    "xgb = prediction.ModelXGBClassfication()"
   ]
  },
  {
   "cell_type": "code",
   "execution_count": 6,
   "metadata": {},
   "outputs": [],
   "source": [
    "# get training/test for this model\n",
    "training, test = xgb.get_data_for_model(DataHelper.training, DataHelper.test)"
   ]
  },
  {
   "cell_type": "code",
   "execution_count": 8,
   "metadata": {},
   "outputs": [],
   "source": [
    "param = {\n",
    "    \"n_estimators\": 500,\n",
    "    \"tree_method\": 'auto',\n",
    "    \"learning_rate\": 0.01,\n",
    "    \"max_depth\": 6, \n",
    "    \"min_child_weight\": 1,\n",
    "    \"gamma\": 0,\n",
    "    \"subsample\": 0.8,\n",
    "    \"colsample_bytree\": 0.8,\n",
    "    \"reg_alpha\": 0\n",
    "}"
   ]
  },
  {
   "cell_type": "code",
   "execution_count": 10,
   "metadata": {},
   "outputs": [
    {
     "name": "stdout",
     "output_type": "stream",
     "text": [
      "auto:  504.3838245868683\n"
     ]
    }
   ],
   "source": [
    "# Check time - auto\n",
    "start = time.time()\n",
    "model1 = xgb.fit_model(training, **param)\n",
    "end = time.time()\n",
    "print(\"auto: \", end - start)"
   ]
  },
  {
   "cell_type": "code",
   "execution_count": 11,
   "metadata": {},
   "outputs": [
    {
     "name": "stdout",
     "output_type": "stream",
     "text": [
      "hist:  104.48555731773376\n"
     ]
    }
   ],
   "source": [
    "param[\"tree_method\"]= 'hist'\n",
    "\n",
    "# Check time - auto\n",
    "start = time.time()\n",
    "model2 = xgb.fit_model(training, **param)\n",
    "end = time.time()\n",
    "print(\"hist: \", end - start)"
   ]
  },
  {
   "cell_type": "code",
   "execution_count": 12,
   "metadata": {},
   "outputs": [
    {
     "name": "stdout",
     "output_type": "stream",
     "text": [
      "gpu_hist:  71.94746828079224\n"
     ]
    }
   ],
   "source": [
    "param[\"tree_method\"]= 'gpu_hist'\n",
    "\n",
    "# Check time - auto\n",
    "start = time.time()\n",
    "model3 = xgb.fit_model(training, **param)\n",
    "end = time.time()\n",
    "print(\"gpu_hist: \", end - start)"
   ]
  },
  {
   "cell_type": "markdown",
   "metadata": {},
   "source": [
    "## FItting"
   ]
  },
  {
   "cell_type": "markdown",
   "metadata": {},
   "source": [
    "### Quick train for n_estimators"
   ]
  },
  {
   "cell_type": "code",
   "execution_count": 5,
   "metadata": {},
   "outputs": [],
   "source": [
    "# instantiate our model\n",
    "xgb = prediction.ModelXGBClassfication()"
   ]
  },
  {
   "cell_type": "code",
   "execution_count": 6,
   "metadata": {},
   "outputs": [],
   "source": [
    "# get training/test for this model\n",
    "training, test = xgb.get_data_for_model(DataHelper.training, DataHelper.test)"
   ]
  },
  {
   "cell_type": "code",
   "execution_count": 7,
   "metadata": {},
   "outputs": [],
   "source": [
    "# get CVs\n",
    "CVs = DataHelper.get_cross_validation_data(fold=5)"
   ]
  },
  {
   "cell_type": "code",
   "execution_count": 11,
   "metadata": {},
   "outputs": [],
   "source": [
    "# tree_method - gpu_hist\n",
    "param = {\n",
    "    \"n_estimators\": 5000,\n",
    "    \"tree_method\": 'hist',\n",
    "    \"learning_rate\": 0.01,\n",
    "    \"max_depth\": 6, \n",
    "    \"min_child_weight\": 1,\n",
    "    \"gamma\": 0,\n",
    "    \"subsample\": 0.8,\n",
    "    \"colsample_bytree\": 0.8,\n",
    "    \"reg_alpha\": 0,\n",
    "}"
   ]
  },
  {
   "cell_type": "code",
   "execution_count": 12,
   "metadata": {},
   "outputs": [
    {
     "name": "stdout",
     "output_type": "stream",
     "text": [
      "tree_method: hist\n",
      "stop at 4157 test-mean-auc: 0.7113, test-std-auc: 0.0014\n",
      "hist:  3761.4613342285156\n"
     ]
    }
   ],
   "source": [
    "# Check time - auto\n",
    "start = time.time()\n",
    "print(\"tree_method: hist\")\n",
    "param[\"n_estimators\"] = xgb.fit_n_estimator(training, 5, 50, **param)\n",
    "end = time.time()\n",
    "print(\"hist: \", end - start)"
   ]
  },
  {
   "cell_type": "code",
   "execution_count": 13,
   "metadata": {},
   "outputs": [],
   "source": [
    "# tree_method - gpu_hist\n",
    "param = {\n",
    "    \"n_estimators\": 5000,\n",
    "    \"tree_method\": 'auto',\n",
    "    \"learning_rate\": 0.01,\n",
    "    \"max_depth\": 6, \n",
    "    \"min_child_weight\": 1,\n",
    "    \"gamma\": 0,\n",
    "    \"subsample\": 0.8,\n",
    "    \"colsample_bytree\": 0.8,\n",
    "    \"reg_alpha\": 0,\n",
    "}"
   ]
  },
  {
   "cell_type": "code",
   "execution_count": 14,
   "metadata": {},
   "outputs": [
    {
     "name": "stdout",
     "output_type": "stream",
     "text": [
      "tree_method: auto\n",
      "stop at 3751 test-mean-auc: 0.7108, test-std-auc: 0.0015\n",
      "auto:  12752.929230690002\n"
     ]
    }
   ],
   "source": [
    "# Check time - auto\n",
    "start = time.time()\n",
    "print(\"tree_method: auto\")\n",
    "param[\"n_estimators\"] = xgb.fit_n_estimator(training, 5, 50, **param)\n",
    "end = time.time()\n",
    "print(\"auto: \", end - start)"
   ]
  },
  {
   "cell_type": "markdown",
   "metadata": {},
   "source": [
    "### max_depth and min_child_weight"
   ]
  },
  {
   "cell_type": "code",
   "execution_count": 15,
   "metadata": {},
   "outputs": [],
   "source": [
    "# tree_method - gpu_hist\n",
    "param = {\n",
    "    \"n_estimators\": 4157,\n",
    "    \"tree_method\": 'gpu_hist',\n",
    "    \"learning_rate\": 0.01,\n",
    "    \"max_depth\": 6, \n",
    "    \"min_child_weight\": 1,\n",
    "    \"gamma\": 0,\n",
    "    \"subsample\": 0.8,\n",
    "    \"colsample_bytree\": 0.8,\n",
    "    \"reg_alpha\": 0,\n",
    "}"
   ]
  },
  {
   "cell_type": "code",
   "execution_count": 16,
   "metadata": {},
   "outputs": [],
   "source": [
    "param_CV = {x:[y] for x,y in param.items()}\n",
    "param_CV[\"max_depth\"] = list(range(3,10,2))\n",
    "param_CV[\"min_child_weight\"] = list(range(1,6,2))\n",
    "grids = xgb.construct_grids(**param_CV)"
   ]
  },
  {
   "cell_type": "code",
   "execution_count": 17,
   "metadata": {},
   "outputs": [],
   "source": [
    "# tune parameters with CV\n",
    "scores = xgb.tune_parameters(DataHelper.training, CVs, grids, verbose=False)"
   ]
  },
  {
   "cell_type": "code",
   "execution_count": 18,
   "metadata": {},
   "outputs": [
    {
     "name": "stdout",
     "output_type": "stream",
     "text": [
      "0.7120979147457243\n",
      "max_depth: 7, min_child_weight: 3\n"
     ]
    }
   ],
   "source": [
    "# choose best Grid\n",
    "scores, avg_score, param = xgb.best_grid(scores, \"AUC\")\n",
    "print(avg_score)\n",
    "print(\"max_depth: {}, min_child_weight: {}\".format(param[\"max_depth\"], param[\"min_child_weight\"]))"
   ]
  },
  {
   "cell_type": "markdown",
   "metadata": {},
   "source": [
    "Further tuning"
   ]
  },
  {
   "cell_type": "code",
   "execution_count": 19,
   "metadata": {},
   "outputs": [],
   "source": [
    "param_CV = {x:[y] for x,y in param.items()}\n",
    "param_CV[\"max_depth\"] = [6,7,8]\n",
    "param_CV[\"min_child_weight\"] = [2,3,4]\n",
    "grids = xgb.construct_grids(**param_CV)"
   ]
  },
  {
   "cell_type": "code",
   "execution_count": 20,
   "metadata": {},
   "outputs": [],
   "source": [
    "# tune parameters with CV\n",
    "scores = xgb.tune_parameters(DataHelper.training, CVs, grids, verbose=False)"
   ]
  },
  {
   "cell_type": "code",
   "execution_count": 21,
   "metadata": {},
   "outputs": [
    {
     "name": "stdout",
     "output_type": "stream",
     "text": [
      "0.7120946391633233\n",
      "max_depth: 7, min_child_weight: 2\n"
     ]
    }
   ],
   "source": [
    "# choose best Grid\n",
    "scores, avg_score, param = xgb.best_grid(scores, \"AUC\")\n",
    "print(avg_score)\n",
    "print(\"max_depth: {}, min_child_weight: {}\".format(param[\"max_depth\"], param[\"min_child_weight\"]))"
   ]
  },
  {
   "cell_type": "markdown",
   "metadata": {},
   "source": [
    "## Tune Gamma"
   ]
  },
  {
   "cell_type": "code",
   "execution_count": 22,
   "metadata": {},
   "outputs": [],
   "source": [
    "param_CV = {x:[y] for x,y in param.items()}\n",
    "param_CV[\"gamma\"] = [i/10.0 for i in range(0,5)]\n",
    "grids = xgb.construct_grids(**param_CV)"
   ]
  },
  {
   "cell_type": "code",
   "execution_count": 23,
   "metadata": {},
   "outputs": [],
   "source": [
    "# tune parameters with CV\n",
    "scores = xgb.tune_parameters(DataHelper.training, CVs, grids, verbose=False)"
   ]
  },
  {
   "cell_type": "code",
   "execution_count": 24,
   "metadata": {},
   "outputs": [
    {
     "name": "stdout",
     "output_type": "stream",
     "text": [
      "0.7120828903957634\n",
      "gamma: 0.1\n"
     ]
    }
   ],
   "source": [
    "# choose best Grid\n",
    "scores, avg_score, param = xgb.best_grid(scores, \"AUC\")\n",
    "print(avg_score)\n",
    "print(\"gamma: {}\".format(param[\"gamma\"]))"
   ]
  },
  {
   "cell_type": "code",
   "execution_count": 25,
   "metadata": {},
   "outputs": [
    {
     "data": {
      "text/plain": [
       "{'n_estimators': 4157,\n",
       " 'tree_method': 'gpu_hist',\n",
       " 'learning_rate': 0.01,\n",
       " 'max_depth': 7,\n",
       " 'min_child_weight': 2,\n",
       " 'gamma': 0.1,\n",
       " 'subsample': 0.8,\n",
       " 'colsample_bytree': 0.8,\n",
       " 'reg_alpha': 0}"
      ]
     },
     "execution_count": 25,
     "metadata": {},
     "output_type": "execute_result"
    }
   ],
   "source": [
    "param"
   ]
  },
  {
   "cell_type": "markdown",
   "metadata": {},
   "source": [
    "### Tune subsample and colsample_bytree"
   ]
  },
  {
   "cell_type": "code",
   "execution_count": 26,
   "metadata": {},
   "outputs": [],
   "source": [
    "# tree_method - gpu_hist\n",
    "param = {\n",
    "    \"n_estimators\": 4157,\n",
    "    \"tree_method\": 'gpu_hist',\n",
    "    \"learning_rate\": 0.01,\n",
    "    \"max_depth\": 7, \n",
    "    \"min_child_weight\": 3,\n",
    "    \"gamma\": 0.1,\n",
    "    \"subsample\": 0.8,\n",
    "    \"colsample_bytree\": 0.8,\n",
    "    \"reg_alpha\": 0,\n",
    "}"
   ]
  },
  {
   "cell_type": "code",
   "execution_count": 27,
   "metadata": {},
   "outputs": [],
   "source": [
    "param_CV = {x:[y] for x,y in param.items()}\n",
    "param_CV[\"subsample\"] = [i/10 for i in range(5,9)]\n",
    "param_CV[\"colsample_bytree\"] = [i/10 for i in range(5,9)]\n",
    "grids = xgb.construct_grids(**param_CV)"
   ]
  },
  {
   "cell_type": "code",
   "execution_count": 28,
   "metadata": {},
   "outputs": [],
   "source": [
    "# tune parameters with CV\n",
    "scores = xgb.tune_parameters(DataHelper.training, CVs, grids, verbose=False)"
   ]
  },
  {
   "cell_type": "code",
   "execution_count": 29,
   "metadata": {},
   "outputs": [
    {
     "name": "stdout",
     "output_type": "stream",
     "text": [
      "0.7122031198085068\n",
      "subsample: 0.7, colsample_bytree: 0.6\n"
     ]
    }
   ],
   "source": [
    "new_scores,avg_score, param = xgb.best_grid(scores, \"AUC\")\n",
    "print(avg_score)\n",
    "print(\"subsample: {}, colsample_bytree: {}\".format(param[\"subsample\"], param[\"colsample_bytree\"]))"
   ]
  },
  {
   "cell_type": "markdown",
   "metadata": {},
   "source": [
    "### Tune Regularization Parameters"
   ]
  },
  {
   "cell_type": "code",
   "execution_count": 30,
   "metadata": {},
   "outputs": [],
   "source": [
    "param_CV = {x:[y] for x,y in param.items()}\n",
    "param_CV[\"reg_alpha\"] = [0, 1e-2, 0.1]\n",
    "grids = xgb.construct_grids(**param_CV)"
   ]
  },
  {
   "cell_type": "code",
   "execution_count": 31,
   "metadata": {},
   "outputs": [],
   "source": [
    "# tune parameters with CV\n",
    "scores = xgb.tune_parameters(DataHelper.training, CVs, grids, verbose=False)"
   ]
  },
  {
   "cell_type": "code",
   "execution_count": 32,
   "metadata": {},
   "outputs": [
    {
     "name": "stdout",
     "output_type": "stream",
     "text": [
      "0.7121507644539731\n",
      "reg_alpha: 0.1\n"
     ]
    }
   ],
   "source": [
    "# choose best Grid\n",
    "scores, avg_score, param = xgb.best_grid(scores, \"AUC\")\n",
    "print(avg_score)\n",
    "print(\"reg_alpha: {}\".format(param[\"reg_alpha\"]))"
   ]
  },
  {
   "cell_type": "code",
   "execution_count": 33,
   "metadata": {},
   "outputs": [],
   "source": [
    "param_CV = {x:[y] for x,y in param.items()}\n",
    "param_CV[\"reg_alpha\"] = [0.1, 0.2]\n",
    "grids = xgb.construct_grids(**param_CV)"
   ]
  },
  {
   "cell_type": "code",
   "execution_count": 34,
   "metadata": {},
   "outputs": [],
   "source": [
    "# tune parameters with CV\n",
    "scores = xgb.tune_parameters(DataHelper.training, CVs, grids, verbose=False)"
   ]
  },
  {
   "cell_type": "code",
   "execution_count": 35,
   "metadata": {},
   "outputs": [
    {
     "name": "stdout",
     "output_type": "stream",
     "text": [
      "0.7121890657886814\n",
      "reg_alpha: 0.1\n"
     ]
    }
   ],
   "source": [
    "# choose best Grid\n",
    "scores, avg_score, param = xgb.best_grid(scores, \"AUC\")\n",
    "print(avg_score)\n",
    "print(\"reg_alpha: {}\".format(param[\"reg_alpha\"]))"
   ]
  },
  {
   "cell_type": "markdown",
   "metadata": {},
   "source": [
    "### Refit the n_estimators"
   ]
  },
  {
   "cell_type": "code",
   "execution_count": 8,
   "metadata": {},
   "outputs": [],
   "source": [
    "# tree_method - gpu_hist\n",
    "param = {\n",
    "    \"n_estimators\": 4157,\n",
    "    \"tree_method\": 'hist',\n",
    "    \"learning_rate\": 0.01,\n",
    "    \"max_depth\": 7, \n",
    "    \"min_child_weight\": 3,\n",
    "    \"gamma\": 0.1,\n",
    "    \"subsample\": 0.7,\n",
    "    \"colsample_bytree\": 0.6,\n",
    "    \"reg_alpha\": 0.1,\n",
    "}"
   ]
  },
  {
   "cell_type": "code",
   "execution_count": 9,
   "metadata": {},
   "outputs": [
    {
     "name": "stdout",
     "output_type": "stream",
     "text": [
      "stop at 3320 test-mean-auc: 0.7113, test-std-auc: 0.0014\n"
     ]
    }
   ],
   "source": [
    "param[\"n_estimators\"] = xgb.fit_n_estimator(training, 5, 50, **param)"
   ]
  },
  {
   "cell_type": "code",
   "execution_count": 10,
   "metadata": {},
   "outputs": [],
   "source": [
    "param[\"n_estimators\"] = 3320"
   ]
  },
  {
   "cell_type": "code",
   "execution_count": 11,
   "metadata": {},
   "outputs": [
    {
     "data": {
      "text/plain": [
       "{'n_estimators': 3320,\n",
       " 'tree_method': 'hist',\n",
       " 'learning_rate': 0.01,\n",
       " 'max_depth': 7,\n",
       " 'min_child_weight': 3,\n",
       " 'gamma': 0.1,\n",
       " 'subsample': 0.7,\n",
       " 'colsample_bytree': 0.6,\n",
       " 'reg_alpha': 0.1}"
      ]
     },
     "execution_count": 11,
     "metadata": {},
     "output_type": "execute_result"
    }
   ],
   "source": [
    "param"
   ]
  },
  {
   "cell_type": "markdown",
   "metadata": {},
   "source": [
    "## Fitting"
   ]
  },
  {
   "cell_type": "code",
   "execution_count": 2,
   "metadata": {},
   "outputs": [],
   "source": [
    "# initialize config object\n",
    "config = lendingclub.ConfigData(\"config_data.ini\")\n",
    "\n",
    "# initialize lendingclup api object\n",
    "lc = lendingclub.LendingClub(config)\n",
    "\n",
    "# initialize data transformer\n",
    "transformer = DH.Transformer_full()\n",
    "\n",
    "# initialize DataHelper\n",
    "periodStart = (\"Q1\", \"2014\")\n",
    "periodEnd = (\"Q2\", \"2017\")\n",
    "DataHelper = DH.DataHelper(periodStart, periodEnd, transformer, lc)"
   ]
  },
  {
   "cell_type": "code",
   "execution_count": 13,
   "metadata": {},
   "outputs": [],
   "source": [
    "# set training data\n",
    "DataHelper.set_training_dataset()"
   ]
  },
  {
   "cell_type": "code",
   "execution_count": 14,
   "metadata": {},
   "outputs": [],
   "source": [
    "# set test data\n",
    "DataHelper.set_test_dataset([\"LoanStats_2017Q3.csv\", \"LoanStats_2017Q4.csv\"])"
   ]
  },
  {
   "cell_type": "code",
   "execution_count": 15,
   "metadata": {},
   "outputs": [],
   "source": [
    "# instantiate our model\n",
    "xgb = prediction.ModelXGBClassfication()"
   ]
  },
  {
   "cell_type": "code",
   "execution_count": 16,
   "metadata": {},
   "outputs": [],
   "source": [
    "# get training/test for this model\n",
    "training, test = xgb.get_data_for_model(DataHelper.training, DataHelper.test)"
   ]
  },
  {
   "cell_type": "code",
   "execution_count": 17,
   "metadata": {},
   "outputs": [],
   "source": [
    "param = {\n",
    "    'n_estimators': 3320,\n",
    "    'tree_method': 'hist',\n",
    "    'learning_rate': 0.01,\n",
    "    'max_depth': 7,\n",
    "    'min_child_weight': 3,\n",
    "    'gamma': 0.1,\n",
    "    'subsample': 0.7,\n",
    "    'colsample_bytree': 0.6,\n",
    "    'reg_alpha': 0.1\n",
    "}"
   ]
  },
  {
   "cell_type": "code",
   "execution_count": 18,
   "metadata": {},
   "outputs": [
    {
     "name": "stdout",
     "output_type": "stream",
     "text": [
      "test score: {'score': 0.7692013675068482, 'AUC': 0.7132578127258785}\n",
      "615.8542988300323\n"
     ]
    }
   ],
   "source": [
    "# Check time\n",
    "start = time.time()\n",
    "\n",
    "model = xgb.fit_model(training, **param)\n",
    "score = xgb.test_model(test, model)\n",
    "print(\"test score:\",score)\n",
    "\n",
    "end = time.time()\n",
    "print(end - start)"
   ]
  },
  {
   "cell_type": "code",
   "execution_count": 19,
   "metadata": {},
   "outputs": [],
   "source": [
    "scaler = xgb.get_scaler(DataHelper.training)"
   ]
  },
  {
   "cell_type": "markdown",
   "metadata": {},
   "source": [
    "## Save Result"
   ]
  },
  {
   "cell_type": "code",
   "execution_count": 20,
   "metadata": {},
   "outputs": [],
   "source": [
    "filename = \"xgb_classification_20200117_Prod.sav\""
   ]
  },
  {
   "cell_type": "code",
   "execution_count": 21,
   "metadata": {},
   "outputs": [
    {
     "name": "stdout",
     "output_type": "stream",
     "text": [
      "Model is saved on xgb_classification_20200117_Prod.sav\n"
     ]
    }
   ],
   "source": [
    "xgb.save_model(model,scaler,training,filename)"
   ]
  },
  {
   "cell_type": "markdown",
   "metadata": {},
   "source": [
    "## Predict listed loan by saved model"
   ]
  },
  {
   "cell_type": "code",
   "execution_count": 3,
   "metadata": {},
   "outputs": [],
   "source": [
    "filename = \"xgb_classification_20200117_Prod.sav\""
   ]
  },
  {
   "cell_type": "code",
   "execution_count": 4,
   "metadata": {},
   "outputs": [],
   "source": [
    "# instantiate from beginning\n",
    "new_model = prediction.ModelXGBClassfication(filename)"
   ]
  },
  {
   "cell_type": "code",
   "execution_count": 5,
   "metadata": {},
   "outputs": [
    {
     "name": "stdout",
     "output_type": "stream",
     "text": [
      "Model is loaded from xgb_classification_20200117_Prod.sav\n"
     ]
    }
   ],
   "source": [
    "# update from the saved model\n",
    "new_model.set_model_from_file()"
   ]
  },
  {
   "cell_type": "code",
   "execution_count": 6,
   "metadata": {},
   "outputs": [
    {
     "data": {
      "text/plain": [
       "'XGBoost Classification Object, time: 01/17/2020, eta: 0.01, num_rounds: 3320, max_depth: 7, subsample: 0.7'"
      ]
     },
     "execution_count": 6,
     "metadata": {},
     "output_type": "execute_result"
    }
   ],
   "source": [
    "# check model description\n",
    "new_model.model_description"
   ]
  },
  {
   "cell_type": "code",
   "execution_count": 7,
   "metadata": {},
   "outputs": [
    {
     "data": {
      "text/plain": [
       "(54, 81)"
      ]
     },
     "execution_count": 7,
     "metadata": {},
     "output_type": "execute_result"
    }
   ],
   "source": [
    "# get listed loan\n",
    "loans = DataHelper.get_listed_loandata()\n",
    "loans.shape"
   ]
  },
  {
   "cell_type": "code",
   "execution_count": 8,
   "metadata": {},
   "outputs": [
    {
     "data": {
      "text/plain": [
       "(54,)"
      ]
     },
     "execution_count": 8,
     "metadata": {},
     "output_type": "execute_result"
    }
   ],
   "source": [
    "# prediction\n",
    "pred = new_model.predict_model(loans)\n",
    "pred.shape"
   ]
  },
  {
   "cell_type": "code",
   "execution_count": null,
   "metadata": {},
   "outputs": [],
   "source": []
  }
 ],
 "metadata": {
  "kernelspec": {
   "display_name": "lendingclub",
   "language": "python",
   "name": "lendingclub"
  },
  "language_info": {
   "codemirror_mode": {
    "name": "ipython",
    "version": 3
   },
   "file_extension": ".py",
   "mimetype": "text/x-python",
   "name": "python",
   "nbconvert_exporter": "python",
   "pygments_lexer": "ipython3",
   "version": "3.7.3"
  }
 },
 "nbformat": 4,
 "nbformat_minor": 2
}
